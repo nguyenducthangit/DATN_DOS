{
 "cells": [
  {
   "cell_type": "markdown",
   "metadata": {},
   "source": [
    "# 03 - Federated Learning\n"
   ]
  },
  {
   "cell_type": "markdown",
   "metadata": {},
   "source": [
    "Define the available types of federated learning.\n",
    "\n",
    "- 'STRATIFIED': Stratified sampling of the data. The data is split into a number of shards, and each shard is assigned to a client. The data is split in a stratified manner, meaning that the distribution of the labels is approximately the same in each shard.\n",
    "- 'LEAVE_ONE_OUT' - Each client is assigned a shard of data, each shard is missing one of the attack labels. Other clients in the network are exposed to the attack label, but the specific client is not. This demonstrates the ability of federated learning to protect against unknown attacks.\n",
    "- 'ONE_CLASS' - Each client is assigned a shard of data, each shard contains only one of the attack labels.\n",
    "- 'HALF_BENIGN' - Half of the clients are exposed to Benign data only, the other half are exposed to all data.\n"
   ]
  },
  {
   "cell_type": "code",
   "execution_count": 1,
   "metadata": {},
   "outputs": [],
   "source": [
    "### THIS SECTION NEEDS TO BE SET TO DETERMINE WHICH CONFIGURATION METHOD TO UTILISE\n",
    "\n",
    "SPLIT_AVAILABLE_METHODS = ['STRATIFIED','LEAVE_ONE_OUT', 'ONE_CLASS', 'HALF_BENIGN' ]\n",
    "METHOD = 'ONE_CLASS'\n",
    "NUM_OF_STRATIFIED_CLIENTS = 10  # only applies to stratified method\n",
    "NUM_OF_ROUNDS = 10              # Number of FL rounds\n"
   ]
  },
  {
   "cell_type": "markdown",
   "metadata": {},
   "source": [
    "The above test method in conjunction with the below classification selection will determine the number of clients.\n",
    "\n",
    "EG:\n",
    "`STRATIFIED` with:\n",
    "\n",
    "- `ALL TYPES` - Results in `NUM_OF_STRATIFIED_CLIENTS` clients. Each client will have a stratified sample of the data.\n",
    "\n",
    "`LEAVE_ONE_OUT` with:\n",
    "\n",
    "- `individual_classifier` - Results in 33 clients. Each client will have benign traffic and 32 attack labels.\n",
    "- `group_classifier` - Results in 7 clients. Each client will have benign traffic and 6 attack groups.\n",
    "- `binary_classifier` - Results in 10 clients. Five clients will have benign traffic only and the other will have Benign and malicious attack labels.\n",
    "\n",
    "`ONE_CLASS` with:\n",
    "\n",
    "- `individual_classifier` - Results in 33 clients. Each client will have benign traffic and 1 attack label.\n",
    "- `group_classifier` - Results in 7 clients. Each client will have benign traffic and 1 attack groups.\n",
    "- `binary_classifier` - Results in 10 clients. Five clients will have benign traffic only and the other will have Benign and malicious attack labels. - SAME AS LEAVE_ONE_OUT for binary classifier\n",
    "\n",
    "`HALF_BENIGN` with:\n",
    "\n",
    "- `individual_classifier` - Results in 10 clients. Five clients will have benign traffic only and the other will have Benign and 33 malicious attack labels.\n",
    "- `group_classifier` - Results in 10 clients. Five clients will have benign traffic only and the other will have Benign and 7 malicious attack groups.\n",
    "- `binary_classifier` - Results in 10 clients. Five clients will have benign traffic only and the other will have Benign and malicious attack labels. - SAME AS LEAVE_ONE_OUT for binary classifier\n"
   ]
  },
  {
   "cell_type": "code",
   "execution_count": 2,
   "metadata": {},
   "outputs": [],
   "source": [
    "\n",
    "individual_classifier = False\n",
    "group_classifier = False\n",
    "binary_classifier = True"
   ]
  },
  {
   "cell_type": "markdown",
   "metadata": {},
   "source": [
    "Include the defines for the dataframe columns and the attack labels and their mappings\n"
   ]
  },
  {
   "cell_type": "code",
   "execution_count": 3,
   "metadata": {},
   "outputs": [],
   "source": [
    "from enum import Enum\n",
    "from includes import *"
   ]
  },
  {
   "cell_type": "markdown",
   "metadata": {},
   "source": [
    "## Imports\n"
   ]
  },
  {
   "cell_type": "code",
   "execution_count": 4,
   "metadata": {},
   "outputs": [],
   "source": [
    "%%capture\n",
    "%pip install flwr[simulation] torch torchvision matplotlib sklearn openml"
   ]
  },
  {
   "cell_type": "code",
   "execution_count": 5,
   "metadata": {},
   "outputs": [
    {
     "name": "stderr",
     "output_type": "stream",
     "text": [
      "2025-06-29 03:15:04.085108: I tensorflow/core/platform/cpu_feature_guard.cc:210] This TensorFlow binary is optimized to use available CPU instructions in performance-critical operations.\n",
      "To enable the following instructions: AVX2 AVX512F AVX512_VNNI FMA, in other operations, rebuild TensorFlow with the appropriate compiler flags.\n",
      "/Users/user/Library/Python/3.9/lib/python/site-packages/urllib3/__init__.py:35: NotOpenSSLWarning: urllib3 v2 only supports OpenSSL 1.1.1+, currently the 'ssl' module is compiled with 'LibreSSL 2.8.3'. See: https://github.com/urllib3/urllib3/issues/3020\n",
      "  warnings.warn(\n",
      "/Users/user/Library/Python/3.9/lib/python/site-packages/tqdm/auto.py:21: TqdmWarning: IProgress not found. Please update jupyter and ipywidgets. See https://ipywidgets.readthedocs.io/en/stable/user_install.html\n",
      "  from .autonotebook import tqdm as notebook_tqdm\n",
      "2025-06-29 03:15:14,718\tINFO util.py:154 -- Missing packages: ['ipywidgets']. Run `pip install -U ipywidgets`, then restart the notebook server for rich notebook output.\n"
     ]
    }
   ],
   "source": [
    "import os\n",
    "import pandas as pd\n",
    "import numpy as np\n",
    "import flwr as fl\n",
    "from tqdm import tqdm\n",
    "import warnings\n",
    "#warnings.filterwarnings('ignore')\n",
    "\n",
    "import sklearn\n",
    "from sklearn.linear_model import LogisticRegression\n",
    "from sklearn import preprocessing\n",
    "from sklearn.utils import shuffle\n",
    "from sklearn.model_selection import train_test_split\n",
    "from sklearn.preprocessing import StandardScaler\n",
    "from sklearn.preprocessing import MinMaxScaler\n",
    "from sklearn.metrics import classification_report\n",
    "from sklearn.metrics import confusion_matrix\n",
    "from sklearn.metrics import accuracy_score\n",
    "\n",
    "import torch\n",
    "import torch.nn as nn\n",
    "import torch.nn.functional as F\n",
    "import torchvision.transforms as transforms\n",
    "from flwr.common import Metrics\n",
    "from torch.utils.data import DataLoader, random_split\n"
   ]
  },
  {
   "cell_type": "code",
   "execution_count": 6,
   "metadata": {},
   "outputs": [
    {
     "name": "stdout",
     "output_type": "stream",
     "text": [
      "flwr 1.18.0\n",
      "numpy 1.26.4\n",
      "torch 2.2.2\n",
      "Training on cpu\n"
     ]
    }
   ],
   "source": [
    "print(\"flwr\", fl.__version__)\n",
    "print(\"numpy\", np.__version__)\n",
    "print(\"torch\", torch.__version__)\n",
    "\n",
    "DEVICE = torch.device(\"cuda:0\" if torch.cuda.is_available() else \"cpu\")\n",
    "print(f\"Training on {DEVICE}\")"
   ]
  },
  {
   "cell_type": "markdown",
   "metadata": {},
   "source": [
    "## Load the Dataset\n"
   ]
  },
  {
   "cell_type": "code",
   "execution_count": 7,
   "metadata": {},
   "outputs": [],
   "source": [
    "DATASET_DIRECTORY = './Dataset/'"
   ]
  },
  {
   "cell_type": "markdown",
   "metadata": {},
   "source": [
    "## Training data\n"
   ]
  },
  {
   "cell_type": "markdown",
   "metadata": {},
   "source": [
    "Either read the training pickle file if it exists, or process the dataset from scratch.\n"
   ]
  },
  {
   "cell_type": "code",
   "execution_count": 8,
   "metadata": {},
   "outputs": [
    {
     "name": "stdout",
     "output_type": "stream",
     "text": [
      "Training sets: 132\n",
      "Test sets: 34\n",
      "Reading training data...\n"
     ]
    },
    {
     "name": "stderr",
     "output_type": "stream",
     "text": [
      "100%|██████████| 132/132 [03:16<00:00,  1.49s/it]\n"
     ]
    },
    {
     "name": "stdout",
     "output_type": "stream",
     "text": [
      "Complete training data size: (35613668, 47)\n",
      "Splitting the data into 10.0%\n",
      "Writing training data to pickle file...\n",
      "Training data size: (3561366, 47)\n"
     ]
    }
   ],
   "source": [
    "if os.path.isfile('training_data.pkl'):\n",
    "    print(\"File exists, loading data...\")\n",
    "    train_df = pd.read_pickle('training_data.pkl')\n",
    "    print(\"Training data loaded from pickle file.\")\n",
    "else:\n",
    "    df_sets = [k for k in os.listdir(DATASET_DIRECTORY) if k.endswith('.csv')]\n",
    "    df_sets.sort()\n",
    "    training_sets = df_sets[:int(len(df_sets)*.8)]\n",
    "    test_sets = df_sets[int(len(df_sets)*.8):]\n",
    "\n",
    "    # Print the number of files in each set\n",
    "    print('Training sets: {}'.format(len(training_sets)))\n",
    "    print('Test sets: {}'.format(len(test_sets)))\n",
    "\n",
    "    # Concatenate all training sets into one dataframe\n",
    "    dfs = []\n",
    "    print(\"Reading training data...\")\n",
    "    for train_set in tqdm(training_sets):\n",
    "        df_new = pd.read_csv(DATASET_DIRECTORY + train_set)\n",
    "        dfs.append(df_new)\n",
    "    train_df = pd.concat(dfs, ignore_index=True)\n",
    "\n",
    "    # Complete training data set size\n",
    "    print(\"Complete training data size: {}\".format(train_df.shape))\n",
    "\n",
    "    # Map y column to the dict_34_classes values - The pickle file already has this done.\n",
    "    train_df['label'] = train_df['label'].map(dict_34_classes)\n",
    "    \n",
    "    # Percentage of original training data to use.\n",
    "    TRAIN_SIZE = 0.1\n",
    "    \n",
    "    print(f\"Splitting the data into {TRAIN_SIZE*100}%\")\n",
    "    \n",
    "    X_train, X_test, y_train, y_test = train_test_split(train_df[X_columns], train_df[y_column], test_size= (1 - TRAIN_SIZE), random_state=42, stratify=train_df[y_column])\n",
    "\n",
    "    # Recombine X_train, and y_train into a dataframe\n",
    "    train_df = pd.concat([X_train, y_train], axis=1)\n",
    "\n",
    "    # Clean up unused variables\n",
    "\n",
    "    del X_train, y_train, X_test, y_test\n",
    "    \n",
    "    print(\"Writing training data to pickle file...\")\n",
    "    train_df.to_pickle('training_data.pkl')\n",
    "\n",
    "print(\"Training data size: {}\".format(train_df.shape))\n"
   ]
  },
  {
   "cell_type": "code",
   "execution_count": 9,
   "metadata": {},
   "outputs": [
    {
     "name": "stdout",
     "output_type": "stream",
     "text": [
      "Counts of attacks in train_df:\n",
      "label\n",
      "6     7008\n",
      "4     5297\n",
      "5     4411\n",
      "2     4058\n",
      "3     3997\n",
      "1     3970\n",
      "7     3499\n",
      "13    3246\n",
      "15    2596\n",
      "14    1959\n",
      "0     1080\n",
      "17     974\n",
      "19     897\n",
      "18     736\n",
      "10     451\n",
      "26     305\n",
      "8      289\n",
      "9      288\n",
      "25     175\n",
      "24     135\n",
      "21      94\n",
      "22      83\n",
      "16      76\n",
      "23      35\n",
      "12      30\n",
      "11      21\n",
      "33      12\n",
      "31       6\n",
      "27       6\n",
      "32       5\n",
      "28       4\n",
      "29       3\n",
      "20       2\n",
      "30       1\n",
      "Name: count, dtype: int64\n"
     ]
    }
   ],
   "source": [
    "# show the unique values counts in the label column for train_df\n",
    "print(\"Counts of attacks in train_df:\")\n",
    "print(train_df['label'].value_counts())"
   ]
  },
  {
   "cell_type": "code",
   "execution_count": 10,
   "metadata": {},
   "outputs": [
    {
     "data": {
      "text/html": [
       "<div>\n",
       "<style scoped>\n",
       "    .dataframe tbody tr th:only-of-type {\n",
       "        vertical-align: middle;\n",
       "    }\n",
       "\n",
       "    .dataframe tbody tr th {\n",
       "        vertical-align: top;\n",
       "    }\n",
       "\n",
       "    .dataframe thead th {\n",
       "        text-align: right;\n",
       "    }\n",
       "</style>\n",
       "<table border=\"1\" class=\"dataframe\">\n",
       "  <thead>\n",
       "    <tr style=\"text-align: right;\">\n",
       "      <th></th>\n",
       "      <th>flow_duration</th>\n",
       "      <th>Header_Length</th>\n",
       "      <th>Protocol Type</th>\n",
       "      <th>Duration</th>\n",
       "      <th>Rate</th>\n",
       "      <th>Srate</th>\n",
       "      <th>Drate</th>\n",
       "      <th>fin_flag_number</th>\n",
       "      <th>syn_flag_number</th>\n",
       "      <th>rst_flag_number</th>\n",
       "      <th>...</th>\n",
       "      <th>Std</th>\n",
       "      <th>Tot size</th>\n",
       "      <th>IAT</th>\n",
       "      <th>Number</th>\n",
       "      <th>Magnitue</th>\n",
       "      <th>Radius</th>\n",
       "      <th>Covariance</th>\n",
       "      <th>Variance</th>\n",
       "      <th>Weight</th>\n",
       "      <th>label</th>\n",
       "    </tr>\n",
       "  </thead>\n",
       "  <tbody>\n",
       "    <tr>\n",
       "      <th>296519</th>\n",
       "      <td>0.000000</td>\n",
       "      <td>54.00</td>\n",
       "      <td>6.00</td>\n",
       "      <td>64.00</td>\n",
       "      <td>1.999744</td>\n",
       "      <td>1.999744</td>\n",
       "      <td>0.0</td>\n",
       "      <td>0.0</td>\n",
       "      <td>0.0</td>\n",
       "      <td>0.0</td>\n",
       "      <td>...</td>\n",
       "      <td>0.000000</td>\n",
       "      <td>54.00</td>\n",
       "      <td>8.306852e+07</td>\n",
       "      <td>9.5</td>\n",
       "      <td>10.392305</td>\n",
       "      <td>0.000000</td>\n",
       "      <td>0.000000</td>\n",
       "      <td>0.00</td>\n",
       "      <td>141.55</td>\n",
       "      <td>5</td>\n",
       "    </tr>\n",
       "    <tr>\n",
       "      <th>55514</th>\n",
       "      <td>0.000000</td>\n",
       "      <td>0.00</td>\n",
       "      <td>1.00</td>\n",
       "      <td>64.00</td>\n",
       "      <td>13.745034</td>\n",
       "      <td>13.745034</td>\n",
       "      <td>0.0</td>\n",
       "      <td>0.0</td>\n",
       "      <td>0.0</td>\n",
       "      <td>0.0</td>\n",
       "      <td>...</td>\n",
       "      <td>0.000000</td>\n",
       "      <td>42.00</td>\n",
       "      <td>8.314963e+07</td>\n",
       "      <td>9.5</td>\n",
       "      <td>9.165151</td>\n",
       "      <td>0.000000</td>\n",
       "      <td>0.000000</td>\n",
       "      <td>0.00</td>\n",
       "      <td>141.55</td>\n",
       "      <td>6</td>\n",
       "    </tr>\n",
       "    <tr>\n",
       "      <th>250771</th>\n",
       "      <td>0.000000</td>\n",
       "      <td>0.00</td>\n",
       "      <td>47.00</td>\n",
       "      <td>64.00</td>\n",
       "      <td>10.150477</td>\n",
       "      <td>10.150477</td>\n",
       "      <td>0.0</td>\n",
       "      <td>0.0</td>\n",
       "      <td>0.0</td>\n",
       "      <td>0.0</td>\n",
       "      <td>...</td>\n",
       "      <td>0.000000</td>\n",
       "      <td>592.00</td>\n",
       "      <td>8.368107e+07</td>\n",
       "      <td>9.5</td>\n",
       "      <td>34.409301</td>\n",
       "      <td>0.000000</td>\n",
       "      <td>0.000000</td>\n",
       "      <td>0.00</td>\n",
       "      <td>141.55</td>\n",
       "      <td>17</td>\n",
       "    </tr>\n",
       "    <tr>\n",
       "      <th>392529</th>\n",
       "      <td>0.252713</td>\n",
       "      <td>20998.73</td>\n",
       "      <td>16.78</td>\n",
       "      <td>64.00</td>\n",
       "      <td>4164.637934</td>\n",
       "      <td>4164.637934</td>\n",
       "      <td>0.0</td>\n",
       "      <td>0.0</td>\n",
       "      <td>0.0</td>\n",
       "      <td>0.0</td>\n",
       "      <td>...</td>\n",
       "      <td>22.137532</td>\n",
       "      <td>55.49</td>\n",
       "      <td>8.312387e+07</td>\n",
       "      <td>9.5</td>\n",
       "      <td>10.596516</td>\n",
       "      <td>31.347346</td>\n",
       "      <td>3345.013538</td>\n",
       "      <td>0.16</td>\n",
       "      <td>141.55</td>\n",
       "      <td>4</td>\n",
       "    </tr>\n",
       "    <tr>\n",
       "      <th>230400</th>\n",
       "      <td>0.000000</td>\n",
       "      <td>53.46</td>\n",
       "      <td>5.94</td>\n",
       "      <td>63.36</td>\n",
       "      <td>12.444320</td>\n",
       "      <td>12.444320</td>\n",
       "      <td>0.0</td>\n",
       "      <td>0.0</td>\n",
       "      <td>1.0</td>\n",
       "      <td>0.0</td>\n",
       "      <td>...</td>\n",
       "      <td>0.185955</td>\n",
       "      <td>54.06</td>\n",
       "      <td>8.336185e+07</td>\n",
       "      <td>9.5</td>\n",
       "      <td>10.397389</td>\n",
       "      <td>0.263434</td>\n",
       "      <td>0.292861</td>\n",
       "      <td>0.12</td>\n",
       "      <td>141.55</td>\n",
       "      <td>7</td>\n",
       "    </tr>\n",
       "  </tbody>\n",
       "</table>\n",
       "<p>5 rows × 47 columns</p>\n",
       "</div>"
      ],
      "text/plain": [
       "        flow_duration  Header_Length  Protocol Type  Duration         Rate  \\\n",
       "296519       0.000000          54.00           6.00     64.00     1.999744   \n",
       "55514        0.000000           0.00           1.00     64.00    13.745034   \n",
       "250771       0.000000           0.00          47.00     64.00    10.150477   \n",
       "392529       0.252713       20998.73          16.78     64.00  4164.637934   \n",
       "230400       0.000000          53.46           5.94     63.36    12.444320   \n",
       "\n",
       "              Srate  Drate  fin_flag_number  syn_flag_number  rst_flag_number  \\\n",
       "296519     1.999744    0.0              0.0              0.0              0.0   \n",
       "55514     13.745034    0.0              0.0              0.0              0.0   \n",
       "250771    10.150477    0.0              0.0              0.0              0.0   \n",
       "392529  4164.637934    0.0              0.0              0.0              0.0   \n",
       "230400    12.444320    0.0              0.0              1.0              0.0   \n",
       "\n",
       "        ...        Std  Tot size           IAT  Number   Magnitue     Radius  \\\n",
       "296519  ...   0.000000     54.00  8.306852e+07     9.5  10.392305   0.000000   \n",
       "55514   ...   0.000000     42.00  8.314963e+07     9.5   9.165151   0.000000   \n",
       "250771  ...   0.000000    592.00  8.368107e+07     9.5  34.409301   0.000000   \n",
       "392529  ...  22.137532     55.49  8.312387e+07     9.5  10.596516  31.347346   \n",
       "230400  ...   0.185955     54.06  8.336185e+07     9.5  10.397389   0.263434   \n",
       "\n",
       "         Covariance  Variance  Weight  label  \n",
       "296519     0.000000      0.00  141.55      5  \n",
       "55514      0.000000      0.00  141.55      6  \n",
       "250771     0.000000      0.00  141.55     17  \n",
       "392529  3345.013538      0.16  141.55      4  \n",
       "230400     0.292861      0.12  141.55      7  \n",
       "\n",
       "[5 rows x 47 columns]"
      ]
     },
     "execution_count": 10,
     "metadata": {},
     "output_type": "execute_result"
    }
   ],
   "source": [
    "train_df.head()"
   ]
  },
  {
   "cell_type": "markdown",
   "metadata": {},
   "source": [
    "---\n",
    "\n",
    "## Test Data\n",
    "\n",
    "Concat the test data into a single dataframe\n"
   ]
  },
  {
   "cell_type": "code",
   "execution_count": 11,
   "metadata": {},
   "outputs": [
    {
     "name": "stdout",
     "output_type": "stream",
     "text": [
      "File testing_data.pkl exists, loading data...\n",
      "Test data loaded from pickle file.\n",
      "Testing data size: (275258, 47)\n"
     ]
    }
   ],
   "source": [
    "testing_data_pickle_file = 'testing_data.pkl'\n",
    "\n",
    "if os.path.isfile(testing_data_pickle_file):\n",
    "    print(f\"File {testing_data_pickle_file} exists, loading data...\")\n",
    "    test_df = pd.read_pickle(testing_data_pickle_file)\n",
    "    print(\"Test data loaded from pickle file.\")\n",
    "\n",
    "else:\n",
    "    print(f\"File {testing_data_pickle_file} does not exist, constructing data...\")\n",
    "\n",
    "    df_sets = [k for k in os.listdir(DATASET_DIRECTORY) if k.endswith('.csv')]\n",
    "    df_sets.sort()\n",
    "    training_sets = df_sets[:int(len(df_sets)*.8)]\n",
    "    test_sets = df_sets[int(len(df_sets)*.8):]\n",
    "\n",
    "    # Print the number of files in each set\n",
    "    print('Test sets: {}'.format(len(test_sets)))\n",
    "    \n",
    "    dfs = []\n",
    "    print(\"Reading test data...\")\n",
    "    for test_set in tqdm(test_sets):\n",
    "        df_new = pd.read_csv(DATASET_DIRECTORY + test_set)\n",
    "        dfs.append(df_new)\n",
    "    test_df = pd.concat(dfs, ignore_index=True)\n",
    "\n",
    "    test_df['label'] = test_df['label'].map(dict_34_classes)\n",
    "\n",
    "    # Save the output to a pickle file\n",
    "    print(f\"Writing test data to pickle file {testing_data_pickle_file}...\")\n",
    "    test_df.to_pickle(testing_data_pickle_file)\n",
    "\n",
    "print(\"Testing data size: {}\".format(test_df.shape))"
   ]
  },
  {
   "cell_type": "code",
   "execution_count": 12,
   "metadata": {},
   "outputs": [
    {
     "name": "stdout",
     "output_type": "stream",
     "text": [
      "Number of rows in train_df: 45749\n",
      "Number of rows in test_df: 275258\n"
     ]
    }
   ],
   "source": [
    "print(\"Number of rows in train_df: {}\".format(len(train_df)))\n",
    "print(\"Number of rows in test_df: {}\".format(len(test_df)))\n",
    "\n",
    "train_size = len(train_df)\n",
    "test_size = len(test_df)"
   ]
  },
  {
   "cell_type": "markdown",
   "metadata": {},
   "source": [
    "---\n",
    "\n",
    "# Scale the test and train data\n"
   ]
  },
  {
   "cell_type": "markdown",
   "metadata": {},
   "source": [
    "### Scale the training data input features\n"
   ]
  },
  {
   "cell_type": "code",
   "execution_count": 13,
   "metadata": {},
   "outputs": [],
   "source": [
    "scaler = StandardScaler()\n",
    "train_df[X_columns] = scaler.fit_transform(train_df[X_columns])"
   ]
  },
  {
   "cell_type": "markdown",
   "metadata": {},
   "source": [
    "### Scale the testing data input features\n"
   ]
  },
  {
   "cell_type": "code",
   "execution_count": 14,
   "metadata": {},
   "outputs": [],
   "source": [
    "test_df[X_columns] = scaler.fit_transform(test_df[X_columns])"
   ]
  },
  {
   "cell_type": "markdown",
   "metadata": {},
   "source": [
    "---\n",
    "\n",
    "# Define the classification problem - (2 classes, 8 classes or 34 classes)\n",
    "\n",
    "Change the following cell to select the classification type\n",
    "\n",
    "If the METHOD == STRATIFIED, then we can use any classifier\n",
    "If the METHOD == ATTACK_GROUP then we must use Group Classifier.\n"
   ]
  },
  {
   "cell_type": "code",
   "execution_count": 15,
   "metadata": {},
   "outputs": [
    {
     "name": "stdout",
     "output_type": "stream",
     "text": [
      "Binary 2 Class Classifier... - Adjusting labels in test and train dataframes\n"
     ]
    }
   ],
   "source": [
    "\n",
    "class_size_map = {2: \"Binary\", 8: \"Group\", 34: \"Individual\"}\n",
    "\n",
    "if group_classifier:\n",
    "    print(\"Group 8 Class Classifier... - Adjusting labels in test and train dataframes\")\n",
    "    # Map y column to the dict_7_classes values\n",
    "    test_df['label'] = test_df['label'].map(dict_8_classes)\n",
    "    train_df['label'] = train_df['label'].map(dict_8_classes)\n",
    "    class_size = \"8\"      \n",
    "    \n",
    "elif binary_classifier:\n",
    "    print(\"Binary 2 Class Classifier... - Adjusting labels in test and train dataframes\")\n",
    "    # Map y column to the dict_2_classes values\n",
    "    test_df['label'] = test_df['label'].map(dict_2_classes)\n",
    "    train_df['label'] = train_df['label'].map(dict_2_classes)\n",
    "    class_size = \"2\"\n",
    "\n",
    "else:\n",
    "    print (\"Individual 34 Class classifier... - No adjustments to labels in test and train dataframes\")\n",
    "    class_size = \"34\"\n"
   ]
  },
  {
   "cell_type": "markdown",
   "metadata": {},
   "source": [
    "---\n",
    "\n",
    "# Split the Training Data into partitions for the Federated Learning clients depending on the test required\n"
   ]
  },
  {
   "cell_type": "code",
   "execution_count": 16,
   "metadata": {},
   "outputs": [
    {
     "name": "stdout",
     "output_type": "stream",
     "text": [
      "\u001b[33mONE_CLASS METHOD\u001b[0m with 2 class classifier\n",
      "i: 0 = i % 2 = 0\n",
      "Benign only\n",
      "i: 1 = i % 2 = 1\n",
      "Both\n",
      "i: 2 = i % 2 = 0\n",
      "Benign only\n",
      "i: 3 = i % 2 = 1\n",
      "Both\n",
      "i: 4 = i % 2 = 0\n",
      "Benign only\n",
      "i: 5 = i % 2 = 1\n",
      "Both\n",
      "i: 6 = i % 2 = 0\n",
      "Benign only\n",
      "i: 7 = i % 2 = 1\n",
      "Both\n",
      "i: 8 = i % 2 = 0\n",
      "Benign only\n",
      "i: 9 = i % 2 = 1\n",
      "Both\n"
     ]
    },
    {
     "name": "stderr",
     "output_type": "stream",
     "text": [
      "/var/folders/q0/6fymk865243fx1n2trkz4zl40000gn/T/ipykernel_11908/2810336824.py:62: UserWarning: Boolean Series key will be reindexed to match DataFrame index.\n",
      "  client_df = pd.concat([train_df.iloc[test_index][train_df[y_column] != 1]], ignore_index=True)\n",
      "/var/folders/q0/6fymk865243fx1n2trkz4zl40000gn/T/ipykernel_11908/2810336824.py:62: UserWarning: Boolean Series key will be reindexed to match DataFrame index.\n",
      "  client_df = pd.concat([train_df.iloc[test_index][train_df[y_column] != 1]], ignore_index=True)\n",
      "/var/folders/q0/6fymk865243fx1n2trkz4zl40000gn/T/ipykernel_11908/2810336824.py:62: UserWarning: Boolean Series key will be reindexed to match DataFrame index.\n",
      "  client_df = pd.concat([train_df.iloc[test_index][train_df[y_column] != 1]], ignore_index=True)\n",
      "/var/folders/q0/6fymk865243fx1n2trkz4zl40000gn/T/ipykernel_11908/2810336824.py:62: UserWarning: Boolean Series key will be reindexed to match DataFrame index.\n",
      "  client_df = pd.concat([train_df.iloc[test_index][train_df[y_column] != 1]], ignore_index=True)\n",
      "/var/folders/q0/6fymk865243fx1n2trkz4zl40000gn/T/ipykernel_11908/2810336824.py:62: UserWarning: Boolean Series key will be reindexed to match DataFrame index.\n",
      "  client_df = pd.concat([train_df.iloc[test_index][train_df[y_column] != 1]], ignore_index=True)\n"
     ]
    }
   ],
   "source": [
    "from sklearn.model_selection import StratifiedKFold\n",
    "\n",
    "# Define fl_X_train and fl_y_train\n",
    "fl_X_train = []\n",
    "fl_y_train = []\n",
    "\n",
    "client_df = pd.DataFrame()\n",
    "\n",
    "if METHOD == 'STRATIFIED':\n",
    "    print(f\"{Colours.YELLOW.value}STRATIFIED METHOD{Colours.NORMAL.value} with {class_size} class classifier\")\n",
    "   \n",
    "    skf = StratifiedKFold(n_splits=NUM_OF_STRATIFIED_CLIENTS, shuffle=True, random_state=42)\n",
    "    for train_index, test_index in skf.split(train_df[X_columns], train_df[y_column]):\n",
    "        fl_X_train.append(train_df[X_columns].iloc[test_index])\n",
    "        fl_y_train.append(train_df[y_column].iloc[test_index])\n",
    "\n",
    "elif METHOD == 'LEAVE_ONE_OUT':\n",
    "    print(f\"{Colours.YELLOW.value}LEAVE_ONE_OUT METHOD{Colours.NORMAL.value} with {class_size} class classifier\")\n",
    "\n",
    "    if individual_classifier or group_classifier:\n",
    "       \n",
    "        num_splits = int(class_size) - 1\n",
    "    else:\n",
    "        \n",
    "        num_splits = 10\n",
    "\n",
    "    skf = StratifiedKFold(n_splits=num_splits, shuffle=True, random_state=42)\n",
    "\n",
    "    for i, (train_index, test_index) in enumerate(skf.split(train_df[X_columns], train_df[y_column])):\n",
    "        if binary_classifier:\n",
    "            print(f\"i: {i} = i % 2 = {i % 2}\")\n",
    "            if i % 2 == 0:\n",
    "                print(\"Benign only\")\n",
    "                client_df = pd.concat([train_df.iloc[test_index][train_df[y_column] != 1]], ignore_index=True)\n",
    "                fl_X_train.append(client_df[X_columns])\n",
    "                fl_y_train.append(client_df[y_column])\n",
    "            else:\n",
    "                print(\"Both\")\n",
    "                fl_X_train.append(train_df[X_columns].iloc[test_index])\n",
    "                fl_y_train.append(train_df[y_column].iloc[test_index])\n",
    "        else:\n",
    "            client_df = pd.concat([train_df.iloc[test_index][train_df[y_column] != i+1]], ignore_index=True)\n",
    "            fl_X_train.append(client_df[X_columns])\n",
    "            fl_y_train.append(client_df[y_column])\n",
    "\n",
    "elif METHOD == 'ONE_CLASS':\n",
    "    print(f\"{Colours.YELLOW.value}ONE_CLASS METHOD{Colours.NORMAL.value} with {class_size} class classifier\")\n",
    "    \n",
    "    \n",
    "    if individual_classifier or group_classifier:\n",
    "        num_splits = int(class_size) - 1\n",
    "    else:\n",
    "        num_splits = 10\n",
    "\n",
    "    skf = StratifiedKFold(n_splits=num_splits, shuffle=True, random_state=42)\n",
    "\n",
    "    for i, (train_index, test_index) in enumerate(skf.split(train_df[X_columns], train_df[y_column])):\n",
    "        if binary_classifier:\n",
    "            print(f\"i: {i} = i % 2 = {i % 2}\")\n",
    "            if i % 2 == 0:\n",
    "                print(\"Benign only\")\n",
    "                client_df = pd.concat([train_df.iloc[test_index][train_df[y_column] != 1]], ignore_index=True)\n",
    "                fl_X_train.append(client_df[X_columns])\n",
    "                fl_y_train.append(client_df[y_column])\n",
    "            else:\n",
    "                print(\"Both\")\n",
    "\n",
    "                fl_X_train.append(train_df[X_columns].iloc[test_index])\n",
    "                fl_y_train.append(train_df[y_column].iloc[test_index])\n",
    "        else:\n",
    "            client_df = pd.concat([train_df.iloc[test_index][(train_df[y_column] == 0) | (train_df[y_column] == i+1)]], ignore_index=True)\n",
    "            fl_X_train.append(client_df[X_columns])\n",
    "            fl_y_train.append(client_df[y_column])\n",
    "\n",
    "elif METHOD == 'HALF_BENIGN':\n",
    "    print(f\"{Colours.YELLOW.value}HALF_BENIGN METHOD{Colours.NORMAL.value} with {class_size} class classifier\")\n",
    "\n",
    "    num_splits = 10\n",
    "\n",
    "    # Split into 10 client data\n",
    "    skf = StratifiedKFold(n_splits=10, shuffle=True, random_state=42)\n",
    "\n",
    "    # For i % 2 == 0, add only benign data\n",
    "    # For i % 2 == 1, add all data\n",
    "    for i, (train_index, test_index) in enumerate(skf.split(train_df[X_columns], train_df[y_column])):\n",
    "        if i % 2 == 0:\n",
    "            print(\"Benign only\")\n",
    "            client_df = pd.concat([train_df.iloc[test_index][train_df[y_column] == 0]], ignore_index=True)\n",
    "            fl_X_train.append(client_df[X_columns])\n",
    "            fl_y_train.append(client_df[y_column])\n",
    "        else:\n",
    "            print(\"All Classes\")\n",
    "            fl_X_train.append(train_df[X_columns].iloc[test_index])\n",
    "            fl_y_train.append(train_df[y_column].iloc[test_index])\n",
    "else:\n",
    "    print(f\"{Colours.RED.value}ERROR: Method {METHOD} not recognised{Colours.NORMAL.value}\")\n",
    "    exit()\n",
    "\n"
   ]
  },
  {
   "cell_type": "code",
   "execution_count": 17,
   "metadata": {},
   "outputs": [
    {
     "name": "stdout",
     "output_type": "stream",
     "text": [
      "fl_X_train[0].shape: (108, 46)\n",
      "fl_y_train[0].value_counts():\n",
      "label\n",
      "0    108\n",
      "Name: count, dtype: int64\n",
      "fl_y_train[0].unique(): [0]\n",
      "\n",
      "fl_X_train[1].shape: (4575, 46)\n",
      "fl_y_train[1].value_counts():\n",
      "label\n",
      "1    4467\n",
      "0     108\n",
      "Name: count, dtype: int64\n",
      "fl_y_train[1].unique(): [1 0]\n",
      "\n",
      "fl_X_train[2].shape: (108, 46)\n",
      "fl_y_train[2].value_counts():\n",
      "label\n",
      "0    108\n",
      "Name: count, dtype: int64\n",
      "fl_y_train[2].unique(): [0]\n",
      "\n",
      "fl_X_train[3].shape: (4575, 46)\n",
      "fl_y_train[3].value_counts():\n",
      "label\n",
      "1    4467\n",
      "0     108\n",
      "Name: count, dtype: int64\n",
      "fl_y_train[3].unique(): [1 0]\n",
      "\n",
      "fl_X_train[4].shape: (108, 46)\n",
      "fl_y_train[4].value_counts():\n",
      "label\n",
      "0    108\n",
      "Name: count, dtype: int64\n",
      "fl_y_train[4].unique(): [0]\n",
      "\n",
      "fl_X_train[5].shape: (4575, 46)\n",
      "fl_y_train[5].value_counts():\n",
      "label\n",
      "1    4467\n",
      "0     108\n",
      "Name: count, dtype: int64\n",
      "fl_y_train[5].unique(): [1 0]\n",
      "\n",
      "fl_X_train[6].shape: (108, 46)\n",
      "fl_y_train[6].value_counts():\n",
      "label\n",
      "0    108\n",
      "Name: count, dtype: int64\n",
      "fl_y_train[6].unique(): [0]\n",
      "\n",
      "fl_X_train[7].shape: (4575, 46)\n",
      "fl_y_train[7].value_counts():\n",
      "label\n",
      "1    4467\n",
      "0     108\n",
      "Name: count, dtype: int64\n",
      "fl_y_train[7].unique(): [1 0]\n",
      "\n",
      "fl_X_train[8].shape: (108, 46)\n",
      "fl_y_train[8].value_counts():\n",
      "label\n",
      "0    108\n",
      "Name: count, dtype: int64\n",
      "fl_y_train[8].unique(): [0]\n",
      "\n",
      "fl_X_train[9].shape: (4574, 46)\n",
      "fl_y_train[9].value_counts():\n",
      "label\n",
      "1    4466\n",
      "0     108\n",
      "Name: count, dtype: int64\n",
      "fl_y_train[9].unique(): [1 0]\n",
      "\n",
      "fl_X_train[0].equals(fl_X_train[1]): False\n"
     ]
    }
   ],
   "source": [
    "NUM_OF_CLIENTS = len(fl_X_train)\n",
    "\n",
    "for i in range(len(fl_X_train)):\n",
    "    (f\"Client ID: {i}\")\n",
    "    print(f\"fl_X_train[{i}].shape: {fl_X_train[i].shape}\")  \n",
    "    print(f\"fl_y_train[{i}].value_counts():\\n{fl_y_train[i].value_counts()}\")\n",
    "    print(f\"fl_y_train[{i}].unique(): {fl_y_train[i].unique()}\\n\")\n",
    "\n",
    "print(f\"fl_X_train[0].equals(fl_X_train[1]): {fl_X_train[0].equals(fl_X_train[1])}\")"
   ]
  },
  {
   "cell_type": "markdown",
   "metadata": {},
   "source": [
    "Prepare an output directory where we can store the results of the federated learning\n"
   ]
  },
  {
   "cell_type": "code",
   "execution_count": 18,
   "metadata": {},
   "outputs": [],
   "source": [
    "\n",
    "if not os.path.exists(\"Output\"):\n",
    "    os.makedirs(\"Output\")\n",
    "\n",
    "sub_dir_name = f\"train_size-{train_size}\"\n",
    "\n",
    "# if sub_dir_name does not exist, create it\n",
    "if not os.path.exists(f\"Output/{sub_dir_name}\"):\n",
    "    os.makedirs(f\"Output/{sub_dir_name}\")\n",
    "\n",
    "test_directory_name = f\"{METHOD}_Classifier-{class_size}_Clients-{NUM_OF_CLIENTS}\"\n",
    "\n",
    "if not os.path.exists(f\"Output/{sub_dir_name}/{test_directory_name}\"):\n",
    "    os.makedirs(f\"Output/{sub_dir_name}/{test_directory_name}\")\n",
    "\n",
    "# Ensure the directory is empty\n",
    "for file in os.listdir(f\"Output/{sub_dir_name}/{test_directory_name}\"):\n",
    "    file_path = os.path.join(f\"Output/{sub_dir_name}/{test_directory_name}\", file)\n",
    "    if os.path.isfile(file_path):\n",
    "        os.unlink(file_path)\n",
    "\n",
    "# Original training size is the sum of all the fl_X_train sizes\n",
    "original_training_size = 0\n",
    "for i in range(len(fl_X_train)):\n",
    "    original_training_size += fl_X_train[i].shape[0]\n",
    "\n",
    "# Write this same info to the output directory/Class Split Info.txt\n",
    "with open(f\"Output/{sub_dir_name}/{test_directory_name}/Class Split Info.txt\", \"w\") as f:\n",
    "    for i in range(len(fl_X_train)):\n",
    "        f.write(f\"Client ID: {i}\\n\")\n",
    "        f.write(f\"fl_X_train.shape: {fl_X_train[i].shape}\\n\")\n",
    "        f.write(f\"Training data used {original_training_size}\")\n",
    "        f.write(f\"fl_y_train.value_counts():\\n{fl_y_train[i].value_counts()}\\n\")\n",
    "        f.write(f\"fl_y_train.unique(): {fl_y_train[i].unique()}\\n\\n\")"
   ]
  },
  {
   "cell_type": "markdown",
   "metadata": {},
   "source": [
    "### Convert the training dataset\n"
   ]
  },
  {
   "cell_type": "code",
   "execution_count": 19,
   "metadata": {},
   "outputs": [],
   "source": [
    "# Convert the testing daya to X_test and y_test ndarrays\n",
    "X_test = test_df[X_columns].to_numpy()\n",
    "y_test = test_df[y_column].to_numpy()"
   ]
  },
  {
   "cell_type": "code",
   "execution_count": 20,
   "metadata": {},
   "outputs": [],
   "source": [
    "num_unique_classes = len(train_df[y_column].unique())\n",
    "\n",
    "train_df_shape = train_df.shape\n",
    "test_df_shape = test_df.shape\n",
    "\n",
    "# We are now done with the train_df and test_df dataframes, so we can delete them to free up memory\n",
    "del train_df\n",
    "del test_df\n",
    "del client_df"
   ]
  },
  {
   "cell_type": "markdown",
   "metadata": {},
   "source": [
    "---\n",
    "\n",
    "### Data check\n"
   ]
  },
  {
   "cell_type": "code",
   "execution_count": 21,
   "metadata": {},
   "outputs": [
    {
     "name": "stdout",
     "output_type": "stream",
     "text": [
      "NUM_CLIENTS: 10\n",
      "NUM_ROUNDS: 10\n",
      "\n",
      "Original training size: 23414\n",
      "Checking training data split groups\n",
      "0 : X Shape (108, 46) Y Shape (108,)\n",
      "1 : X Shape (4575, 46) Y Shape (4575,)\n",
      "2 : X Shape (108, 46) Y Shape (108,)\n",
      "3 : X Shape (4575, 46) Y Shape (4575,)\n",
      "4 : X Shape (108, 46) Y Shape (108,)\n",
      "5 : X Shape (4575, 46) Y Shape (4575,)\n",
      "6 : X Shape (108, 46) Y Shape (108,)\n",
      "7 : X Shape (4575, 46) Y Shape (4575,)\n",
      "8 : X Shape (108, 46) Y Shape (108,)\n",
      "9 : X Shape (4574, 46) Y Shape (4574,)\n",
      "\n",
      "Checking testing data\n",
      "X_test size: (275258, 46)\n",
      "y_test size: (275258,)\n",
      "\n",
      "Deploy Simulation\n"
     ]
    }
   ],
   "source": [
    "print(\"NUM_CLIENTS:\", NUM_OF_CLIENTS)\n",
    "\n",
    "print(\"NUM_ROUNDS:\", NUM_OF_ROUNDS)\n",
    "print()\n",
    "\n",
    "\n",
    "print(\"Original training size: {}\".format(original_training_size))\n",
    "\n",
    "\n",
    "print(\"Checking training data split groups\")\n",
    "for i in range(len(fl_X_train)):\n",
    "    print(i, \":\", \"X Shape\", fl_X_train[i].shape, \"Y Shape\", fl_y_train[i].shape)\n",
    "\n",
    "\n",
    "# Print the sizes of X_test and y_test\n",
    "print(\"\\nChecking testing data\")\n",
    "print(\"X_test size: {}\".format(X_test.shape))\n",
    "print(\"y_test size: {}\".format(y_test.shape))\n",
    "\n",
    "print(\"\\nDeploy Simulation\")"
   ]
  },
  {
   "cell_type": "markdown",
   "metadata": {},
   "source": [
    "---\n",
    "\n",
    "# Federated Learning\n",
    "\n",
    "## Import the libraries and print the versions\n"
   ]
  },
  {
   "cell_type": "code",
   "execution_count": 22,
   "metadata": {},
   "outputs": [],
   "source": [
    "import os\n",
    "import flwr as fl\n",
    "import numpy as np\n",
    "import tensorflow as tf\n",
    "\n",
    "# Make TensorFlow log less verbose\n",
    "os.environ[\"TF_CPP_MIN_LOG_LEVEL\"] = \"3\"\n",
    "\n",
    "from tensorflow.keras.models import Sequential\n",
    "from tensorflow.keras.layers import Flatten\n",
    "from tensorflow.keras.layers import Dense\n",
    "from tensorflow.keras.layers import Activation\n",
    "from tensorflow.keras.layers import BatchNormalization\n",
    "from tensorflow.keras.layers import Dropout\n",
    "\n"
   ]
  },
  {
   "cell_type": "markdown",
   "metadata": {},
   "source": [
    "Define the Client and Server code\n"
   ]
  },
  {
   "cell_type": "code",
   "execution_count": 23,
   "metadata": {},
   "outputs": [
    {
     "name": "stdout",
     "output_type": "stream",
     "text": [
      "scikit-learn 1.6.1.\n",
      "flwr 1.18.0\n",
      "numpy 1.26.4\n",
      "tf 2.16.2\n"
     ]
    }
   ],
   "source": [
    "import os\n",
    "import flwr as fl\n",
    "import numpy as np\n",
    "import tensorflow as tf\n",
    "\n",
    "print('scikit-learn {}.'.format(sklearn.__version__))\n",
    "print(\"flwr\", fl.__version__)\n",
    "print(\"numpy\", np.__version__)\n",
    "print(\"tf\", tf.__version__)\n",
    "# Make TensorFlow log less verbose\n",
    "os.environ[\"TF_CPP_MIN_LOG_LEVEL\"] = \"3\"\n",
    "\n",
    "from tensorflow.keras.models import Sequential\n",
    "from tensorflow.keras.layers import Flatten\n",
    "from tensorflow.keras.layers import Dense\n",
    "from tensorflow.keras.layers import Activation\n",
    "from tensorflow.keras.layers import BatchNormalization\n",
    "from tensorflow.keras.layers import Dropout\n",
    "from flwr.common import Context\n",
    "from tensorflow.keras.layers import Input\n",
    "\n",
    "import datetime\n",
    "\n",
    "client_evaluations = []\n",
    "\n",
    "class NumpyFlowerClient(fl.client.NumPyClient):\n",
    "    def __init__(self, cid, model, train_data, train_labels):\n",
    "        self.model = model\n",
    "        self.cid = cid\n",
    "        self.train_data = train_data\n",
    "        self.train_labels = train_labels\n",
    "\n",
    "    def get_parameters(self, config):\n",
    "        return self.model.get_weights()\n",
    "\n",
    "    def fit(self, parameters, config):\n",
    "        self.model.set_weights(parameters)\n",
    "        print (\"Client \", self.cid, \"Training...\")\n",
    "        self.model.fit(self.train_data, self.train_labels, epochs=5, batch_size=32)\n",
    "        print (\"Client \", self.cid, \"Training complete...\")\n",
    "        return self.model.get_weights(), len(self.train_data), {}\n",
    "\n",
    "    def evaluate(self, parameters, config):\n",
    "        self.model.set_weights(parameters)\n",
    "        print (\"Client \", self.cid, \"Evaluating...\")\n",
    "        loss, accuracy = self.model.evaluate(self.train_data, self.train_labels, batch_size=32)\n",
    "        print(f\"{Colours.YELLOW.value}Client {self.cid} evaluation complete - Accuracy: {accuracy:.6f}, Loss: {loss:.6f}{Colours.NORMAL.value}\")\n",
    "\n",
    "        # Write the same message to the \"Output/{cid}_Evaluation.txt\" file\n",
    "        with open(f\"Output/{sub_dir_name}/{test_directory_name}/{self.cid}_Evaluation.txt\", \"a\") as f:\n",
    "            f.write(f\"{datetime.datetime.now()} - Client {self.cid} evaluation complete - Accuracy: {accuracy:.6f}, Loss: {loss:.6f}\\n\")\n",
    "\n",
    "            # Close the file\n",
    "            f.close()\n",
    "\n",
    "        return loss, len(self.train_data), {\"accuracy\": accuracy}\n",
    "    \n",
    "    def predict(self, incoming):\n",
    "        prediction = np.argmax( self.model.predict(incoming) ,axis=1)\n",
    "        return prediction\n",
    "\n",
    "def client_fn(cid: str) -> NumpyFlowerClient:\n",
    "# def client_fn(context: Context) -> fl.client.Client:\n",
    "#     cid = context.client_id\n",
    "    \"\"\"Create a Flower client representing a single organization.\"\"\"\n",
    "\n",
    "    # Load model\n",
    "    #model = tf.keras.applications.MobileNetV2((32, 32, 3), classes=10, weights=None)\n",
    "    #model.compile(\"adam\", \"sparse_categorical_crossentropy\", metrics=[\"accuracy\"])\n",
    "\n",
    "    print (\"Client ID:\", cid)\n",
    "\n",
    "    model = Sequential([\n",
    "      #Flatten(input_shape=(79,1)),\n",
    "      Flatten(input_shape=(fl_X_train[0].shape[1] , 1)),\n",
    "      Dense(50, activation='relu'),  \n",
    "      Dense(25, activation='relu'),  \n",
    "      Dense(num_unique_classes, activation='softmax')\n",
    "    ])\n",
    "    \n",
    "    model.compile(optimizer='adam', loss='sparse_categorical_crossentropy', metrics=['accuracy'])\n",
    "\n",
    "   \n",
    "    partition_id = int(cid)\n",
    "    X_train_c = fl_X_train[partition_id]\n",
    "    y_train_c = fl_y_train[partition_id]\n",
    "\n",
    "    # Create a  single Flower client representing a single organization\n",
    "    return NumpyFlowerClient(cid, model, X_train_c, y_train_c).to_client()\n",
    "\n",
    "\n",
    "from sklearn.metrics import confusion_matrix, ConfusionMatrixDisplay\n",
    "eval_count = 0\n",
    "\n",
    "def get_evaluate_fn(server_model):\n",
    "    global eval_count\n",
    "    \"\"\"Return an evaluation function for server-side evaluation.\"\"\"\n",
    "    # The `evaluate` function will be called after every round\n",
    "    \n",
    "    \n",
    "    def evaluate(server_round, parameters, config):\n",
    "        global eval_count\n",
    "        \n",
    "        # Update model with the latest parameters\n",
    "        server_model.set_weights(parameters)\n",
    "        print (f\"Server Evaluating... Evaluation Count:{eval_count}\")\n",
    "        loss, accuracy = server_model.evaluate(X_test, y_test)\n",
    "        \n",
    "        y_pred = server_model.predict(X_test)\n",
    "        print (\"Prediction: \", y_pred, y_pred.shape)\n",
    "        #cmatrix = confusion_matrix(y_test, np.rint(y_pred))\n",
    "        #print (\"confusion_matrix:\", cmatrix, cmatrix.shape)\n",
    "                        \n",
    "        print(f\"{Colours.YELLOW.value}Server evaluation complete - Accuracy: {accuracy:.4f}, Loss: {loss:.4f}{Colours.NORMAL.value}\")\n",
    "\n",
    "        # Write the same message to the \"Output/Server_Evaluation.txt\" file\n",
    "        with open(f\"Output/{sub_dir_name}/{test_directory_name}/Server_Evaluation.txt\", \"a\") as f:\n",
    "            f.write(f\"{datetime.datetime.now()} - {server_round} : Server evaluation complete - Accuracy: {accuracy:.4f}, Loss: {loss:.4f}\\n\")\n",
    "\n",
    "            # Close the file\n",
    "            f.close()\n",
    "        \n",
    "        np.save(\"y_pred-\" + str(eval_count) + \".npy\", y_pred)\n",
    "        #np.save(\"cmatrix-\" + str(eval_count) + \".npy\", cmatrix)\n",
    "        eval_count = eval_count + 1\n",
    "        \n",
    "        return loss, {\"accuracy\": accuracy}\n",
    "    return evaluate\n",
    "\n",
    "\n",
    "\n",
    "server_model = Sequential([\n",
    "    #Flatten(input_shape=(79,1)),\n",
    "    # Flatten(input_shape=(fl_X_train[0].shape[1], 1)),\n",
    "    Input(shape=(fl_X_train[0].shape[1], 1)),\n",
    "    Flatten(),\n",
    "    Dense(50, activation='relu'),  \n",
    "    Dense(25, activation='relu'),  \n",
    "    Dense(num_unique_classes, activation='softmax')\n",
    "])\n",
    "\n",
    "\n",
    "server_model.compile(optimizer='adam', loss='sparse_categorical_crossentropy', metrics=['accuracy'])\n",
    "\n",
    "# Create FedAvg strategy\n",
    "strategy = fl.server.strategy.FedAvg(\n",
    "        fraction_fit=1.0,\n",
    "        fraction_evaluate=0.5,\n",
    "        min_fit_clients=2, #10,\n",
    "        min_evaluate_clients=2, #5,\n",
    "        min_available_clients=2, #10,\n",
    "        evaluate_fn=get_evaluate_fn(server_model),\n",
    "        #evaluate_metrics_aggregation_fn=weighted_average,\n",
    ")"
   ]
  },
  {
   "cell_type": "code",
   "execution_count": 24,
   "metadata": {},
   "outputs": [
    {
     "name": "stdout",
     "output_type": "stream",
     "text": [
      "Ray version: 2.31.0\n"
     ]
    }
   ],
   "source": [
    "import ray\n",
    "\n",
    "try:\n",
    "    print(f\"Ray version: {ray.__version__}\")\n",
    "except AttributeError:\n",
    "    print(\"Ray is installed, but __version__ attribute is not found. This is unusual.\")\n",
    "except ImportError:\n",
    "    print(\"Ray is not installed in this environment.\")"
   ]
  },
  {
   "cell_type": "code",
   "execution_count": null,
   "metadata": {},
   "outputs": [],
   "source": []
  },
  {
   "cell_type": "code",
   "execution_count": 25,
   "metadata": {},
   "outputs": [
    {
     "name": "stderr",
     "output_type": "stream",
     "text": [
      "\u001b[93mWARNING \u001b[0m:   DEPRECATED FEATURE: flwr.simulation.start_simulation() is deprecated.\n",
      "\tInstead, use the `flwr run` CLI command to start a local simulation in your Flower app, as shown for example below:\n",
      "\n",
      "\t\t$ flwr new  # Create a new Flower app from a template\n",
      "\n",
      "\t\t$ flwr run  # Run the Flower app in Simulation Mode\n",
      "\n",
      "\tUsing `start_simulation()` is deprecated.\n",
      "\n",
      "            This is a deprecated feature. It will be removed\n",
      "            entirely in future versions of Flower.\n",
      "        \n",
      "\u001b[92mINFO \u001b[0m:      Starting Flower simulation, config: num_rounds=10, no round_timeout\n"
     ]
    },
    {
     "name": "stdout",
     "output_type": "stream",
     "text": [
      "\u001b[33m\n",
      "Deploy simulation... Method = ONE_CLASS - Binary (2) Classifier\n",
      "Number of Clients = 10\n",
      "\n",
      "Writing output to: train_size-45749/ONE_CLASS_Classifier-2_Clients-10\n",
      "\u001b[0m\n"
     ]
    },
    {
     "name": "stderr",
     "output_type": "stream",
     "text": [
      "2025-06-29 02:40:29,840\tINFO worker.py:1771 -- Started a local Ray instance.\n",
      "\u001b[92mINFO \u001b[0m:      Flower VCE: Ray initialized with resources: {'CPU': 8.0, 'memory': 5993289319.0, 'node:127.0.0.1': 1.0, 'object_store_memory': 2147483648.0, 'node:__internal_head__': 1.0}\n",
      "\u001b[92mINFO \u001b[0m:      Optimize your simulation with Flower VCE: https://flower.ai/docs/framework/how-to-run-simulations.html\n",
      "\u001b[92mINFO \u001b[0m:      No `client_resources` specified. Using minimal resources for clients.\n",
      "\u001b[92mINFO \u001b[0m:      Flower VCE: Resources for each Virtual Client: {'num_cpus': 1, 'num_gpus': 0.0}\n",
      "\u001b[92mINFO \u001b[0m:      Flower VCE: Creating VirtualClientEngineActorPool with 8 actors\n",
      "\u001b[92mINFO \u001b[0m:      [INIT]\n",
      "\u001b[92mINFO \u001b[0m:      Requesting initial parameters from one random client\n",
      "\u001b[33m(raylet)\u001b[0m /Users/user/Library/Python/3.9/lib/python/site-packages/urllib3/__init__.py:35: NotOpenSSLWarning: urllib3 v2 only supports OpenSSL 1.1.1+, currently the 'ssl' module is compiled with 'LibreSSL 2.8.3'. See: https://github.com/urllib3/urllib3/issues/3020\n",
      "\u001b[33m(raylet)\u001b[0m   warnings.warn(\n",
      "\u001b[36m(ClientAppActor pid=11974)\u001b[0m \u001b[93mWARNING \u001b[0m:   DEPRECATED FEATURE: `client_fn` now expects a signature `def client_fn(context: Context)`.The provided `client_fn` has signature: {'cid': <Parameter \"cid: str\">}. You can import the `Context` like this: `from flwr.common import Context`\n",
      "\u001b[36m(ClientAppActor pid=11974)\u001b[0m \n",
      "\u001b[36m(ClientAppActor pid=11974)\u001b[0m             This is a deprecated feature. It will be removed\n",
      "\u001b[36m(ClientAppActor pid=11974)\u001b[0m             entirely in future versions of Flower.\n",
      "\u001b[36m(ClientAppActor pid=11974)\u001b[0m         \n",
      "\u001b[33m(raylet)\u001b[0m /Users/user/Library/Python/3.9/lib/python/site-packages/urllib3/__init__.py:35: NotOpenSSLWarning: urllib3 v2 only supports OpenSSL 1.1.1+, currently the 'ssl' module is compiled with 'LibreSSL 2.8.3'. See: https://github.com/urllib3/urllib3/issues/3020\u001b[32m [repeated 7x across cluster] (Ray deduplicates logs by default. Set RAY_DEDUP_LOGS=0 to disable log deduplication, or see https://docs.ray.io/en/master/ray-observability/user-guides/configure-logging.html#log-deduplication for more options.)\u001b[0m\n",
      "\u001b[33m(raylet)\u001b[0m   warnings.warn(\u001b[32m [repeated 7x across cluster]\u001b[0m\n",
      "\u001b[36m(ClientAppActor pid=11974)\u001b[0m /Users/user/Library/Python/3.9/lib/python/site-packages/keras/src/layers/reshaping/flatten.py:37: UserWarning: Do not pass an `input_shape`/`input_dim` argument to a layer. When using Sequential models, prefer using an `Input(shape)` object as the first layer in the model instead.\n",
      "\u001b[36m(ClientAppActor pid=11974)\u001b[0m   super().__init__(**kwargs)\n",
      "\u001b[92mINFO \u001b[0m:      Received initial parameters from one random client\n",
      "\u001b[92mINFO \u001b[0m:      Starting evaluation of initial global parameters\n"
     ]
    },
    {
     "name": "stdout",
     "output_type": "stream",
     "text": [
      "\u001b[36m(ClientAppActor pid=11974)\u001b[0m Client ID: 2\n",
      "Server Evaluating... Evaluation Count:0\n"
     ]
    },
    {
     "name": "stderr",
     "output_type": "stream",
     "text": [
      "/Users/user/Library/Python/3.9/lib/python/site-packages/tensorflow/python/framework/tensor_util.py:522: DeprecationWarning: NumPy will stop allowing conversion of out-of-bound Python integers to integer arrays.  The conversion of 2147483648 to int32 will fail in the future.\n",
      "For the old behavior, usually:\n",
      "    np.array(value).astype(dtype)\n",
      "will give the desired result (the cast overflows).\n",
      "  nparray = np.array(values, dtype=np_dt)\n"
     ]
    },
    {
     "name": "stdout",
     "output_type": "stream",
     "text": [
      "\u001b[1m8602/8602\u001b[0m \u001b[32m━━━━━━━━━━━━━━━━━━━━\u001b[0m\u001b[37m\u001b[0m \u001b[1m13s\u001b[0m 1ms/step - accuracy: 0.0469 - loss: 1.3020\n",
      "\u001b[1m8602/8602\u001b[0m \u001b[32m━━━━━━━━━━━━━━━━━━━━\u001b[0m\u001b[37m\u001b[0m \u001b[1m7s\u001b[0m 851us/step\n"
     ]
    },
    {
     "name": "stderr",
     "output_type": "stream",
     "text": [
      "\u001b[92mINFO \u001b[0m:      initial parameters (loss, other metrics): 1.2993907928466797, {'accuracy': 0.04725748300552368}\n",
      "\u001b[92mINFO \u001b[0m:      \n",
      "\u001b[92mINFO \u001b[0m:      [ROUND 1]\n",
      "\u001b[92mINFO \u001b[0m:      configure_fit: strategy sampled 10 clients (out of 10)\n"
     ]
    },
    {
     "name": "stdout",
     "output_type": "stream",
     "text": [
      "Prediction:  [[0.55303055 0.44696954]\n",
      " [0.7251707  0.2748293 ]\n",
      " [0.5167872  0.4832128 ]\n",
      " ...\n",
      " [0.7343865  0.26561356]\n",
      " [0.5175261  0.48247397]\n",
      " [0.7252268  0.27477318]] (275258, 2)\n",
      "\u001b[33mServer evaluation complete - Accuracy: 0.0473, Loss: 1.2994\u001b[0m\n",
      "\u001b[36m(ClientAppActor pid=11972)\u001b[0m Client ID: 0\n",
      "\u001b[36m(ClientAppActor pid=11971)\u001b[0m Client ID: 9\n",
      "\u001b[36m(ClientAppActor pid=11974)\u001b[0m Client  2 Training...\n"
     ]
    },
    {
     "name": "stderr",
     "output_type": "stream",
     "text": [
      "\u001b[36m(ClientAppActor pid=11972)\u001b[0m \n",
      "\u001b[36m(ClientAppActor pid=11972)\u001b[0m         \n",
      "\u001b[36m(ClientAppActor pid=11972)\u001b[0m \u001b[93mWARNING \u001b[0m:   DEPRECATED FEATURE: `client_fn` now expects a signature `def client_fn(context: Context)`.The provided `client_fn` has signature: {'cid': <Parameter \"cid: str\">}. You can import the `Context` like this: `from flwr.common import Context`\n",
      "\u001b[36m(ClientAppActor pid=11972)\u001b[0m             This is a deprecated feature. It will be removed\n",
      "\u001b[36m(ClientAppActor pid=11972)\u001b[0m             entirely in future versions of Flower.\n",
      "\u001b[36m(ClientAppActor pid=11972)\u001b[0m /Users/user/Library/Python/3.9/lib/python/site-packages/keras/src/layers/reshaping/flatten.py:37: UserWarning: Do not pass an `input_shape`/`input_dim` argument to a layer. When using Sequential models, prefer using an `Input(shape)` object as the first layer in the model instead.\n",
      "\u001b[36m(ClientAppActor pid=11972)\u001b[0m   super().__init__(**kwargs)\n",
      "\u001b[36m(ClientAppActor pid=11971)\u001b[0m \u001b[93mWARNING \u001b[0m:   DEPRECATED FEATURE: `client_fn` now expects a signature `def client_fn(context: Context)`.The provided `client_fn` has signature: {'cid': <Parameter \"cid: str\">}. You can import the `Context` like this: `from flwr.common import Context`\n",
      "\u001b[36m(ClientAppActor pid=11971)\u001b[0m \n",
      "\u001b[36m(ClientAppActor pid=11971)\u001b[0m             This is a deprecated feature. It will be removed\n",
      "\u001b[36m(ClientAppActor pid=11971)\u001b[0m             entirely in future versions of Flower.\n",
      "\u001b[36m(ClientAppActor pid=11971)\u001b[0m         \n",
      "\u001b[36m(ClientAppActor pid=11974)\u001b[0m \n",
      "\u001b[36m(ClientAppActor pid=11974)\u001b[0m         \n",
      "\u001b[36m(ClientAppActor pid=11974)\u001b[0m /Users/user/Library/Python/3.9/lib/python/site-packages/keras/src/layers/reshaping/flatten.py:37: UserWarning: Do not pass an `input_shape`/`input_dim` argument to a layer. When using Sequential models, prefer using an `Input(shape)` object as the first layer in the model instead.\n",
      "\u001b[36m(ClientAppActor pid=11974)\u001b[0m   super().__init__(**kwargs)\n",
      "\u001b[36m(ClientAppActor pid=11973)\u001b[0m \n",
      "\u001b[36m(ClientAppActor pid=11973)\u001b[0m         \n",
      "\u001b[36m(ClientAppActor pid=11968)\u001b[0m \n",
      "\u001b[36m(ClientAppActor pid=11968)\u001b[0m         \n",
      "\u001b[36m(ClientAppActor pid=11970)\u001b[0m \n",
      "\u001b[36m(ClientAppActor pid=11970)\u001b[0m         \n",
      "\u001b[36m(ClientAppActor pid=11969)\u001b[0m \n",
      "\u001b[36m(ClientAppActor pid=11969)\u001b[0m         \n",
      "\u001b[36m(ClientAppActor pid=11967)\u001b[0m \n",
      "\u001b[36m(ClientAppActor pid=11967)\u001b[0m         \n"
     ]
    },
    {
     "name": "stdout",
     "output_type": "stream",
     "text": [
      "\u001b[36m(ClientAppActor pid=11974)\u001b[0m Epoch 1/5\n"
     ]
    },
    {
     "name": "stderr",
     "output_type": "stream",
     "text": [
      "\u001b[36m(ClientAppActor pid=11972)\u001b[0m /Users/user/Library/Python/3.9/lib/python/site-packages/tensorflow/python/framework/tensor_util.py:522: DeprecationWarning: NumPy will stop allowing conversion of out-of-bound Python integers to integer arrays.  The conversion of 2147483648 to int32 will fail in the future.\n",
      "\u001b[36m(ClientAppActor pid=11972)\u001b[0m For the old behavior, usually:\n",
      "\u001b[36m(ClientAppActor pid=11972)\u001b[0m     np.array(value).astype(dtype)\n",
      "\u001b[36m(ClientAppActor pid=11972)\u001b[0m will give the desired result (the cast overflows).\n",
      "\u001b[36m(ClientAppActor pid=11972)\u001b[0m   nparray = np.array(values, dtype=np_dt)\n"
     ]
    },
    {
     "name": "stdout",
     "output_type": "stream",
     "text": [
      "\u001b[1m1/4\u001b[0m \u001b[32m━━━━━\u001b[0m\u001b[37m━━━━━━━━━━━━━━━\u001b[0m \u001b[1m7s\u001b[0m 3s/step - accuracy: 0.9062 - loss: 0.1983\n",
      "\u001b[1m4/4\u001b[0m \u001b[32m━━━━━━━━━━━━━━━━━━━━\u001b[0m\u001b[37m\u001b[0m \u001b[1m3s\u001b[0m 17ms/step - accuracy: 0.9545 - loss: 0.1432\n",
      "\u001b[1m1/4\u001b[0m \u001b[32m━━━━━\u001b[0m\u001b[37m━━━━━━━━━━━━━━━\u001b[0m \u001b[1m0s\u001b[0m 38ms/step - accuracy: 1.0000 - loss: 0.0476\n",
      "\u001b[1m4/4\u001b[0m \u001b[32m━━━━━━━━━━━━━━━━━━━━\u001b[0m\u001b[37m\u001b[0m \u001b[1m0s\u001b[0m 15ms/step - accuracy: 1.0000 - loss: 0.0439\n",
      "\u001b[1m 15/143\u001b[0m \u001b[32m━━\u001b[0m\u001b[37m━━━━━━━━━━━━━━━━━━\u001b[0m \u001b[1m0s\u001b[0m 4ms/step - accuracy: 0.2094 - loss: 1.0720 \n",
      "\u001b[1m 31/143\u001b[0m \u001b[32m━━━━\u001b[0m\u001b[37m━━━━━━━━━━━━━━━━\u001b[0m \u001b[1m0s\u001b[0m 3ms/step - accuracy: 0.4036 - loss: 0.9170   \n",
      "\u001b[1m4/4\u001b[0m \u001b[32m━━━━━━━━━━━━━━━━━━━━\u001b[0m\u001b[37m\u001b[0m \u001b[1m0s\u001b[0m 27ms/step - accuracy: 1.0000 - loss: 0.0151\n",
      "\u001b[1m 49/143\u001b[0m \u001b[32m━━━━━━\u001b[0m\u001b[37m━━━━━━━━━━━━━━\u001b[0m \u001b[1m0s\u001b[0m 3ms/step - accuracy: 0.5066 - loss: 0.8078\n",
      "\u001b[1m 67/143\u001b[0m \u001b[32m━━━━━━━━━\u001b[0m\u001b[37m━━━━━━━━━━━\u001b[0m \u001b[1m0s\u001b[0m 4ms/step - accuracy: 0.6030 - loss: 0.7059\n",
      "\u001b[1m 77/143\u001b[0m \u001b[32m━━━━━━━━━━\u001b[0m\u001b[37m━━━━━━━━━━\u001b[0m \u001b[1m0s\u001b[0m 4ms/step - accuracy: 0.6211 - loss: 0.6599\n",
      "\u001b[1m4/4\u001b[0m \u001b[32m━━━━━━━━━━━━━━━━━━━━\u001b[0m\u001b[37m\u001b[0m \u001b[1m0s\u001b[0m 35ms/step - accuracy: 1.0000 - loss: 0.0107 \n",
      "\u001b[36m(ClientAppActor pid=11974)\u001b[0m Client  2 Training complete...\n"
     ]
    },
    {
     "name": "stderr",
     "output_type": "stream",
     "text": [
      "\u001b[36m(ClientAppActor pid=11974)\u001b[0m \n",
      "\u001b[36m(ClientAppActor pid=11974)\u001b[0m         \n",
      "\u001b[36m(ClientAppActor pid=11972)\u001b[0m \n",
      "\u001b[36m(ClientAppActor pid=11972)\u001b[0m         \n"
     ]
    },
    {
     "name": "stdout",
     "output_type": "stream",
     "text": [
      "\u001b[1m 26/143\u001b[0m \u001b[32m━━━\u001b[0m\u001b[37m━━━━━━━━━━━━━━━━━\u001b[0m \u001b[1m0s\u001b[0m 4ms/step - accuracy: 0.9740 - loss: 0.0551\n",
      "\u001b[1m 16/143\u001b[0m \u001b[32m━━\u001b[0m\u001b[37m━━━━━━━━━━━━━━━━━━\u001b[0m \u001b[1m0s\u001b[0m 3ms/step - accuracy: 0.9891 - loss: 0.0394 \n",
      "\u001b[1m 38/143\u001b[0m \u001b[32m━━━━━\u001b[0m\u001b[37m━━━━━━━━━━━━━━━\u001b[0m \u001b[1m0s\u001b[0m 3ms/step - accuracy: 0.9927 - loss: 0.0208\n",
      "\u001b[1m 34/143\u001b[0m \u001b[32m━━━━\u001b[0m\u001b[37m━━━━━━━━━━━━━━━━\u001b[0m \u001b[1m0s\u001b[0m 3ms/step - accuracy: 0.9884 - loss: 0.0224 \n",
      "\u001b[1m 70/143\u001b[0m \u001b[32m━━━━━━━━━\u001b[0m\u001b[37m━━━━━━━━━━━\u001b[0m \u001b[1m0s\u001b[0m 3ms/step - accuracy: 0.9898 - loss: 0.0263\n",
      "\u001b[36m(ClientAppActor pid=11972)\u001b[0m Client ID: 8\u001b[32m [repeated 8x across cluster]\u001b[0m\n",
      "\u001b[36m(ClientAppActor pid=11972)\u001b[0m Client  8 Training...\u001b[32m [repeated 9x across cluster]\u001b[0m\n",
      "\u001b[36m(ClientAppActor pid=11973)\u001b[0m Epoch 5/5\u001b[32m [repeated 38x across cluster]\u001b[0m\n",
      "\u001b[1m 13/143\u001b[0m \u001b[32m━\u001b[0m\u001b[37m━━━━━━━━━━━━━━━━━━━\u001b[0m \u001b[1m0s\u001b[0m 4ms/step - accuracy: 0.9992 - loss: 0.0096   \n"
     ]
    },
    {
     "name": "stderr",
     "output_type": "stream",
     "text": [
      "\u001b[92mINFO \u001b[0m:      aggregate_fit: received 10 results and 0 failures\n",
      "\u001b[93mWARNING \u001b[0m:   No fit_metrics_aggregation_fn provided\n"
     ]
    },
    {
     "name": "stdout",
     "output_type": "stream",
     "text": [
      "Server Evaluating... Evaluation Count:1\n",
      "\u001b[1m8602/8602\u001b[0m \u001b[32m━━━━━━━━━━━━━━━━━━━━\u001b[0m\u001b[37m\u001b[0m \u001b[1m14s\u001b[0m 2ms/step - accuracy: 0.9879 - loss: 0.0302\n",
      "\u001b[1m8602/8602\u001b[0m \u001b[32m━━━━━━━━━━━━━━━━━━━━\u001b[0m\u001b[37m\u001b[0m \u001b[1m8s\u001b[0m 878us/step\n"
     ]
    },
    {
     "name": "stderr",
     "output_type": "stream",
     "text": [
      "\u001b[92mINFO \u001b[0m:      fit progress: (1, 0.029791992157697678, {'accuracy': 0.9881965517997742}, 31.767755257999994)\n",
      "\u001b[92mINFO \u001b[0m:      configure_evaluate: strategy sampled 5 clients (out of 10)\n"
     ]
    },
    {
     "name": "stdout",
     "output_type": "stream",
     "text": [
      "Prediction:  [[9.6696574e-04 9.9903303e-01]\n",
      " [4.2147245e-04 9.9957854e-01]\n",
      " [7.0888101e-04 9.9929118e-01]\n",
      " ...\n",
      " [2.9519541e-04 9.9970484e-01]\n",
      " [7.2318845e-04 9.9927682e-01]\n",
      " [4.2175257e-04 9.9957830e-01]] (275258, 2)\n",
      "\u001b[33mServer evaluation complete - Accuracy: 0.9882, Loss: 0.0298\u001b[0m\n",
      "\u001b[36m(ClientAppActor pid=11969)\u001b[0m Client  2 Evaluating...\n",
      "\u001b[1m1/4\u001b[0m \u001b[32m━━━━━\u001b[0m\u001b[37m━━━━━━━━━━━━━━━\u001b[0m \u001b[1m0s\u001b[0m 29ms/step - accuracy: 1.0000 - loss: 0.0045\u001b[32m [repeated 25x across cluster]\u001b[0m\n",
      "\u001b[1m4/4\u001b[0m \u001b[32m━━━━━━━━━━━━━━━━━━━━\u001b[0m\u001b[37m\u001b[0m \u001b[1m3s\u001b[0m 31ms/step - accuracy: 0.9042 - loss: 0.2222\u001b[32m [repeated 3x across cluster]\u001b[0m\n",
      "\u001b[1m4/4\u001b[0m \u001b[32m━━━━━━━━━━━━━━━━━━━━\u001b[0m\u001b[37m\u001b[0m \u001b[1m0s\u001b[0m 11ms/step - accuracy: 1.0000 - loss: 0.0046\u001b[32m [repeated 11x across cluster]\u001b[0m\n",
      "\u001b[1m 30/143\u001b[0m \u001b[32m━━━━\u001b[0m\u001b[37m━━━━━━━━━━━━━━━━\u001b[0m \u001b[1m0s\u001b[0m 2ms/step - accuracy: 0.9884 - loss: 0.0266 \u001b[32m [repeated 21x across cluster]\u001b[0m\n",
      "\u001b[1m 78/143\u001b[0m \u001b[32m━━━━━━━━━━\u001b[0m\u001b[37m━━━━━━━━━━\u001b[0m \u001b[1m0s\u001b[0m 2ms/step - accuracy: 0.9904 - loss: 0.0216\u001b[32m [repeated 65x across cluster]\u001b[0m\n",
      "\u001b[1m143/143\u001b[0m \u001b[32m━━━━━━━━━━━━━━━━━━━━\u001b[0m\u001b[37m\u001b[0m \u001b[1m0s\u001b[0m 2ms/step - accuracy: 0.9905 - loss: 0.0221\u001b[32m [repeated 29x across cluster]\u001b[0m\n",
      "\u001b[1m120/143\u001b[0m \u001b[32m━━━━━━━━━━━━━━━━\u001b[0m\u001b[37m━━━━\u001b[0m \u001b[1m0s\u001b[0m 2ms/step - accuracy: 0.9904 - loss: 0.0224\u001b[32m [repeated 5x across cluster]\u001b[0m\n",
      "\u001b[1m4/4\u001b[0m \u001b[32m━━━━━━━━━━━━━━━━━━━━\u001b[0m\u001b[37m\u001b[0m \u001b[1m0s\u001b[0m 22ms/step - accuracy: 1.0000 - loss: 0.0597 \n",
      "\u001b[36m(ClientAppActor pid=11974)\u001b[0m Client  1 Training complete...\u001b[32m [repeated 9x across cluster]\u001b[0m\n",
      "\u001b[1m 38/143\u001b[0m \u001b[32m━━━━━\u001b[0m\u001b[37m━━━━━━━━━━━━━━━\u001b[0m \u001b[1m0s\u001b[0m 3ms/step - accuracy: 0.9902 - loss: 0.0223\u001b[32m [repeated 2x across cluster]\u001b[0m\n",
      "\u001b[1m 19/143\u001b[0m \u001b[32m━━\u001b[0m\u001b[37m━━━━━━━━━━━━━━━━━━\u001b[0m \u001b[1m0s\u001b[0m 3ms/step - accuracy: 0.9811 - loss: 0.0387 \n",
      "\u001b[36m(ClientAppActor pid=11969)\u001b[0m Client ID: 2\n",
      "\u001b[36m(ClientAppActor pid=11974)\u001b[0m Epoch 5/5\u001b[32m [repeated 11x across cluster]\u001b[0m\n",
      "\u001b[36m(ClientAppActor pid=11972)\u001b[0m Client ID: 1\n"
     ]
    },
    {
     "name": "stderr",
     "output_type": "stream",
     "text": [
      "\u001b[36m(ClientAppActor pid=11968)\u001b[0m \n",
      "\u001b[36m(ClientAppActor pid=11968)\u001b[0m         \n",
      "\u001b[36m(ClientAppActor pid=11968)\u001b[0m \u001b[93mWARNING \u001b[0m:   DEPRECATED FEATURE: `client_fn` now expects a signature `def client_fn(context: Context)`.The provided `client_fn` has signature: {'cid': <Parameter \"cid: str\">}. You can import the `Context` like this: `from flwr.common import Context`\u001b[32m [repeated 9x across cluster]\u001b[0m\n",
      "\u001b[36m(ClientAppActor pid=11968)\u001b[0m             This is a deprecated feature. It will be removed\u001b[32m [repeated 9x across cluster]\u001b[0m\n",
      "\u001b[36m(ClientAppActor pid=11968)\u001b[0m             entirely in future versions of Flower.\u001b[32m [repeated 9x across cluster]\u001b[0m\n",
      "\u001b[36m(ClientAppActor pid=11968)\u001b[0m /Users/user/Library/Python/3.9/lib/python/site-packages/keras/src/layers/reshaping/flatten.py:37: UserWarning: Do not pass an `input_shape`/`input_dim` argument to a layer. When using Sequential models, prefer using an `Input(shape)` object as the first layer in the model instead.\u001b[32m [repeated 9x across cluster]\u001b[0m\n",
      "\u001b[36m(ClientAppActor pid=11968)\u001b[0m   super().__init__(**kwargs)\u001b[32m [repeated 9x across cluster]\u001b[0m\n",
      "\u001b[36m(ClientAppActor pid=11972)\u001b[0m /Users/user/Library/Python/3.9/lib/python/site-packages/tensorflow/python/framework/tensor_util.py:522: DeprecationWarning: NumPy will stop allowing conversion of out-of-bound Python integers to integer arrays.  The conversion of 2147483648 to int32 will fail in the future.\u001b[32m [repeated 9x across cluster]\u001b[0m\n",
      "\u001b[36m(ClientAppActor pid=11972)\u001b[0m For the old behavior, usually:\u001b[32m [repeated 9x across cluster]\u001b[0m\n",
      "\u001b[36m(ClientAppActor pid=11972)\u001b[0m     np.array(value).astype(dtype)\u001b[32m [repeated 9x across cluster]\u001b[0m\n",
      "\u001b[36m(ClientAppActor pid=11972)\u001b[0m will give the desired result (the cast overflows).\u001b[32m [repeated 9x across cluster]\u001b[0m\n",
      "\u001b[36m(ClientAppActor pid=11972)\u001b[0m   nparray = np.array(values, dtype=np_dt)\u001b[32m [repeated 9x across cluster]\u001b[0m\n",
      "\u001b[36m(ClientAppActor pid=11972)\u001b[0m \n",
      "\u001b[36m(ClientAppActor pid=11972)\u001b[0m         \n",
      "\u001b[36m(ClientAppActor pid=11969)\u001b[0m \n",
      "\u001b[36m(ClientAppActor pid=11969)\u001b[0m         \n",
      "\u001b[36m(ClientAppActor pid=11971)\u001b[0m \n",
      "\u001b[36m(ClientAppActor pid=11971)\u001b[0m         \n",
      "\u001b[36m(ClientAppActor pid=11974)\u001b[0m \n",
      "\u001b[36m(ClientAppActor pid=11974)\u001b[0m         \n"
     ]
    },
    {
     "name": "stdout",
     "output_type": "stream",
     "text": [
      "\u001b[36m(ClientAppActor pid=11969)\u001b[0m \u001b[33mClient 2 evaluation complete - Accuracy: 0.898148, Loss: 0.296771\u001b[0m\n",
      "\u001b[1m 45/143\u001b[0m \u001b[32m━━━━━━\u001b[0m\u001b[37m━━━━━━━━━━━━━━\u001b[0m \u001b[1m0s\u001b[0m 2ms/step - accuracy: 0.9882 - loss: 0.0234  \n",
      "\u001b[1m4/4\u001b[0m \u001b[32m━━━━━━━━━━━━━━━━━━━━\u001b[0m\u001b[37m\u001b[0m \u001b[1m0s\u001b[0m 14ms/step - accuracy: 0.8417 - loss: 0.4243 \n"
     ]
    },
    {
     "name": "stderr",
     "output_type": "stream",
     "text": [
      "\u001b[92mINFO \u001b[0m:      aggregate_evaluate: received 5 results and 0 failures\n",
      "\u001b[93mWARNING \u001b[0m:   No evaluate_metrics_aggregation_fn provided\n",
      "\u001b[92mINFO \u001b[0m:      \n",
      "\u001b[92mINFO \u001b[0m:      [ROUND 2]\n",
      "\u001b[92mINFO \u001b[0m:      configure_fit: strategy sampled 10 clients (out of 10)\n",
      "\u001b[36m(ClientAppActor pid=11972)\u001b[0m \n",
      "\u001b[36m(ClientAppActor pid=11972)\u001b[0m         \n",
      "\u001b[36m(ClientAppActor pid=11971)\u001b[0m \n",
      "\u001b[36m(ClientAppActor pid=11971)\u001b[0m         \n",
      "\u001b[36m(ClientAppActor pid=11974)\u001b[0m \n",
      "\u001b[36m(ClientAppActor pid=11974)\u001b[0m         \n",
      "\u001b[36m(ClientAppActor pid=11967)\u001b[0m \n",
      "\u001b[36m(ClientAppActor pid=11967)\u001b[0m         \n",
      "\u001b[36m(ClientAppActor pid=11968)\u001b[0m \n",
      "\u001b[36m(ClientAppActor pid=11968)\u001b[0m         \n",
      "\u001b[36m(ClientAppActor pid=11969)\u001b[0m \n",
      "\u001b[36m(ClientAppActor pid=11969)\u001b[0m         \n",
      "\u001b[36m(ClientAppActor pid=11973)\u001b[0m \n",
      "\u001b[36m(ClientAppActor pid=11973)\u001b[0m         \n"
     ]
    },
    {
     "name": "stdout",
     "output_type": "stream",
     "text": [
      "\u001b[36m(ClientAppActor pid=11971)\u001b[0m Client  6 Training...\n"
     ]
    },
    {
     "name": "stderr",
     "output_type": "stream",
     "text": [
      "\u001b[36m(ClientAppActor pid=11970)\u001b[0m \n",
      "\u001b[36m(ClientAppActor pid=11970)\u001b[0m         \n",
      "\u001b[36m(ClientAppActor pid=11971)\u001b[0m \n",
      "\u001b[36m(ClientAppActor pid=11971)\u001b[0m         \n",
      "\u001b[36m(ClientAppActor pid=11974)\u001b[0m \n",
      "\u001b[36m(ClientAppActor pid=11974)\u001b[0m         \n"
     ]
    },
    {
     "name": "stdout",
     "output_type": "stream",
     "text": [
      "\u001b[1m 33/143\u001b[0m \u001b[32m━━━━\u001b[0m\u001b[37m━━━━━━━━━━━━━━━━\u001b[0m \u001b[1m0s\u001b[0m 3ms/step - accuracy: 0.9899 - loss: 0.0202   \n",
      "\u001b[1m 35/143\u001b[0m \u001b[32m━━━━\u001b[0m\u001b[37m━━━━━━━━━━━━━━━━\u001b[0m \u001b[1m0s\u001b[0m 3ms/step - accuracy: 0.9935 - loss: 0.0212   \n",
      "\u001b[36m(ClientAppActor pid=11971)\u001b[0m Client  9 Evaluating...\u001b[32m [repeated 4x across cluster]\u001b[0m\n",
      "\u001b[1m  1/143\u001b[0m \u001b[37m━━━━━━━━━━━━━━━━━━━━\u001b[0m \u001b[1m5s\u001b[0m 37ms/step - accuracy: 1.0000 - loss: 0.0152\u001b[32m [repeated 22x across cluster]\u001b[0m\n",
      "\u001b[1m4/4\u001b[0m \u001b[32m━━━━━━━━━━━━━━━━━━━━\u001b[0m\u001b[37m\u001b[0m \u001b[1m2s\u001b[0m 30ms/step - accuracy: 0.9225 - loss: 0.2789\u001b[32m [repeated 2x across cluster]\u001b[0m\n",
      "\u001b[1m4/4\u001b[0m \u001b[32m━━━━━━━━━━━━━━━━━━━━\u001b[0m\u001b[37m\u001b[0m \u001b[1m0s\u001b[0m 19ms/step - accuracy: 1.0000 - loss: 0.0191\u001b[32m [repeated 11x across cluster]\u001b[0m\n",
      "\u001b[1m 17/143\u001b[0m \u001b[32m━━\u001b[0m\u001b[37m━━━━━━━━━━━━━━━━━━\u001b[0m \u001b[1m0s\u001b[0m 3ms/step - accuracy: 0.9916 - loss: 0.0164 \u001b[32m [repeated 15x across cluster]\u001b[0m\n",
      "\u001b[1m123/143\u001b[0m \u001b[32m━━━━━━━━━━━━━━━━━\u001b[0m\u001b[37m━━━\u001b[0m \u001b[1m0s\u001b[0m 3ms/step - accuracy: 0.9938 - loss: 0.0158\u001b[32m [repeated 39x across cluster]\u001b[0m\n",
      "\u001b[1m143/143\u001b[0m \u001b[32m━━━━━━━━━━━━━━━━━━━━\u001b[0m\u001b[37m\u001b[0m \u001b[1m1s\u001b[0m 4ms/step - accuracy: 0.9915 - loss: 0.0190\u001b[32m [repeated 17x across cluster]\u001b[0m\n",
      "\u001b[1m140/143\u001b[0m \u001b[32m━━━━━━━━━━━━━━━━━━━\u001b[0m\u001b[37m━\u001b[0m \u001b[1m0s\u001b[0m 3ms/step - accuracy: 0.9931 - loss: 0.0187\u001b[32m [repeated 5x across cluster]\u001b[0m\n",
      "\u001b[36m(ClientAppActor pid=11973)\u001b[0m Client  4 Training complete...\u001b[32m [repeated 4x across cluster]\u001b[0m\n",
      "\u001b[1m 35/143\u001b[0m \u001b[32m━━━━\u001b[0m\u001b[37m━━━━━━━━━━━━━━━━\u001b[0m \u001b[1m0s\u001b[0m 3ms/step - accuracy: 0.9955 - loss: 0.0117\u001b[32m [repeated 4x across cluster]\u001b[0m\n",
      "\u001b[36m(ClientAppActor pid=11967)\u001b[0m Epoch 4/5\u001b[32m [repeated 35x across cluster]\u001b[0m\n",
      "\u001b[36m(ClientAppActor pid=11974)\u001b[0m Client ID: 0\u001b[32m [repeated 13x across cluster]\u001b[0m\n",
      "\u001b[1m 47/143\u001b[0m \u001b[32m━━━━━━\u001b[0m\u001b[37m━━━━━━━━━━━━━━\u001b[0m \u001b[1m0s\u001b[0m 3ms/step - accuracy: 0.9943 - loss: 0.0147\n"
     ]
    },
    {
     "name": "stderr",
     "output_type": "stream",
     "text": [
      "\u001b[36m(ClientAppActor pid=11974)\u001b[0m \u001b[93mWARNING \u001b[0m:   DEPRECATED FEATURE: `client_fn` now expects a signature `def client_fn(context: Context)`.The provided `client_fn` has signature: {'cid': <Parameter \"cid: str\">}. You can import the `Context` like this: `from flwr.common import Context`\u001b[32m [repeated 14x across cluster]\u001b[0m\n",
      "\u001b[36m(ClientAppActor pid=11974)\u001b[0m             This is a deprecated feature. It will be removed\u001b[32m [repeated 14x across cluster]\u001b[0m\n",
      "\u001b[36m(ClientAppActor pid=11974)\u001b[0m             entirely in future versions of Flower.\u001b[32m [repeated 14x across cluster]\u001b[0m\n",
      "\u001b[36m(ClientAppActor pid=11974)\u001b[0m /Users/user/Library/Python/3.9/lib/python/site-packages/keras/src/layers/reshaping/flatten.py:37: UserWarning: Do not pass an `input_shape`/`input_dim` argument to a layer. When using Sequential models, prefer using an `Input(shape)` object as the first layer in the model instead.\u001b[32m [repeated 14x across cluster]\u001b[0m\n",
      "\u001b[36m(ClientAppActor pid=11974)\u001b[0m   super().__init__(**kwargs)\u001b[32m [repeated 14x across cluster]\u001b[0m\n",
      "\u001b[36m(ClientAppActor pid=11971)\u001b[0m /Users/user/Library/Python/3.9/lib/python/site-packages/tensorflow/python/framework/tensor_util.py:522: DeprecationWarning: NumPy will stop allowing conversion of out-of-bound Python integers to integer arrays.  The conversion of 2147483648 to int32 will fail in the future.\u001b[32m [repeated 14x across cluster]\u001b[0m\n",
      "\u001b[36m(ClientAppActor pid=11971)\u001b[0m For the old behavior, usually:\u001b[32m [repeated 14x across cluster]\u001b[0m\n",
      "\u001b[36m(ClientAppActor pid=11971)\u001b[0m     np.array(value).astype(dtype)\u001b[32m [repeated 14x across cluster]\u001b[0m\n",
      "\u001b[36m(ClientAppActor pid=11971)\u001b[0m will give the desired result (the cast overflows).\u001b[32m [repeated 14x across cluster]\u001b[0m\n",
      "\u001b[36m(ClientAppActor pid=11971)\u001b[0m   nparray = np.array(values, dtype=np_dt)\u001b[32m [repeated 14x across cluster]\u001b[0m\n"
     ]
    },
    {
     "name": "stdout",
     "output_type": "stream",
     "text": [
      "\u001b[36m(ClientAppActor pid=11974)\u001b[0m \u001b[33mClient 7 evaluation complete - Accuracy: 0.990382, Loss: 0.028199\u001b[0m\u001b[32m [repeated 4x across cluster]\u001b[0m\n",
      "\u001b[1m 12/143\u001b[0m \u001b[32m━\u001b[0m\u001b[37m━━━━━━━━━━━━━━━━━━━\u001b[0m \u001b[1m0s\u001b[0m 5ms/step - accuracy: 0.9976 - loss: 0.0058     \n",
      "\u001b[1m 12/143\u001b[0m \u001b[32m━\u001b[0m\u001b[37m━━━━━━━━━━━━━━━━━━━\u001b[0m \u001b[1m0s\u001b[0m 5ms/step - accuracy: 0.9944 - loss: 0.0124 \n",
      "\u001b[1m4/4\u001b[0m \u001b[32m━━━━━━━━━━━━━━━━━━━━\u001b[0m\u001b[37m\u001b[0m \u001b[1m0s\u001b[0m 16ms/step - accuracy: 1.0000 - loss: 0.0237 \n",
      "\u001b[36m(ClientAppActor pid=11974)\u001b[0m Client  0 Training...\u001b[32m [repeated 9x across cluster]\u001b[0m\n"
     ]
    },
    {
     "name": "stderr",
     "output_type": "stream",
     "text": [
      "\u001b[92mINFO \u001b[0m:      aggregate_fit: received 10 results and 0 failures\n"
     ]
    },
    {
     "name": "stdout",
     "output_type": "stream",
     "text": [
      "Server Evaluating... Evaluation Count:2\n",
      "\u001b[1m8602/8602\u001b[0m \u001b[32m━━━━━━━━━━━━━━━━━━━━\u001b[0m\u001b[37m\u001b[0m \u001b[1m13s\u001b[0m 2ms/step - accuracy: 0.9894 - loss: 0.0257\n",
      "\u001b[1m8602/8602\u001b[0m \u001b[32m━━━━━━━━━━━━━━━━━━━━\u001b[0m\u001b[37m\u001b[0m \u001b[1m7s\u001b[0m 836us/step\n"
     ]
    },
    {
     "name": "stderr",
     "output_type": "stream",
     "text": [
      "\u001b[92mINFO \u001b[0m:      fit progress: (2, 0.02541358768939972, {'accuracy': 0.9895516037940979}, 63.04537081100001)\n",
      "\u001b[92mINFO \u001b[0m:      configure_evaluate: strategy sampled 5 clients (out of 10)\n"
     ]
    },
    {
     "name": "stdout",
     "output_type": "stream",
     "text": [
      "Prediction:  [[1.8779645e-05 9.9998111e-01]\n",
      " [1.5068599e-05 9.9998492e-01]\n",
      " [2.6627516e-05 9.9997336e-01]\n",
      " ...\n",
      " [5.9087452e-06 9.9999398e-01]\n",
      " [2.7535796e-05 9.9997246e-01]\n",
      " [1.5077053e-05 9.9998498e-01]] (275258, 2)\n",
      "\u001b[33mServer evaluation complete - Accuracy: 0.9896, Loss: 0.0254\u001b[0m\n",
      "\u001b[1m 49/143\u001b[0m \u001b[32m━━━━━━\u001b[0m\u001b[37m━━━━━━━━━━━━━━\u001b[0m \u001b[1m0s\u001b[0m 2ms/step - accuracy: 0.9934 - loss: 0.0150\u001b[32m [repeated 3x across cluster]\u001b[0m\n",
      "\u001b[1m  1/143\u001b[0m \u001b[37m━━━━━━━━━━━━━━━━━━━━\u001b[0m \u001b[1m3s\u001b[0m 26ms/step - accuracy: 1.0000 - loss: 7.7243e-05\u001b[32m [repeated 12x across cluster]\u001b[0m\n",
      "\u001b[1m4/4\u001b[0m \u001b[32m━━━━━━━━━━━━━━━━━━━━\u001b[0m\u001b[37m\u001b[0m \u001b[1m2s\u001b[0m 12ms/step - accuracy: 0.9131 - loss: 0.2353\n",
      "\u001b[1m4/4\u001b[0m \u001b[32m━━━━━━━━━━━━━━━━━━━━\u001b[0m\u001b[37m\u001b[0m \u001b[1m0s\u001b[0m 11ms/step - accuracy: 1.0000 - loss: 0.0168\u001b[32m [repeated 5x across cluster]\u001b[0m\n",
      "\u001b[1m143/143\u001b[0m \u001b[32m━━━━━━━━━━━━━━━━━━━━\u001b[0m\u001b[37m\u001b[0m \u001b[1m0s\u001b[0m 2ms/step - accuracy: 0.9925 - loss: 0.0163\u001b[32m [repeated 40x across cluster]\u001b[0m\n",
      "\u001b[1m143/143\u001b[0m \u001b[32m━━━━━━━━━━━━━━━━━━━━\u001b[0m\u001b[37m\u001b[0m \u001b[1m0s\u001b[0m 2ms/step - accuracy: 0.9907 - loss: 0.0195\u001b[32m [repeated 9x across cluster]\u001b[0m\n",
      "\u001b[1m 88/143\u001b[0m \u001b[32m━━━━━━━━━━━━\u001b[0m\u001b[37m━━━━━━━━\u001b[0m \u001b[1m0s\u001b[0m 4ms/step - accuracy: 0.9950 - loss: 0.0123\n",
      "\u001b[36m(ClientAppActor pid=11971)\u001b[0m Client  1 Training complete...\u001b[32m [repeated 6x across cluster]\u001b[0m\n",
      "\u001b[1m 60/143\u001b[0m \u001b[32m━━━━━━━━\u001b[0m\u001b[37m━━━━━━━━━━━━\u001b[0m \u001b[1m0s\u001b[0m 2ms/step - accuracy: 0.9890 - loss: 0.0227\u001b[32m [repeated 5x across cluster]\u001b[0m\n",
      "\u001b[36m(ClientAppActor pid=11971)\u001b[0m Epoch 5/5\u001b[32m [repeated 15x across cluster]\u001b[0m\n",
      "\u001b[36m(ClientAppActor pid=11971)\u001b[0m Client ID: 9\n",
      "\u001b[1m 32/143\u001b[0m \u001b[32m━━━━\u001b[0m\u001b[37m━━━━━━━━━━━━━━━━\u001b[0m \u001b[1m0s\u001b[0m 2ms/step - accuracy: 0.9913 - loss: 0.0182     \n",
      "\u001b[36m(ClientAppActor pid=11969)\u001b[0m Client ID: 0\n",
      "\u001b[36m(ClientAppActor pid=11969)\u001b[0m Client  0 Evaluating...\n"
     ]
    },
    {
     "name": "stderr",
     "output_type": "stream",
     "text": [
      "\u001b[36m(ClientAppActor pid=11971)\u001b[0m \n",
      "\u001b[36m(ClientAppActor pid=11971)\u001b[0m         \n",
      "\u001b[36m(ClientAppActor pid=11971)\u001b[0m \u001b[93mWARNING \u001b[0m:   DEPRECATED FEATURE: `client_fn` now expects a signature `def client_fn(context: Context)`.The provided `client_fn` has signature: {'cid': <Parameter \"cid: str\">}. You can import the `Context` like this: `from flwr.common import Context`\n",
      "\u001b[36m(ClientAppActor pid=11971)\u001b[0m             This is a deprecated feature. It will be removed\n",
      "\u001b[36m(ClientAppActor pid=11971)\u001b[0m             entirely in future versions of Flower.\n",
      "\u001b[36m(ClientAppActor pid=11971)\u001b[0m /Users/user/Library/Python/3.9/lib/python/site-packages/keras/src/layers/reshaping/flatten.py:37: UserWarning: Do not pass an `input_shape`/`input_dim` argument to a layer. When using Sequential models, prefer using an `Input(shape)` object as the first layer in the model instead.\n",
      "\u001b[36m(ClientAppActor pid=11971)\u001b[0m   super().__init__(**kwargs)\n",
      "\u001b[36m(ClientAppActor pid=11974)\u001b[0m /Users/user/Library/Python/3.9/lib/python/site-packages/tensorflow/python/framework/tensor_util.py:522: DeprecationWarning: NumPy will stop allowing conversion of out-of-bound Python integers to integer arrays.  The conversion of 2147483648 to int32 will fail in the future.\n",
      "\u001b[36m(ClientAppActor pid=11974)\u001b[0m For the old behavior, usually:\n",
      "\u001b[36m(ClientAppActor pid=11974)\u001b[0m     np.array(value).astype(dtype)\n",
      "\u001b[36m(ClientAppActor pid=11974)\u001b[0m will give the desired result (the cast overflows).\n",
      "\u001b[36m(ClientAppActor pid=11974)\u001b[0m   nparray = np.array(values, dtype=np_dt)\n",
      "\u001b[36m(ClientAppActor pid=11972)\u001b[0m \u001b[93mWARNING \u001b[0m:   DEPRECATED FEATURE: `client_fn` now expects a signature `def client_fn(context: Context)`.The provided `client_fn` has signature: {'cid': <Parameter \"cid: str\">}. You can import the `Context` like this: `from flwr.common import Context`\n",
      "\u001b[36m(ClientAppActor pid=11972)\u001b[0m \n",
      "\u001b[36m(ClientAppActor pid=11972)\u001b[0m             This is a deprecated feature. It will be removed\n",
      "\u001b[36m(ClientAppActor pid=11972)\u001b[0m             entirely in future versions of Flower.\n",
      "\u001b[36m(ClientAppActor pid=11972)\u001b[0m         \n",
      "\u001b[36m(ClientAppActor pid=11972)\u001b[0m /Users/user/Library/Python/3.9/lib/python/site-packages/keras/src/layers/reshaping/flatten.py:37: UserWarning: Do not pass an `input_shape`/`input_dim` argument to a layer. When using Sequential models, prefer using an `Input(shape)` object as the first layer in the model instead.\n",
      "\u001b[36m(ClientAppActor pid=11972)\u001b[0m   super().__init__(**kwargs)\n",
      "\u001b[36m(ClientAppActor pid=11970)\u001b[0m \n",
      "\u001b[36m(ClientAppActor pid=11970)\u001b[0m         \n",
      "\u001b[36m(ClientAppActor pid=11969)\u001b[0m \n",
      "\u001b[36m(ClientAppActor pid=11969)\u001b[0m         \n",
      "\u001b[36m(ClientAppActor pid=11974)\u001b[0m \n",
      "\u001b[36m(ClientAppActor pid=11974)\u001b[0m         \n",
      "\u001b[36m(ClientAppActor pid=11972)\u001b[0m /Users/user/Library/Python/3.9/lib/python/site-packages/tensorflow/python/framework/tensor_util.py:522: DeprecationWarning: NumPy will stop allowing conversion of out-of-bound Python integers to integer arrays.  The conversion of 2147483648 to int32 will fail in the future.\n",
      "\u001b[36m(ClientAppActor pid=11972)\u001b[0m For the old behavior, usually:\n",
      "\u001b[36m(ClientAppActor pid=11972)\u001b[0m     np.array(value).astype(dtype)\n",
      "\u001b[36m(ClientAppActor pid=11972)\u001b[0m will give the desired result (the cast overflows).\n",
      "\u001b[36m(ClientAppActor pid=11972)\u001b[0m   nparray = np.array(values, dtype=np_dt)\n"
     ]
    },
    {
     "name": "stdout",
     "output_type": "stream",
     "text": [
      "\u001b[1m 13/143\u001b[0m \u001b[32m━\u001b[0m\u001b[37m━━━━━━━━━━━━━━━━━━━\u001b[0m \u001b[1m0s\u001b[0m 4ms/step - accuracy: 0.9989 - loss: 0.0041        \n",
      "\u001b[1m4/4\u001b[0m \u001b[32m━━━━━━━━━━━━━━━━━━━━\u001b[0m\u001b[37m\u001b[0m \u001b[1m1s\u001b[0m 18ms/step - accuracy: 0.9053 - loss: 0.2562 \n",
      "\u001b[36m(ClientAppActor pid=11969)\u001b[0m \u001b[33mClient 0 evaluation complete - Accuracy: 0.935185, Loss: 0.224780\u001b[0m\n",
      "\u001b[1m 34/143\u001b[0m \u001b[32m━━━━\u001b[0m\u001b[37m━━━━━━━━━━━━━━━━\u001b[0m \u001b[1m0s\u001b[0m 3ms/step - accuracy: 0.9909 - loss: 0.0222      \n"
     ]
    },
    {
     "name": "stderr",
     "output_type": "stream",
     "text": [
      "\u001b[92mINFO \u001b[0m:      aggregate_evaluate: received 5 results and 0 failures\n",
      "\u001b[92mINFO \u001b[0m:      \n",
      "\u001b[92mINFO \u001b[0m:      [ROUND 3]\n",
      "\u001b[92mINFO \u001b[0m:      configure_fit: strategy sampled 10 clients (out of 10)\n"
     ]
    },
    {
     "name": "stdout",
     "output_type": "stream",
     "text": [
      "\u001b[1m105/143\u001b[0m \u001b[32m━━━━━━━━━━━━━━\u001b[0m\u001b[37m━━━━━━\u001b[0m \u001b[1m0s\u001b[0m 2ms/step - accuracy: 0.9915 - loss: 0.0204\n"
     ]
    },
    {
     "name": "stderr",
     "output_type": "stream",
     "text": [
      "\u001b[36m(ClientAppActor pid=11972)\u001b[0m \n",
      "\u001b[36m(ClientAppActor pid=11972)\u001b[0m         \n",
      "\u001b[36m(ClientAppActor pid=11974)\u001b[0m \n",
      "\u001b[36m(ClientAppActor pid=11974)\u001b[0m         \n",
      "\u001b[36m(ClientAppActor pid=11967)\u001b[0m \n",
      "\u001b[36m(ClientAppActor pid=11967)\u001b[0m         \n",
      "\u001b[36m(ClientAppActor pid=11970)\u001b[0m \n",
      "\u001b[36m(ClientAppActor pid=11970)\u001b[0m         \n",
      "\u001b[36m(ClientAppActor pid=11969)\u001b[0m \n",
      "\u001b[36m(ClientAppActor pid=11969)\u001b[0m         \n",
      "\u001b[36m(ClientAppActor pid=11971)\u001b[0m \n",
      "\u001b[36m(ClientAppActor pid=11971)\u001b[0m         \n",
      "\u001b[36m(ClientAppActor pid=11973)\u001b[0m \n",
      "\u001b[36m(ClientAppActor pid=11973)\u001b[0m         \n",
      "\u001b[36m(ClientAppActor pid=11968)\u001b[0m \n",
      "\u001b[36m(ClientAppActor pid=11968)\u001b[0m         \n"
     ]
    },
    {
     "name": "stdout",
     "output_type": "stream",
     "text": [
      "\u001b[36m(ClientAppActor pid=11969)\u001b[0m Client  1 Training...\n",
      "\u001b[1m4/4\u001b[0m \u001b[32m━━━━━━━━━━━━━━━━━━━━\u001b[0m\u001b[37m\u001b[0m \u001b[1m2s\u001b[0m 25ms/step - accuracy: 0.8880 - loss: 0.2789\n",
      "\u001b[1m4/4\u001b[0m \u001b[32m━━━━━━━━━━━━━━━━━━━━\u001b[0m\u001b[37m\u001b[0m \u001b[1m0s\u001b[0m 16ms/step - accuracy: 0.9911 - loss: 0.1007\n"
     ]
    },
    {
     "name": "stderr",
     "output_type": "stream",
     "text": [
      "\u001b[36m(ClientAppActor pid=11967)\u001b[0m \n",
      "\u001b[36m(ClientAppActor pid=11967)\u001b[0m         \n",
      "\u001b[36m(ClientAppActor pid=11968)\u001b[0m \n",
      "\u001b[36m(ClientAppActor pid=11968)\u001b[0m         \n"
     ]
    },
    {
     "name": "stdout",
     "output_type": "stream",
     "text": [
      "\u001b[1m 46/143\u001b[0m \u001b[32m━━━━━━\u001b[0m\u001b[37m━━━━━━━━━━━━━━\u001b[0m \u001b[1m0s\u001b[0m 3ms/step - accuracy: 0.9898 - loss: 0.0192\n",
      "\u001b[1m 30/143\u001b[0m \u001b[32m━━━━\u001b[0m\u001b[37m━━━━━━━━━━━━━━━━\u001b[0m \u001b[1m0s\u001b[0m 4ms/step - accuracy: 0.9855 - loss: 0.0193\n",
      "\u001b[1m  1/143\u001b[0m \u001b[37m━━━━━━━━━━━━━━━━━━━━\u001b[0m \u001b[1m5s\u001b[0m 37ms/step - accuracy: 1.0000 - loss: 0.0028\u001b[32m [repeated 28x across cluster]\u001b[0m\n",
      "\u001b[1m 18/143\u001b[0m \u001b[32m━━\u001b[0m\u001b[37m━━━━━━━━━━━━━━━━━━\u001b[0m \u001b[1m0s\u001b[0m 3ms/step - accuracy: 0.9982 - loss: 0.0112 \u001b[32m [repeated 11x across cluster]\u001b[0m\n",
      "\u001b[1m143/143\u001b[0m \u001b[32m━━━━━━━━━━━━━━━━━━━━\u001b[0m\u001b[37m\u001b[0m \u001b[1m1s\u001b[0m 4ms/step - accuracy: 0.9960 - loss: 0.0122\u001b[32m [repeated 43x across cluster]\u001b[0m\n",
      "\u001b[1m143/143\u001b[0m \u001b[32m━━━━━━━━━━━━━━━━━━━━\u001b[0m\u001b[37m\u001b[0m \u001b[1m1s\u001b[0m 4ms/step - accuracy: 0.9955 - loss: 0.0134\u001b[32m [repeated 18x across cluster]\u001b[0m\n",
      "\u001b[36m(ClientAppActor pid=11973)\u001b[0m Client  0 Training complete...\u001b[32m [repeated 4x across cluster]\u001b[0m\n",
      "\u001b[1m 36/143\u001b[0m \u001b[32m━━━━━\u001b[0m\u001b[37m━━━━━━━━━━━━━━━\u001b[0m \u001b[1m0s\u001b[0m 3ms/step - accuracy: 0.9964 - loss: 0.0141\u001b[32m [repeated 3x across cluster]\u001b[0m\n",
      "\u001b[36m(ClientAppActor pid=11974)\u001b[0m Epoch 4/5\u001b[32m [repeated 38x across cluster]\u001b[0m\n",
      "\u001b[36m(ClientAppActor pid=11968)\u001b[0m Client ID: 7\u001b[32m [repeated 13x across cluster]\u001b[0m\n",
      "\u001b[36m(ClientAppActor pid=11972)\u001b[0m Client  7 Evaluating...\u001b[32m [repeated 4x across cluster]\u001b[0m\n",
      "\u001b[1m 33/143\u001b[0m \u001b[32m━━━━\u001b[0m\u001b[37m━━━━━━━━━━━━━━━━\u001b[0m \u001b[1m0s\u001b[0m 3ms/step - accuracy: 0.9964 - loss: 0.0138   \n"
     ]
    },
    {
     "name": "stderr",
     "output_type": "stream",
     "text": [
      "\u001b[36m(ClientAppActor pid=11968)\u001b[0m \u001b[93mWARNING \u001b[0m:   DEPRECATED FEATURE: `client_fn` now expects a signature `def client_fn(context: Context)`.The provided `client_fn` has signature: {'cid': <Parameter \"cid: str\">}. You can import the `Context` like this: `from flwr.common import Context`\u001b[32m [repeated 13x across cluster]\u001b[0m\n",
      "\u001b[36m(ClientAppActor pid=11968)\u001b[0m             This is a deprecated feature. It will be removed\u001b[32m [repeated 13x across cluster]\u001b[0m\n",
      "\u001b[36m(ClientAppActor pid=11968)\u001b[0m             entirely in future versions of Flower.\u001b[32m [repeated 13x across cluster]\u001b[0m\n",
      "\u001b[36m(ClientAppActor pid=11968)\u001b[0m /Users/user/Library/Python/3.9/lib/python/site-packages/keras/src/layers/reshaping/flatten.py:37: UserWarning: Do not pass an `input_shape`/`input_dim` argument to a layer. When using Sequential models, prefer using an `Input(shape)` object as the first layer in the model instead.\u001b[32m [repeated 13x across cluster]\u001b[0m\n",
      "\u001b[36m(ClientAppActor pid=11968)\u001b[0m   super().__init__(**kwargs)\u001b[32m [repeated 13x across cluster]\u001b[0m\n"
     ]
    },
    {
     "name": "stdout",
     "output_type": "stream",
     "text": [
      "\u001b[1m4/4\u001b[0m \u001b[32m━━━━━━━━━━━━━━━━━━━━\u001b[0m\u001b[37m\u001b[0m \u001b[1m0s\u001b[0m 18ms/step - accuracy: 1.0000 - loss: 0.0267 \u001b[32m [repeated 3x across cluster]\u001b[0m\n",
      "\u001b[36m(ClientAppActor pid=11972)\u001b[0m \u001b[33mClient 7 evaluation complete - Accuracy: 0.991913, Loss: 0.023357\u001b[0m\u001b[32m [repeated 4x across cluster]\u001b[0m\n",
      "\u001b[1m129/143\u001b[0m \u001b[32m━━━━━━━━━━━━━━━━━━\u001b[0m\u001b[37m━━\u001b[0m \u001b[1m0s\u001b[0m 4ms/step - accuracy: 0.9928 - loss: 0.0132\u001b[32m [repeated 6x across cluster]\u001b[0m\n",
      "\u001b[36m(ClientAppActor pid=11968)\u001b[0m Client  7 Training...\u001b[32m [repeated 9x across cluster]\u001b[0m\n",
      "\u001b[1m 20/143\u001b[0m \u001b[32m━━\u001b[0m\u001b[37m━━━━━━━━━━━━━━━━━━\u001b[0m \u001b[1m0s\u001b[0m 3ms/step - accuracy: 0.9878 - loss: 0.0365 \n",
      "\u001b[1m 64/143\u001b[0m \u001b[32m━━━━━━━━\u001b[0m\u001b[37m━━━━━━━━━━━━\u001b[0m \u001b[1m0s\u001b[0m 2ms/step - accuracy: 0.9925 - loss: 0.0163\n"
     ]
    },
    {
     "name": "stderr",
     "output_type": "stream",
     "text": [
      "\u001b[92mINFO \u001b[0m:      aggregate_fit: received 10 results and 0 failures\n"
     ]
    },
    {
     "name": "stdout",
     "output_type": "stream",
     "text": [
      "Server Evaluating... Evaluation Count:3\n",
      "\u001b[1m4/4\u001b[0m \u001b[32m━━━━━━━━━━━━━━━━━━━━\u001b[0m\u001b[37m\u001b[0m \u001b[1m2s\u001b[0m 25ms/step - accuracy: 0.9550 - loss: 0.2199\u001b[32m [repeated 2x across cluster]\u001b[0m\n",
      "\u001b[1m8602/8602\u001b[0m \u001b[32m━━━━━━━━━━━━━━━━━━━━\u001b[0m\u001b[37m\u001b[0m \u001b[1m12s\u001b[0m 1ms/step - accuracy: 0.9894 - loss: 0.0280\n",
      "\u001b[1m8602/8602\u001b[0m \u001b[32m━━━━━━━━━━━━━━━━━━━━\u001b[0m\u001b[37m\u001b[0m \u001b[1m7s\u001b[0m 781us/step\n"
     ]
    },
    {
     "name": "stderr",
     "output_type": "stream",
     "text": [
      "\u001b[92mINFO \u001b[0m:      fit progress: (3, 0.027668915688991547, {'accuracy': 0.9896097183227539}, 93.50949381899999)\n",
      "\u001b[92mINFO \u001b[0m:      configure_evaluate: strategy sampled 5 clients (out of 10)\n"
     ]
    },
    {
     "name": "stdout",
     "output_type": "stream",
     "text": [
      "Prediction:  [[2.2191500e-06 9.9999768e-01]\n",
      " [4.1913340e-06 9.9999577e-01]\n",
      " [3.1587174e-06 9.9999684e-01]\n",
      " ...\n",
      " [1.0714903e-06 9.9999887e-01]\n",
      " [3.3258214e-06 9.9999666e-01]\n",
      " [4.1944695e-06 9.9999583e-01]] (275258, 2)\n",
      "\u001b[33mServer evaluation complete - Accuracy: 0.9896, Loss: 0.0277\u001b[0m\n",
      "\u001b[1m4/4\u001b[0m \u001b[32m━━━━━━━━━━━━━━━━━━━━\u001b[0m\u001b[37m\u001b[0m \u001b[1m0s\u001b[0m 12ms/step - accuracy: 0.9942 - loss: 0.0515\u001b[32m [repeated 11x across cluster]\u001b[0m\n",
      "\u001b[1m 36/143\u001b[0m \u001b[32m━━━━━\u001b[0m\u001b[37m━━━━━━━━━━━━━━━\u001b[0m \u001b[1m0s\u001b[0m 3ms/step - accuracy: 0.9978 - loss: 0.0103\n",
      "\u001b[1m  1/143\u001b[0m \u001b[37m━━━━━━━━━━━━━━━━━━━━\u001b[0m \u001b[1m3s\u001b[0m 27ms/step - accuracy: 0.9688 - loss: 0.0371\u001b[32m [repeated 7x across cluster]\u001b[0m\n",
      "\u001b[1m 29/143\u001b[0m \u001b[32m━━━━\u001b[0m\u001b[37m━━━━━━━━━━━━━━━━\u001b[0m \u001b[1m0s\u001b[0m 2ms/step - accuracy: 0.9972 - loss: 0.0076     \u001b[32m [repeated 8x across cluster]\u001b[0m\n",
      "\u001b[1m131/143\u001b[0m \u001b[32m━━━━━━━━━━━━━━━━━━\u001b[0m\u001b[37m━━\u001b[0m \u001b[1m0s\u001b[0m 2ms/step - accuracy: 0.9952 - loss: 0.0102\u001b[32m [repeated 31x across cluster]\u001b[0m\n",
      "\u001b[1m143/143\u001b[0m \u001b[32m━━━━━━━━━━━━━━━━━━━━\u001b[0m\u001b[37m\u001b[0m \u001b[1m0s\u001b[0m 2ms/step - accuracy: 0.9951 - loss: 0.0103\u001b[32m [repeated 20x across cluster]\u001b[0m\n",
      "\u001b[36m(ClientAppActor pid=11968)\u001b[0m Client  7 Training complete...\u001b[32m [repeated 6x across cluster]\u001b[0m\n",
      "\u001b[1m 55/143\u001b[0m \u001b[32m━━━━━━━\u001b[0m\u001b[37m━━━━━━━━━━━━━\u001b[0m \u001b[1m0s\u001b[0m 2ms/step - accuracy: 0.9960 - loss: 0.0096\u001b[32m [repeated 5x across cluster]\u001b[0m\n",
      "\u001b[36m(ClientAppActor pid=11968)\u001b[0m Epoch 5/5\u001b[32m [repeated 12x across cluster]\u001b[0m\n",
      "\u001b[36m(ClientAppActor pid=11967)\u001b[0m Client ID: 0\n",
      "\u001b[36m(ClientAppActor pid=11967)\u001b[0m Client  0 Evaluating...\n",
      "\u001b[1m 39/143\u001b[0m \u001b[32m━━━━━\u001b[0m\u001b[37m━━━━━━━━━━━━━━━\u001b[0m \u001b[1m0s\u001b[0m 3ms/step - accuracy: 0.9997 - loss: 0.0036   \n",
      "\u001b[1m115/143\u001b[0m \u001b[32m━━━━━━━━━━━━━━━━\u001b[0m\u001b[37m━━━━\u001b[0m \u001b[1m0s\u001b[0m 3ms/step - accuracy: 0.9938 - loss: 0.0142\n",
      "\u001b[36m(ClientAppActor pid=11969)\u001b[0m Client ID: 5\n",
      "\u001b[36m(ClientAppActor pid=11969)\u001b[0m Client  5 Evaluating...\n"
     ]
    },
    {
     "name": "stderr",
     "output_type": "stream",
     "text": [
      "\u001b[36m(ClientAppActor pid=11967)\u001b[0m \n",
      "\u001b[36m(ClientAppActor pid=11967)\u001b[0m         \n",
      "\u001b[36m(ClientAppActor pid=11968)\u001b[0m /Users/user/Library/Python/3.9/lib/python/site-packages/tensorflow/python/framework/tensor_util.py:522: DeprecationWarning: NumPy will stop allowing conversion of out-of-bound Python integers to integer arrays.  The conversion of 2147483648 to int32 will fail in the future.\u001b[32m [repeated 14x across cluster]\u001b[0m\n",
      "\u001b[36m(ClientAppActor pid=11968)\u001b[0m For the old behavior, usually:\u001b[32m [repeated 14x across cluster]\u001b[0m\n",
      "\u001b[36m(ClientAppActor pid=11968)\u001b[0m     np.array(value).astype(dtype)\u001b[32m [repeated 14x across cluster]\u001b[0m\n",
      "\u001b[36m(ClientAppActor pid=11968)\u001b[0m will give the desired result (the cast overflows).\u001b[32m [repeated 14x across cluster]\u001b[0m\n",
      "\u001b[36m(ClientAppActor pid=11968)\u001b[0m   nparray = np.array(values, dtype=np_dt)\u001b[32m [repeated 14x across cluster]\u001b[0m\n",
      "\u001b[36m(ClientAppActor pid=11967)\u001b[0m \u001b[93mWARNING \u001b[0m:   DEPRECATED FEATURE: `client_fn` now expects a signature `def client_fn(context: Context)`.The provided `client_fn` has signature: {'cid': <Parameter \"cid: str\">}. You can import the `Context` like this: `from flwr.common import Context`\n",
      "\u001b[36m(ClientAppActor pid=11967)\u001b[0m             This is a deprecated feature. It will be removed\n",
      "\u001b[36m(ClientAppActor pid=11967)\u001b[0m             entirely in future versions of Flower.\n",
      "\u001b[36m(ClientAppActor pid=11967)\u001b[0m /Users/user/Library/Python/3.9/lib/python/site-packages/keras/src/layers/reshaping/flatten.py:37: UserWarning: Do not pass an `input_shape`/`input_dim` argument to a layer. When using Sequential models, prefer using an `Input(shape)` object as the first layer in the model instead.\n",
      "\u001b[36m(ClientAppActor pid=11967)\u001b[0m   super().__init__(**kwargs)\n",
      "\u001b[36m(ClientAppActor pid=11968)\u001b[0m \u001b[93mWARNING \u001b[0m:   DEPRECATED FEATURE: `client_fn` now expects a signature `def client_fn(context: Context)`.The provided `client_fn` has signature: {'cid': <Parameter \"cid: str\">}. You can import the `Context` like this: `from flwr.common import Context`\n",
      "\u001b[36m(ClientAppActor pid=11968)\u001b[0m \n",
      "\u001b[36m(ClientAppActor pid=11968)\u001b[0m             This is a deprecated feature. It will be removed\n",
      "\u001b[36m(ClientAppActor pid=11968)\u001b[0m             entirely in future versions of Flower.\n",
      "\u001b[36m(ClientAppActor pid=11968)\u001b[0m         \n",
      "\u001b[36m(ClientAppActor pid=11968)\u001b[0m /Users/user/Library/Python/3.9/lib/python/site-packages/keras/src/layers/reshaping/flatten.py:37: UserWarning: Do not pass an `input_shape`/`input_dim` argument to a layer. When using Sequential models, prefer using an `Input(shape)` object as the first layer in the model instead.\n",
      "\u001b[36m(ClientAppActor pid=11968)\u001b[0m   super().__init__(**kwargs)\n",
      "\u001b[36m(ClientAppActor pid=11972)\u001b[0m \n",
      "\u001b[36m(ClientAppActor pid=11972)\u001b[0m         \n",
      "\u001b[36m(ClientAppActor pid=11969)\u001b[0m \n",
      "\u001b[36m(ClientAppActor pid=11969)\u001b[0m         \n",
      "\u001b[36m(ClientAppActor pid=11974)\u001b[0m \n",
      "\u001b[36m(ClientAppActor pid=11974)\u001b[0m         \n"
     ]
    },
    {
     "name": "stdout",
     "output_type": "stream",
     "text": [
      "\u001b[36m(ClientAppActor pid=11968)\u001b[0m \u001b[33mClient 8 evaluation complete - Accuracy: 0.879630, Loss: 0.341081\u001b[0m\n",
      "\u001b[1m4/4\u001b[0m \u001b[32m━━━━━━━━━━━━━━━━━━━━\u001b[0m\u001b[37m\u001b[0m \u001b[1m0s\u001b[0m 9ms/step - accuracy: 0.9811 - loss: 0.1415  \n"
     ]
    },
    {
     "name": "stderr",
     "output_type": "stream",
     "text": [
      "\u001b[92mINFO \u001b[0m:      aggregate_evaluate: received 5 results and 0 failures\n",
      "\u001b[92mINFO \u001b[0m:      \n",
      "\u001b[92mINFO \u001b[0m:      [ROUND 4]\n",
      "\u001b[92mINFO \u001b[0m:      configure_fit: strategy sampled 10 clients (out of 10)\n"
     ]
    },
    {
     "name": "stdout",
     "output_type": "stream",
     "text": [
      "\u001b[1m130/143\u001b[0m \u001b[32m━━━━━━━━━━━━━━━━━━\u001b[0m\u001b[37m━━\u001b[0m \u001b[1m0s\u001b[0m 2ms/step - accuracy: 0.9935 - loss: 0.0162\n"
     ]
    },
    {
     "name": "stderr",
     "output_type": "stream",
     "text": [
      "\u001b[36m(ClientAppActor pid=11972)\u001b[0m \n",
      "\u001b[36m(ClientAppActor pid=11972)\u001b[0m         \n",
      "\u001b[36m(ClientAppActor pid=11969)\u001b[0m \n",
      "\u001b[36m(ClientAppActor pid=11969)\u001b[0m         \n",
      "\u001b[36m(ClientAppActor pid=11967)\u001b[0m \n",
      "\u001b[36m(ClientAppActor pid=11967)\u001b[0m         \n",
      "\u001b[36m(ClientAppActor pid=11968)\u001b[0m \n",
      "\u001b[36m(ClientAppActor pid=11968)\u001b[0m         \n",
      "\u001b[36m(ClientAppActor pid=11971)\u001b[0m \n",
      "\u001b[36m(ClientAppActor pid=11971)\u001b[0m         \n",
      "\u001b[36m(ClientAppActor pid=11974)\u001b[0m \n",
      "\u001b[36m(ClientAppActor pid=11974)\u001b[0m         \n",
      "\u001b[36m(ClientAppActor pid=11973)\u001b[0m \n",
      "\u001b[36m(ClientAppActor pid=11973)\u001b[0m         \n"
     ]
    },
    {
     "name": "stdout",
     "output_type": "stream",
     "text": [
      "\u001b[36m(ClientAppActor pid=11967)\u001b[0m Client  4 Training...\n"
     ]
    },
    {
     "name": "stderr",
     "output_type": "stream",
     "text": [
      "\u001b[36m(ClientAppActor pid=11970)\u001b[0m \n",
      "\u001b[36m(ClientAppActor pid=11970)\u001b[0m         \n"
     ]
    },
    {
     "name": "stdout",
     "output_type": "stream",
     "text": [
      "\u001b[1m4/4\u001b[0m \u001b[32m━━━━━━━━━━━━━━━━━━━━\u001b[0m\u001b[37m\u001b[0m \u001b[1m2s\u001b[0m 20ms/step - accuracy: 0.8828 - loss: 0.2812\n",
      "\u001b[1m 30/143\u001b[0m \u001b[32m━━━━\u001b[0m\u001b[37m━━━━━━━━━━━━━━━━\u001b[0m \u001b[1m0s\u001b[0m 4ms/step - accuracy: 0.9905 - loss: 0.0245   \n"
     ]
    },
    {
     "name": "stderr",
     "output_type": "stream",
     "text": [
      "\u001b[36m(ClientAppActor pid=11967)\u001b[0m \n",
      "\u001b[36m(ClientAppActor pid=11967)\u001b[0m         \n",
      "\u001b[36m(ClientAppActor pid=11971)\u001b[0m \n",
      "\u001b[36m(ClientAppActor pid=11971)\u001b[0m         \n"
     ]
    },
    {
     "name": "stdout",
     "output_type": "stream",
     "text": [
      "\u001b[1m 11/143\u001b[0m \u001b[32m━\u001b[0m\u001b[37m━━━━━━━━━━━━━━━━━━━\u001b[0m \u001b[1m0s\u001b[0m 5ms/step - accuracy: 0.9836 - loss: 0.0315 \n",
      "\u001b[1m 16/143\u001b[0m \u001b[32m━━\u001b[0m\u001b[37m━━━━━━━━━━━━━━━━━━\u001b[0m \u001b[1m0s\u001b[0m 3ms/step - accuracy: 0.9962 - loss: 0.0122 \n",
      "\u001b[1m4/4\u001b[0m \u001b[32m━━━━━━━━━━━━━━━━━━━━\u001b[0m\u001b[37m\u001b[0m \u001b[1m0s\u001b[0m 27ms/step - accuracy: 1.0000 - loss: 0.0158\u001b[32m [repeated 11x across cluster]\u001b[0m\n",
      "\u001b[1m  1/143\u001b[0m \u001b[37m━━━━━━━━━━━━━━━━━━━━\u001b[0m \u001b[1m5s\u001b[0m 41ms/step - accuracy: 1.0000 - loss: 0.0059\u001b[32m [repeated 22x across cluster]\u001b[0m\n",
      "\u001b[1m 16/143\u001b[0m \u001b[32m━━\u001b[0m\u001b[37m━━━━━━━━━━━━━━━━━━\u001b[0m \u001b[1m0s\u001b[0m 3ms/step - accuracy: 0.9917 - loss: 0.0186 \u001b[32m [repeated 18x across cluster]\u001b[0m\n",
      "\u001b[1m107/143\u001b[0m \u001b[32m━━━━━━━━━━━━━━\u001b[0m\u001b[37m━━━━━━\u001b[0m \u001b[1m0s\u001b[0m 3ms/step - accuracy: 0.9959 - loss: 0.0117\u001b[32m [repeated 41x across cluster]\u001b[0m\n",
      "\u001b[1m143/143\u001b[0m \u001b[32m━━━━━━━━━━━━━━━━━━━━\u001b[0m\u001b[37m\u001b[0m \u001b[1m1s\u001b[0m 4ms/step - accuracy: 0.9921 - loss: 0.0180\u001b[32m [repeated 24x across cluster]\u001b[0m\n",
      "\u001b[36m(ClientAppActor pid=11974)\u001b[0m Client  2 Training complete...\u001b[32m [repeated 4x across cluster]\u001b[0m\n",
      "\u001b[1m 28/143\u001b[0m \u001b[32m━━━\u001b[0m\u001b[37m━━━━━━━━━━━━━━━━━\u001b[0m \u001b[1m0s\u001b[0m 4ms/step - accuracy: 0.9938 - loss: 0.0135\u001b[32m [repeated 4x across cluster]\u001b[0m\n",
      "\u001b[36m(ClientAppActor pid=11973)\u001b[0m Epoch 4/5\u001b[32m [repeated 38x across cluster]\u001b[0m\n",
      "\u001b[36m(ClientAppActor pid=11971)\u001b[0m Client ID: 7\u001b[32m [repeated 13x across cluster]\u001b[0m\n",
      "\u001b[36m(ClientAppActor pid=11972)\u001b[0m Client  2 Evaluating...\u001b[32m [repeated 3x across cluster]\u001b[0m\n"
     ]
    },
    {
     "name": "stderr",
     "output_type": "stream",
     "text": [
      "\u001b[36m(ClientAppActor pid=11971)\u001b[0m /Users/user/Library/Python/3.9/lib/python/site-packages/tensorflow/python/framework/tensor_util.py:522: DeprecationWarning: NumPy will stop allowing conversion of out-of-bound Python integers to integer arrays.  The conversion of 2147483648 to int32 will fail in the future.\u001b[32m [repeated 15x across cluster]\u001b[0m\n",
      "\u001b[36m(ClientAppActor pid=11971)\u001b[0m For the old behavior, usually:\u001b[32m [repeated 15x across cluster]\u001b[0m\n",
      "\u001b[36m(ClientAppActor pid=11971)\u001b[0m     np.array(value).astype(dtype)\u001b[32m [repeated 15x across cluster]\u001b[0m\n",
      "\u001b[36m(ClientAppActor pid=11971)\u001b[0m will give the desired result (the cast overflows).\u001b[32m [repeated 15x across cluster]\u001b[0m\n",
      "\u001b[36m(ClientAppActor pid=11971)\u001b[0m   nparray = np.array(values, dtype=np_dt)\u001b[32m [repeated 15x across cluster]\u001b[0m\n",
      "\u001b[36m(ClientAppActor pid=11971)\u001b[0m \u001b[93mWARNING \u001b[0m:   DEPRECATED FEATURE: `client_fn` now expects a signature `def client_fn(context: Context)`.The provided `client_fn` has signature: {'cid': <Parameter \"cid: str\">}. You can import the `Context` like this: `from flwr.common import Context`\u001b[32m [repeated 13x across cluster]\u001b[0m\n",
      "\u001b[36m(ClientAppActor pid=11971)\u001b[0m             This is a deprecated feature. It will be removed\u001b[32m [repeated 13x across cluster]\u001b[0m\n",
      "\u001b[36m(ClientAppActor pid=11971)\u001b[0m             entirely in future versions of Flower.\u001b[32m [repeated 13x across cluster]\u001b[0m\n",
      "\u001b[36m(ClientAppActor pid=11971)\u001b[0m /Users/user/Library/Python/3.9/lib/python/site-packages/keras/src/layers/reshaping/flatten.py:37: UserWarning: Do not pass an `input_shape`/`input_dim` argument to a layer. When using Sequential models, prefer using an `Input(shape)` object as the first layer in the model instead.\u001b[32m [repeated 13x across cluster]\u001b[0m\n",
      "\u001b[36m(ClientAppActor pid=11971)\u001b[0m   super().__init__(**kwargs)\u001b[32m [repeated 13x across cluster]\u001b[0m\n"
     ]
    },
    {
     "name": "stdout",
     "output_type": "stream",
     "text": [
      "\u001b[36m(ClientAppActor pid=11969)\u001b[0m \u001b[33mClient 5 evaluation complete - Accuracy: 0.993224, Loss: 0.018648\u001b[0m\u001b[32m [repeated 4x across cluster]\u001b[0m\n",
      "\u001b[1m4/4\u001b[0m \u001b[32m━━━━━━━━━━━━━━━━━━━━\u001b[0m\u001b[37m\u001b[0m \u001b[1m0s\u001b[0m 10ms/step - accuracy: 0.9554 - loss: 0.1951 \n",
      "\u001b[1m 40/143\u001b[0m \u001b[32m━━━━━\u001b[0m\u001b[37m━━━━━━━━━━━━━━━\u001b[0m \u001b[1m0s\u001b[0m 4ms/step - accuracy: 0.9935 - loss: 0.0158\n",
      "\u001b[1m143/143\u001b[0m \u001b[32m━━━━━━━━━━━━━━━━━━━━\u001b[0m\u001b[37m\u001b[0m \u001b[1m0s\u001b[0m 4ms/step - accuracy: 0.9943 - loss: 0.0136\u001b[32m [repeated 4x across cluster]\u001b[0m\n",
      "\u001b[36m(ClientAppActor pid=11971)\u001b[0m Client  7 Training...\u001b[32m [repeated 9x across cluster]\u001b[0m\n"
     ]
    },
    {
     "name": "stderr",
     "output_type": "stream",
     "text": [
      "\u001b[92mINFO \u001b[0m:      aggregate_fit: received 10 results and 0 failures\n"
     ]
    },
    {
     "name": "stdout",
     "output_type": "stream",
     "text": [
      "Server Evaluating... Evaluation Count:4\n",
      "\u001b[1m8602/8602\u001b[0m \u001b[32m━━━━━━━━━━━━━━━━━━━━\u001b[0m\u001b[37m\u001b[0m \u001b[1m12s\u001b[0m 1ms/step - accuracy: 0.9899 - loss: 0.0268\n",
      "\u001b[1m8602/8602\u001b[0m \u001b[32m━━━━━━━━━━━━━━━━━━━━\u001b[0m\u001b[37m\u001b[0m \u001b[1m8s\u001b[0m 913us/step\n"
     ]
    },
    {
     "name": "stderr",
     "output_type": "stream",
     "text": [
      "\u001b[92mINFO \u001b[0m:      fit progress: (4, 0.026309898123145103, {'accuracy': 0.9900057315826416}, 123.94455931)\n",
      "\u001b[92mINFO \u001b[0m:      configure_evaluate: strategy sampled 5 clients (out of 10)\n"
     ]
    },
    {
     "name": "stdout",
     "output_type": "stream",
     "text": [
      "Prediction:  [[5.8317033e-07 9.9999934e-01]\n",
      " [1.5207895e-06 9.9999839e-01]\n",
      " [7.5285175e-07 9.9999923e-01]\n",
      " ...\n",
      " [2.4800894e-07 9.9999970e-01]\n",
      " [7.9317419e-07 9.9999917e-01]\n",
      " [1.5217994e-06 9.9999845e-01]] (275258, 2)\n",
      "\u001b[33mServer evaluation complete - Accuracy: 0.9900, Loss: 0.0263\u001b[0m\n",
      "\u001b[1m4/4\u001b[0m \u001b[32m━━━━━━━━━━━━━━━━━━━━\u001b[0m\u001b[37m\u001b[0m \u001b[1m2s\u001b[0m 24ms/step - accuracy: 0.9701 - loss: 0.1594\u001b[32m [repeated 2x across cluster]\u001b[0m\n",
      "\u001b[1m 62/143\u001b[0m \u001b[32m━━━━━━━━\u001b[0m\u001b[37m━━━━━━━━━━━━\u001b[0m \u001b[1m0s\u001b[0m 2ms/step - accuracy: 0.9962 - loss: 0.0091   \n",
      "\u001b[1m4/4\u001b[0m \u001b[32m━━━━━━━━━━━━━━━━━━━━\u001b[0m\u001b[37m\u001b[0m \u001b[1m0s\u001b[0m 10ms/step - accuracy: 1.0000 - loss: 0.0080\u001b[32m [repeated 2x across cluster]\u001b[0m\n",
      "\u001b[1m  1/143\u001b[0m \u001b[37m━━━━━━━━━━━━━━━━━━━━\u001b[0m \u001b[1m3s\u001b[0m 26ms/step - accuracy: 1.0000 - loss: 0.0060\u001b[32m [repeated 5x across cluster]\u001b[0m\n",
      "\u001b[1m 29/143\u001b[0m \u001b[32m━━━━\u001b[0m\u001b[37m━━━━━━━━━━━━━━━━\u001b[0m \u001b[1m0s\u001b[0m 2ms/step - accuracy: 0.9899 - loss: 0.0192 \u001b[32m [repeated 8x across cluster]\u001b[0m\n",
      "\u001b[1m125/143\u001b[0m \u001b[32m━━━━━━━━━━━━━━━━━\u001b[0m\u001b[37m━━━\u001b[0m \u001b[1m0s\u001b[0m 2ms/step - accuracy: 0.9964 - loss: 0.0091\u001b[32m [repeated 33x across cluster]\u001b[0m\n",
      "\u001b[1m143/143\u001b[0m \u001b[32m━━━━━━━━━━━━━━━━━━━━\u001b[0m\u001b[37m\u001b[0m \u001b[1m0s\u001b[0m 2ms/step - accuracy: 0.9963 - loss: 0.0094\u001b[32m [repeated 11x across cluster]\u001b[0m\n",
      "\u001b[36m(ClientAppActor pid=11971)\u001b[0m Client  7 Training complete...\u001b[32m [repeated 6x across cluster]\u001b[0m\n",
      "\u001b[1m 62/143\u001b[0m \u001b[32m━━━━━━━━\u001b[0m\u001b[37m━━━━━━━━━━━━\u001b[0m \u001b[1m0s\u001b[0m 2ms/step - accuracy: 0.9931 - loss: 0.0158\u001b[32m [repeated 2x across cluster]\u001b[0m\n",
      "\u001b[36m(ClientAppActor pid=11971)\u001b[0m Epoch 5/5\u001b[32m [repeated 12x across cluster]\u001b[0m\n",
      "\u001b[36m(ClientAppActor pid=11967)\u001b[0m Client ID: 9\n",
      "\u001b[36m(ClientAppActor pid=11967)\u001b[0m Client  9 Evaluating...\n",
      "\u001b[36m(ClientAppActor pid=11969)\u001b[0m Client ID: 1\n",
      "\u001b[36m(ClientAppActor pid=11969)\u001b[0m Client  1 Evaluating...\n"
     ]
    },
    {
     "name": "stderr",
     "output_type": "stream",
     "text": [
      "\u001b[36m(ClientAppActor pid=11967)\u001b[0m \n",
      "\u001b[36m(ClientAppActor pid=11967)\u001b[0m         \n",
      "\u001b[36m(ClientAppActor pid=11967)\u001b[0m \u001b[93mWARNING \u001b[0m:   DEPRECATED FEATURE: `client_fn` now expects a signature `def client_fn(context: Context)`.The provided `client_fn` has signature: {'cid': <Parameter \"cid: str\">}. You can import the `Context` like this: `from flwr.common import Context`\n",
      "\u001b[36m(ClientAppActor pid=11967)\u001b[0m             This is a deprecated feature. It will be removed\n",
      "\u001b[36m(ClientAppActor pid=11967)\u001b[0m             entirely in future versions of Flower.\n",
      "\u001b[36m(ClientAppActor pid=11967)\u001b[0m /Users/user/Library/Python/3.9/lib/python/site-packages/keras/src/layers/reshaping/flatten.py:37: UserWarning: Do not pass an `input_shape`/`input_dim` argument to a layer. When using Sequential models, prefer using an `Input(shape)` object as the first layer in the model instead.\n",
      "\u001b[36m(ClientAppActor pid=11967)\u001b[0m   super().__init__(**kwargs)\n",
      "\u001b[36m(ClientAppActor pid=11968)\u001b[0m \u001b[93mWARNING \u001b[0m:   DEPRECATED FEATURE: `client_fn` now expects a signature `def client_fn(context: Context)`.The provided `client_fn` has signature: {'cid': <Parameter \"cid: str\">}. You can import the `Context` like this: `from flwr.common import Context`\n",
      "\u001b[36m(ClientAppActor pid=11968)\u001b[0m \n",
      "\u001b[36m(ClientAppActor pid=11968)\u001b[0m             This is a deprecated feature. It will be removed\n",
      "\u001b[36m(ClientAppActor pid=11968)\u001b[0m             entirely in future versions of Flower.\n",
      "\u001b[36m(ClientAppActor pid=11968)\u001b[0m         \n",
      "\u001b[36m(ClientAppActor pid=11968)\u001b[0m /Users/user/Library/Python/3.9/lib/python/site-packages/keras/src/layers/reshaping/flatten.py:37: UserWarning: Do not pass an `input_shape`/`input_dim` argument to a layer. When using Sequential models, prefer using an `Input(shape)` object as the first layer in the model instead.\n",
      "\u001b[36m(ClientAppActor pid=11968)\u001b[0m   super().__init__(**kwargs)\n",
      "\u001b[36m(ClientAppActor pid=11969)\u001b[0m \n",
      "\u001b[36m(ClientAppActor pid=11969)\u001b[0m         \n",
      "\u001b[36m(ClientAppActor pid=11971)\u001b[0m \n",
      "\u001b[36m(ClientAppActor pid=11971)\u001b[0m         \n",
      "\u001b[36m(ClientAppActor pid=11973)\u001b[0m \n",
      "\u001b[36m(ClientAppActor pid=11973)\u001b[0m         \n",
      "\u001b[36m(ClientAppActor pid=11971)\u001b[0m /Users/user/Library/Python/3.9/lib/python/site-packages/tensorflow/python/framework/tensor_util.py:522: DeprecationWarning: NumPy will stop allowing conversion of out-of-bound Python integers to integer arrays.  The conversion of 2147483648 to int32 will fail in the future.\n",
      "\u001b[36m(ClientAppActor pid=11971)\u001b[0m For the old behavior, usually:\n",
      "\u001b[36m(ClientAppActor pid=11971)\u001b[0m     np.array(value).astype(dtype)\n",
      "\u001b[36m(ClientAppActor pid=11971)\u001b[0m will give the desired result (the cast overflows).\n",
      "\u001b[36m(ClientAppActor pid=11971)\u001b[0m   nparray = np.array(values, dtype=np_dt)\n"
     ]
    },
    {
     "name": "stdout",
     "output_type": "stream",
     "text": [
      "\u001b[36m(ClientAppActor pid=11971)\u001b[0m \u001b[33mClient 8 evaluation complete - Accuracy: 0.861111, Loss: 0.400117\u001b[0m\n",
      "\u001b[1m 52/143\u001b[0m \u001b[32m━━━━━━━\u001b[0m\u001b[37m━━━━━━━━━━━━━\u001b[0m \u001b[1m0s\u001b[0m 2ms/step - accuracy: 0.9920 - loss: 0.0196      \n"
     ]
    },
    {
     "name": "stderr",
     "output_type": "stream",
     "text": [
      "\u001b[92mINFO \u001b[0m:      aggregate_evaluate: received 5 results and 0 failures\n",
      "\u001b[92mINFO \u001b[0m:      \n",
      "\u001b[92mINFO \u001b[0m:      [ROUND 5]\n",
      "\u001b[92mINFO \u001b[0m:      configure_fit: strategy sampled 10 clients (out of 10)\n"
     ]
    },
    {
     "name": "stdout",
     "output_type": "stream",
     "text": [
      "\u001b[1m 77/143\u001b[0m \u001b[32m━━━━━━━━━━\u001b[0m\u001b[37m━━━━━━━━━━\u001b[0m \u001b[1m0s\u001b[0m 2ms/step - accuracy: 0.9975 - loss: 0.0088      \n",
      "\u001b[1m143/143\u001b[0m \u001b[32m━━━━━━━━━━━━━━━━━━━━\u001b[0m\u001b[37m\u001b[0m \u001b[1m1s\u001b[0m 2ms/step - accuracy: 0.9922 - loss: 0.0170\n"
     ]
    },
    {
     "name": "stderr",
     "output_type": "stream",
     "text": [
      "\u001b[36m(ClientAppActor pid=11967)\u001b[0m \n",
      "\u001b[36m(ClientAppActor pid=11967)\u001b[0m         \n",
      "\u001b[36m(ClientAppActor pid=11968)\u001b[0m \n",
      "\u001b[36m(ClientAppActor pid=11968)\u001b[0m         \n",
      "\u001b[36m(ClientAppActor pid=11969)\u001b[0m \n",
      "\u001b[36m(ClientAppActor pid=11969)\u001b[0m         \n",
      "\u001b[36m(ClientAppActor pid=11973)\u001b[0m \n",
      "\u001b[36m(ClientAppActor pid=11973)\u001b[0m         \n"
     ]
    },
    {
     "name": "stdout",
     "output_type": "stream",
     "text": [
      "\u001b[36m(ClientAppActor pid=11967)\u001b[0m Client  1 Training...\n"
     ]
    },
    {
     "name": "stderr",
     "output_type": "stream",
     "text": [
      "\u001b[36m(ClientAppActor pid=11972)\u001b[0m \n",
      "\u001b[36m(ClientAppActor pid=11972)\u001b[0m         \n",
      "\u001b[36m(ClientAppActor pid=11970)\u001b[0m \n",
      "\u001b[36m(ClientAppActor pid=11970)\u001b[0m         \n",
      "\u001b[36m(ClientAppActor pid=11971)\u001b[0m \n",
      "\u001b[36m(ClientAppActor pid=11971)\u001b[0m         \n",
      "\u001b[36m(ClientAppActor pid=11974)\u001b[0m \n",
      "\u001b[36m(ClientAppActor pid=11974)\u001b[0m         \n"
     ]
    },
    {
     "name": "stdout",
     "output_type": "stream",
     "text": [
      "\u001b[1m 24/143\u001b[0m \u001b[32m━━━\u001b[0m\u001b[37m━━━━━━━━━━━━━━━━━\u001b[0m \u001b[1m0s\u001b[0m 5ms/step - accuracy: 0.9968 - loss: 0.0086 \n",
      "\u001b[1m4/4\u001b[0m \u001b[32m━━━━━━━━━━━━━━━━━━━━\u001b[0m\u001b[37m\u001b[0m \u001b[1m0s\u001b[0m 23ms/step - accuracy: 0.9853 - loss: 0.0668 \n"
     ]
    },
    {
     "name": "stderr",
     "output_type": "stream",
     "text": [
      "\u001b[36m(ClientAppActor pid=11974)\u001b[0m \n",
      "\u001b[36m(ClientAppActor pid=11974)\u001b[0m         \n",
      "\u001b[36m(ClientAppActor pid=11971)\u001b[0m \n",
      "\u001b[36m(ClientAppActor pid=11971)\u001b[0m         \n"
     ]
    },
    {
     "name": "stdout",
     "output_type": "stream",
     "text": [
      "\u001b[1m4/4\u001b[0m \u001b[32m━━━━━━━━━━━━━━━━━━━━\u001b[0m\u001b[37m\u001b[0m \u001b[1m0s\u001b[0m 22ms/step - accuracy: 1.0000 - loss: 0.0152 \n",
      "\u001b[1m 22/143\u001b[0m \u001b[32m━━━\u001b[0m\u001b[37m━━━━━━━━━━━━━━━━━\u001b[0m \u001b[1m0s\u001b[0m 5ms/step - accuracy: 0.9988 - loss: 0.0037 \n",
      "\u001b[1m 15/143\u001b[0m \u001b[32m━━\u001b[0m\u001b[37m━━━━━━━━━━━━━━━━━━\u001b[0m \u001b[1m0s\u001b[0m 4ms/step - accuracy: 0.9978 - loss: 0.0057      \n",
      "\u001b[1m4/4\u001b[0m \u001b[32m━━━━━━━━━━━━━━━━━━━━\u001b[0m\u001b[37m\u001b[0m \u001b[1m2s\u001b[0m 33ms/step - accuracy: 0.9251 - loss: 0.2842\u001b[32m [repeated 2x across cluster]\u001b[0m\n",
      "\u001b[1m4/4\u001b[0m \u001b[32m━━━━━━━━━━━━━━━━━━━━\u001b[0m\u001b[37m\u001b[0m \u001b[1m0s\u001b[0m 38ms/step - accuracy: 1.0000 - loss: 0.0085\u001b[32m [repeated 8x across cluster]\u001b[0m\n",
      "\u001b[1m  1/143\u001b[0m \u001b[37m━━━━━━━━━━━━━━━━━━━━\u001b[0m \u001b[1m10s\u001b[0m 72ms/step - accuracy: 1.0000 - loss: 4.0286e-05\u001b[32m [repeated 18x across cluster]\u001b[0m\n",
      "\u001b[1m 17/143\u001b[0m \u001b[32m━━\u001b[0m\u001b[37m━━━━━━━━━━━━━━━━━━\u001b[0m \u001b[1m0s\u001b[0m 3ms/step - accuracy: 0.9979 - loss: 0.0111     \u001b[32m [repeated 15x across cluster]\u001b[0m\n",
      "\u001b[1m143/143\u001b[0m \u001b[32m━━━━━━━━━━━━━━━━━━━━\u001b[0m\u001b[37m\u001b[0m \u001b[1m1s\u001b[0m 4ms/step - accuracy: 0.9955 - loss: 0.0128\u001b[32m [repeated 53x across cluster]\u001b[0m\n",
      "\u001b[1m143/143\u001b[0m \u001b[32m━━━━━━━━━━━━━━━━━━━━\u001b[0m\u001b[37m\u001b[0m \u001b[1m1s\u001b[0m 4ms/step - accuracy: 0.9950 - loss: 0.0136\u001b[32m [repeated 14x across cluster]\u001b[0m\n",
      "\u001b[36m(ClientAppActor pid=11972)\u001b[0m Client  6 Training complete...\u001b[32m [repeated 3x across cluster]\u001b[0m\n",
      "\u001b[36m(ClientAppActor pid=11967)\u001b[0m Epoch 4/5\u001b[32m [repeated 33x across cluster]\u001b[0m\n",
      "\u001b[36m(ClientAppActor pid=11971)\u001b[0m Client ID: 0\u001b[32m [repeated 13x across cluster]\u001b[0m\n",
      "\u001b[36m(ClientAppActor pid=11973)\u001b[0m Client  7 Evaluating...\u001b[32m [repeated 3x across cluster]\u001b[0m\n"
     ]
    },
    {
     "name": "stderr",
     "output_type": "stream",
     "text": [
      "\u001b[36m(ClientAppActor pid=11971)\u001b[0m \u001b[93mWARNING \u001b[0m:   DEPRECATED FEATURE: `client_fn` now expects a signature `def client_fn(context: Context)`.The provided `client_fn` has signature: {'cid': <Parameter \"cid: str\">}. You can import the `Context` like this: `from flwr.common import Context`\u001b[32m [repeated 13x across cluster]\u001b[0m\n",
      "\u001b[36m(ClientAppActor pid=11971)\u001b[0m             This is a deprecated feature. It will be removed\u001b[32m [repeated 13x across cluster]\u001b[0m\n",
      "\u001b[36m(ClientAppActor pid=11971)\u001b[0m             entirely in future versions of Flower.\u001b[32m [repeated 13x across cluster]\u001b[0m\n",
      "\u001b[36m(ClientAppActor pid=11971)\u001b[0m /Users/user/Library/Python/3.9/lib/python/site-packages/keras/src/layers/reshaping/flatten.py:37: UserWarning: Do not pass an `input_shape`/`input_dim` argument to a layer. When using Sequential models, prefer using an `Input(shape)` object as the first layer in the model instead.\u001b[32m [repeated 13x across cluster]\u001b[0m\n",
      "\u001b[36m(ClientAppActor pid=11971)\u001b[0m   super().__init__(**kwargs)\u001b[32m [repeated 13x across cluster]\u001b[0m\n",
      "\u001b[36m(ClientAppActor pid=11974)\u001b[0m /Users/user/Library/Python/3.9/lib/python/site-packages/tensorflow/python/framework/tensor_util.py:522: DeprecationWarning: NumPy will stop allowing conversion of out-of-bound Python integers to integer arrays.  The conversion of 2147483648 to int32 will fail in the future.\u001b[32m [repeated 13x across cluster]\u001b[0m\n",
      "\u001b[36m(ClientAppActor pid=11974)\u001b[0m For the old behavior, usually:\u001b[32m [repeated 13x across cluster]\u001b[0m\n",
      "\u001b[36m(ClientAppActor pid=11974)\u001b[0m     np.array(value).astype(dtype)\u001b[32m [repeated 13x across cluster]\u001b[0m\n",
      "\u001b[36m(ClientAppActor pid=11974)\u001b[0m will give the desired result (the cast overflows).\u001b[32m [repeated 13x across cluster]\u001b[0m\n",
      "\u001b[36m(ClientAppActor pid=11974)\u001b[0m   nparray = np.array(values, dtype=np_dt)\u001b[32m [repeated 13x across cluster]\u001b[0m\n"
     ]
    },
    {
     "name": "stdout",
     "output_type": "stream",
     "text": [
      "\u001b[36m(ClientAppActor pid=11967)\u001b[0m \u001b[33mClient 9 evaluation complete - Accuracy: 0.995190, Loss: 0.014197\u001b[0m\u001b[32m [repeated 4x across cluster]\u001b[0m\n",
      "\u001b[1m 28/143\u001b[0m \u001b[32m━━━\u001b[0m\u001b[37m━━━━━━━━━━━━━━━━━\u001b[0m \u001b[1m0s\u001b[0m 4ms/step - accuracy: 0.9956 - loss: 0.0093\n",
      "\u001b[1m  8/143\u001b[0m \u001b[32m━\u001b[0m\u001b[37m━━━━━━━━━━━━━━━━━━━\u001b[0m \u001b[1m1s\u001b[0m 8ms/step - accuracy: 0.9973 - loss: 0.0198   \n",
      "\u001b[1m 76/143\u001b[0m \u001b[32m━━━━━━━━━━\u001b[0m\u001b[37m━━━━━━━━━━\u001b[0m \u001b[1m0s\u001b[0m 3ms/step - accuracy: 0.9963 - loss: 0.0078\u001b[32m [repeated 4x across cluster]\u001b[0m\n",
      "\u001b[36m(ClientAppActor pid=11974)\u001b[0m Client  8 Training...\u001b[32m [repeated 9x across cluster]\u001b[0m\n",
      "\u001b[1m 31/143\u001b[0m \u001b[32m━━━━\u001b[0m\u001b[37m━━━━━━━━━━━━━━━━\u001b[0m \u001b[1m0s\u001b[0m 3ms/step - accuracy: 0.9947 - loss: 0.0098   \n"
     ]
    },
    {
     "name": "stderr",
     "output_type": "stream",
     "text": [
      "\u001b[92mINFO \u001b[0m:      aggregate_fit: received 10 results and 0 failures\n"
     ]
    },
    {
     "name": "stdout",
     "output_type": "stream",
     "text": [
      "Server Evaluating... Evaluation Count:5\n",
      "\u001b[1m8602/8602\u001b[0m \u001b[32m━━━━━━━━━━━━━━━━━━━━\u001b[0m\u001b[37m\u001b[0m \u001b[1m12s\u001b[0m 1ms/step - accuracy: 0.9896 - loss: 0.0291\n",
      "\u001b[1m8602/8602\u001b[0m \u001b[32m━━━━━━━━━━━━━━━━━━━━\u001b[0m\u001b[37m\u001b[0m \u001b[1m7s\u001b[0m 851us/step\n"
     ]
    },
    {
     "name": "stderr",
     "output_type": "stream",
     "text": [
      "\u001b[92mINFO \u001b[0m:      fit progress: (5, 0.02862519584596157, {'accuracy': 0.9897478222846985}, 152.928077148)\n",
      "\u001b[92mINFO \u001b[0m:      configure_evaluate: strategy sampled 5 clients (out of 10)\n"
     ]
    },
    {
     "name": "stdout",
     "output_type": "stream",
     "text": [
      "Prediction:  [[1.5812608e-07 9.9999982e-01]\n",
      " [6.6636858e-07 9.9999923e-01]\n",
      " [2.1162127e-07 9.9999970e-01]\n",
      " ...\n",
      " [6.0955415e-08 9.9999982e-01]\n",
      " [2.2381076e-07 9.9999976e-01]\n",
      " [6.6685300e-07 9.9999928e-01]] (275258, 2)\n",
      "\u001b[33mServer evaluation complete - Accuracy: 0.9897, Loss: 0.0286\u001b[0m\n",
      "\u001b[1m 24/143\u001b[0m \u001b[32m━━━\u001b[0m\u001b[37m━━━━━━━━━━━━━━━━━\u001b[0m \u001b[1m0s\u001b[0m 4ms/step - accuracy: 0.9977 - loss: 0.0118 \n",
      "\u001b[1m4/4\u001b[0m \u001b[32m━━━━━━━━━━━━━━━━━━━━\u001b[0m\u001b[37m\u001b[0m \u001b[1m0s\u001b[0m 14ms/step - accuracy: 1.0000 - loss: 0.0093\u001b[32m [repeated 3x across cluster]\u001b[0m\n",
      "\u001b[1m1/4\u001b[0m \u001b[32m━━━━━\u001b[0m\u001b[37m━━━━━━━━━━━━━━━\u001b[0m \u001b[1m0s\u001b[0m 26ms/step - accuracy: 1.0000 - loss: 0.0113\u001b[32m [repeated 7x across cluster]\u001b[0m\n",
      "\u001b[1m4/4\u001b[0m \u001b[32m━━━━━━━━━━━━━━━━━━━━\u001b[0m\u001b[37m\u001b[0m \u001b[1m0s\u001b[0m 11ms/step - accuracy: 1.0000 - loss: 0.0196\u001b[32m [repeated 15x across cluster]\u001b[0m\n",
      "\u001b[1m123/143\u001b[0m \u001b[32m━━━━━━━━━━━━━━━━━\u001b[0m\u001b[37m━━━\u001b[0m \u001b[1m0s\u001b[0m 3ms/step - accuracy: 0.9968 - loss: 0.0133\u001b[32m [repeated 33x across cluster]\u001b[0m\n",
      "\u001b[1m143/143\u001b[0m \u001b[32m━━━━━━━━━━━━━━━━━━━━\u001b[0m\u001b[37m\u001b[0m \u001b[1m0s\u001b[0m 2ms/step - accuracy: 0.9965 - loss: 0.0096\u001b[32m [repeated 26x across cluster]\u001b[0m\n",
      "\u001b[36m(ClientAppActor pid=11974)\u001b[0m Client  8 Training complete...\u001b[32m [repeated 7x across cluster]\u001b[0m\n",
      "\u001b[36m(ClientAppActor pid=11974)\u001b[0m Epoch 5/5\u001b[32m [repeated 17x across cluster]\u001b[0m\n",
      "\u001b[36m(ClientAppActor pid=11968)\u001b[0m Client ID: 8\n",
      "\u001b[1m 54/143\u001b[0m \u001b[32m━━━━━━━\u001b[0m\u001b[37m━━━━━━━━━━━━━\u001b[0m \u001b[1m0s\u001b[0m 2ms/step - accuracy: 0.9978 - loss: 0.0072\n",
      "\u001b[1m131/143\u001b[0m \u001b[32m━━━━━━━━━━━━━━━━━━\u001b[0m\u001b[37m━━\u001b[0m \u001b[1m0s\u001b[0m 2ms/step - accuracy: 0.9966 - loss: 0.0094\n",
      "\u001b[36m(ClientAppActor pid=11971)\u001b[0m Client ID:\n",
      "\u001b[36m(ClientAppActor pid=11971)\u001b[0m  5\n",
      "\u001b[36m(ClientAppActor pid=11969)\u001b[0m Client  7 Evaluating...\n"
     ]
    },
    {
     "name": "stderr",
     "output_type": "stream",
     "text": [
      "\u001b[36m(ClientAppActor pid=11968)\u001b[0m \n",
      "\u001b[36m(ClientAppActor pid=11968)\u001b[0m         \n",
      "\u001b[36m(ClientAppActor pid=11968)\u001b[0m \u001b[93mWARNING \u001b[0m:   DEPRECATED FEATURE: `client_fn` now expects a signature `def client_fn(context: Context)`.The provided `client_fn` has signature: {'cid': <Parameter \"cid: str\">}. You can import the `Context` like this: `from flwr.common import Context`\n",
      "\u001b[36m(ClientAppActor pid=11968)\u001b[0m             This is a deprecated feature. It will be removed\n",
      "\u001b[36m(ClientAppActor pid=11968)\u001b[0m             entirely in future versions of Flower.\n",
      "\u001b[36m(ClientAppActor pid=11968)\u001b[0m /Users/user/Library/Python/3.9/lib/python/site-packages/keras/src/layers/reshaping/flatten.py:37: UserWarning: Do not pass an `input_shape`/`input_dim` argument to a layer. When using Sequential models, prefer using an `Input(shape)` object as the first layer in the model instead.\n",
      "\u001b[36m(ClientAppActor pid=11968)\u001b[0m   super().__init__(**kwargs)\n",
      "\u001b[36m(ClientAppActor pid=11971)\u001b[0m /Users/user/Library/Python/3.9/lib/python/site-packages/tensorflow/python/framework/tensor_util.py:522: DeprecationWarning: NumPy will stop allowing conversion of out-of-bound Python integers to integer arrays.  The conversion of 2147483648 to int32 will fail in the future.\n",
      "\u001b[36m(ClientAppActor pid=11971)\u001b[0m For the old behavior, usually:\n",
      "\u001b[36m(ClientAppActor pid=11971)\u001b[0m     np.array(value).astype(dtype)\n",
      "\u001b[36m(ClientAppActor pid=11971)\u001b[0m will give the desired result (the cast overflows).\n",
      "\u001b[36m(ClientAppActor pid=11971)\u001b[0m   nparray = np.array(values, dtype=np_dt)\n",
      "\u001b[36m(ClientAppActor pid=11971)\u001b[0m \u001b[93mWARNING \u001b[0m:   DEPRECATED FEATURE: `client_fn` now expects a signature `def client_fn(context: Context)`.The provided `client_fn` has signature: {'cid': <Parameter \"cid: str\">}. You can import the `Context` like this: `from flwr.common import Context`\n",
      "\u001b[36m(ClientAppActor pid=11971)\u001b[0m \n",
      "\u001b[36m(ClientAppActor pid=11971)\u001b[0m             This is a deprecated feature. It will be removed\n",
      "\u001b[36m(ClientAppActor pid=11971)\u001b[0m             entirely in future versions of Flower.\n",
      "\u001b[36m(ClientAppActor pid=11971)\u001b[0m         \n",
      "\u001b[36m(ClientAppActor pid=11971)\u001b[0m /Users/user/Library/Python/3.9/lib/python/site-packages/keras/src/layers/reshaping/flatten.py:37: UserWarning: Do not pass an `input_shape`/`input_dim` argument to a layer. When using Sequential models, prefer using an `Input(shape)` object as the first layer in the model instead.\n",
      "\u001b[36m(ClientAppActor pid=11971)\u001b[0m   super().__init__(**kwargs)\n",
      "\u001b[36m(ClientAppActor pid=11970)\u001b[0m \n",
      "\u001b[36m(ClientAppActor pid=11970)\u001b[0m         \n",
      "\u001b[36m(ClientAppActor pid=11969)\u001b[0m \n",
      "\u001b[36m(ClientAppActor pid=11969)\u001b[0m         \n",
      "\u001b[36m(ClientAppActor pid=11974)\u001b[0m \n",
      "\u001b[36m(ClientAppActor pid=11974)\u001b[0m         \n",
      "\u001b[36m(ClientAppActor pid=11968)\u001b[0m /Users/user/Library/Python/3.9/lib/python/site-packages/tensorflow/python/framework/tensor_util.py:522: DeprecationWarning: NumPy will stop allowing conversion of out-of-bound Python integers to integer arrays.  The conversion of 2147483648 to int32 will fail in the future.\n",
      "\u001b[36m(ClientAppActor pid=11968)\u001b[0m For the old behavior, usually:\n",
      "\u001b[36m(ClientAppActor pid=11968)\u001b[0m     np.array(value).astype(dtype)\n",
      "\u001b[36m(ClientAppActor pid=11968)\u001b[0m will give the desired result (the cast overflows).\n",
      "\u001b[36m(ClientAppActor pid=11968)\u001b[0m   nparray = np.array(values, dtype=np_dt)\n"
     ]
    },
    {
     "name": "stdout",
     "output_type": "stream",
     "text": [
      "\u001b[36m(ClientAppActor pid=11970)\u001b[0m \u001b[33mClient 4 evaluation complete - Accuracy: 0.962963, Loss: 0.209008\u001b[0m\n",
      "\u001b[1m4/4\u001b[0m \u001b[32m━━━━━━━━━━━━━━━━━━━━\u001b[0m\u001b[37m\u001b[0m \u001b[1m0s\u001b[0m 14ms/step - accuracy: 0.8826 - loss: 0.3127 \n",
      "\u001b[1m 44/143\u001b[0m \u001b[32m━━━━━━\u001b[0m\u001b[37m━━━━━━━━━━━━━━\u001b[0m \u001b[1m0s\u001b[0m 2ms/step - accuracy: 0.9965 - loss: 0.0112     \n"
     ]
    },
    {
     "name": "stderr",
     "output_type": "stream",
     "text": [
      "\u001b[92mINFO \u001b[0m:      aggregate_evaluate: received 5 results and 0 failures\n",
      "\u001b[92mINFO \u001b[0m:      \n",
      "\u001b[92mINFO \u001b[0m:      [ROUND 6]\n",
      "\u001b[92mINFO \u001b[0m:      configure_fit: strategy sampled 10 clients (out of 10)\n",
      "\u001b[36m(ClientAppActor pid=11970)\u001b[0m \n",
      "\u001b[36m(ClientAppActor pid=11970)\u001b[0m         \n",
      "\u001b[36m(ClientAppActor pid=11969)\u001b[0m \n",
      "\u001b[36m(ClientAppActor pid=11969)\u001b[0m         \n",
      "\u001b[36m(ClientAppActor pid=11971)\u001b[0m \n",
      "\u001b[36m(ClientAppActor pid=11971)\u001b[0m         \n",
      "\u001b[36m(ClientAppActor pid=11974)\u001b[0m \n",
      "\u001b[36m(ClientAppActor pid=11974)\u001b[0m         \n",
      "\u001b[36m(ClientAppActor pid=11967)\u001b[0m \n",
      "\u001b[36m(ClientAppActor pid=11967)\u001b[0m         \n",
      "\u001b[36m(ClientAppActor pid=11968)\u001b[0m \n",
      "\u001b[36m(ClientAppActor pid=11968)\u001b[0m         \n",
      "\u001b[36m(ClientAppActor pid=11972)\u001b[0m \n",
      "\u001b[36m(ClientAppActor pid=11972)\u001b[0m         \n"
     ]
    },
    {
     "name": "stdout",
     "output_type": "stream",
     "text": [
      "\u001b[36m(ClientAppActor pid=11969)\u001b[0m Client  3 Training...\n"
     ]
    },
    {
     "name": "stderr",
     "output_type": "stream",
     "text": [
      "\u001b[36m(ClientAppActor pid=11973)\u001b[0m \n",
      "\u001b[36m(ClientAppActor pid=11973)\u001b[0m         \n"
     ]
    },
    {
     "name": "stdout",
     "output_type": "stream",
     "text": [
      "\u001b[1m 22/143\u001b[0m \u001b[32m━━━\u001b[0m\u001b[37m━━━━━━━━━━━━━━━━━\u001b[0m \u001b[1m0s\u001b[0m 5ms/step - accuracy: 0.9945 - loss: 0.0170\n",
      "\u001b[1m4/4\u001b[0m \u001b[32m━━━━━━━━━━━━━━━━━━━━\u001b[0m\u001b[37m\u001b[0m \u001b[1m2s\u001b[0m 35ms/step - accuracy: 0.9701 - loss: 0.2041\n",
      "\u001b[1m143/143\u001b[0m \u001b[32m━━━━━━━━━━━━━━━━━━━━\u001b[0m\u001b[37m\u001b[0m \u001b[1m3s\u001b[0m 4ms/step - accuracy: 0.9913 - loss: 0.0256\n",
      "\u001b[1m 26/143\u001b[0m \u001b[32m━━━\u001b[0m\u001b[37m━━━━━━━━━━━━━━━━━\u001b[0m \u001b[1m0s\u001b[0m 4ms/step - accuracy: 0.9986 - loss: 0.0072\n"
     ]
    },
    {
     "name": "stderr",
     "output_type": "stream",
     "text": [
      "\u001b[36m(ClientAppActor pid=11968)\u001b[0m \n",
      "\u001b[36m(ClientAppActor pid=11968)\u001b[0m         \n"
     ]
    },
    {
     "name": "stdout",
     "output_type": "stream",
     "text": [
      "\u001b[1m 11/143\u001b[0m \u001b[32m━\u001b[0m\u001b[37m━━━━━━━━━━━━━━━━━━━\u001b[0m \u001b[1m0s\u001b[0m 5ms/step - accuracy: 1.0000 - loss: 0.0103 \n"
     ]
    },
    {
     "name": "stderr",
     "output_type": "stream",
     "text": [
      "\u001b[36m(ClientAppActor pid=11970)\u001b[0m \n",
      "\u001b[36m(ClientAppActor pid=11970)\u001b[0m         \n"
     ]
    },
    {
     "name": "stdout",
     "output_type": "stream",
     "text": [
      "\u001b[1m 32/143\u001b[0m \u001b[32m━━━━\u001b[0m\u001b[37m━━━━━━━━━━━━━━━━\u001b[0m \u001b[1m0s\u001b[0m 3ms/step - accuracy: 0.9980 - loss: 0.0082   \n",
      "\u001b[1m4/4\u001b[0m \u001b[32m━━━━━━━━━━━━━━━━━━━━\u001b[0m\u001b[37m\u001b[0m \u001b[1m0s\u001b[0m 19ms/step - accuracy: 1.0000 - loss: 0.0041\u001b[32m [repeated 12x across cluster]\u001b[0m\n",
      "\u001b[1m  1/143\u001b[0m \u001b[37m━━━━━━━━━━━━━━━━━━━━\u001b[0m \u001b[1m6s\u001b[0m 48ms/step - accuracy: 1.0000 - loss: 0.0172\u001b[32m [repeated 22x across cluster]\u001b[0m\n",
      "\u001b[1m 17/143\u001b[0m \u001b[32m━━\u001b[0m\u001b[37m━━━━━━━━━━━━━━━━━━\u001b[0m \u001b[1m0s\u001b[0m 3ms/step - accuracy: 0.9970 - loss: 0.0077     \u001b[32m [repeated 14x across cluster]\u001b[0m\n",
      "\u001b[1m 85/143\u001b[0m \u001b[32m━━━━━━━━━━━\u001b[0m\u001b[37m━━━━━━━━━\u001b[0m \u001b[1m0s\u001b[0m 3ms/step - accuracy: 0.9959 - loss: 0.0141\u001b[32m [repeated 41x across cluster]\u001b[0m\n",
      "\u001b[1m143/143\u001b[0m \u001b[32m━━━━━━━━━━━━━━━━━━━━\u001b[0m\u001b[37m\u001b[0m \u001b[1m0s\u001b[0m 3ms/step - accuracy: 0.9937 - loss: 0.0161\u001b[32m [repeated 17x across cluster]\u001b[0m\n",
      "\u001b[36m(ClientAppActor pid=11972)\u001b[0m Client  2 Training complete...\u001b[32m [repeated 4x across cluster]\u001b[0m\n",
      "\u001b[36m(ClientAppActor pid=11971)\u001b[0m Epoch 4/5\u001b[32m [repeated 36x across cluster]\u001b[0m\n",
      "\u001b[36m(ClientAppActor pid=11970)\u001b[0m Client ID: 0\u001b[32m [repeated 13x across cluster]\u001b[0m\n",
      "\u001b[36m(ClientAppActor pid=11974)\u001b[0m Client  2 Evaluating...\u001b[32m [repeated 4x across cluster]\u001b[0m\n",
      "\u001b[1m 48/143\u001b[0m \u001b[32m━━━━━━\u001b[0m\u001b[37m━━━━━━━━━━━━━━\u001b[0m \u001b[1m0s\u001b[0m 3ms/step - accuracy: 0.9978 - loss: 0.0064   \n"
     ]
    },
    {
     "name": "stderr",
     "output_type": "stream",
     "text": [
      "\u001b[36m(ClientAppActor pid=11970)\u001b[0m \u001b[93mWARNING \u001b[0m:   DEPRECATED FEATURE: `client_fn` now expects a signature `def client_fn(context: Context)`.The provided `client_fn` has signature: {'cid': <Parameter \"cid: str\">}. You can import the `Context` like this: `from flwr.common import Context`\u001b[32m [repeated 13x across cluster]\u001b[0m\n",
      "\u001b[36m(ClientAppActor pid=11970)\u001b[0m             This is a deprecated feature. It will be removed\u001b[32m [repeated 13x across cluster]\u001b[0m\n",
      "\u001b[36m(ClientAppActor pid=11970)\u001b[0m             entirely in future versions of Flower.\u001b[32m [repeated 13x across cluster]\u001b[0m\n",
      "\u001b[36m(ClientAppActor pid=11970)\u001b[0m /Users/user/Library/Python/3.9/lib/python/site-packages/keras/src/layers/reshaping/flatten.py:37: UserWarning: Do not pass an `input_shape`/`input_dim` argument to a layer. When using Sequential models, prefer using an `Input(shape)` object as the first layer in the model instead.\u001b[32m [repeated 13x across cluster]\u001b[0m\n",
      "\u001b[36m(ClientAppActor pid=11970)\u001b[0m   super().__init__(**kwargs)\u001b[32m [repeated 13x across cluster]\u001b[0m\n"
     ]
    },
    {
     "name": "stdout",
     "output_type": "stream",
     "text": [
      "\u001b[36m(ClientAppActor pid=11969)\u001b[0m \u001b[33mClient 7 evaluation complete - Accuracy: 0.992568, Loss: 0.024919\u001b[0m\u001b[32m [repeated 4x across cluster]\u001b[0m\n",
      "\u001b[1m4/4\u001b[0m \u001b[32m━━━━━━━━━━━━━━━━━━━━\u001b[0m\u001b[37m\u001b[0m \u001b[1m0s\u001b[0m 18ms/step - accuracy: 1.0000 - loss: 0.0366 \u001b[32m [repeated 2x across cluster]\u001b[0m\n",
      "\u001b[1m 49/143\u001b[0m \u001b[32m━━━━━━\u001b[0m\u001b[37m━━━━━━━━━━━━━━\u001b[0m \u001b[1m0s\u001b[0m 3ms/step - accuracy: 0.9989 - loss: 0.0057\n",
      "\u001b[1m 50/143\u001b[0m \u001b[32m━━━━━━\u001b[0m\u001b[37m━━━━━━━━━━━━━━\u001b[0m \u001b[1m0s\u001b[0m 3ms/step - accuracy: 0.9959 - loss: 0.0078   \n",
      "\u001b[36m(ClientAppActor pid=11970)\u001b[0m Client  0 Training...\u001b[32m [repeated 9x across cluster]\u001b[0m\n"
     ]
    },
    {
     "name": "stderr",
     "output_type": "stream",
     "text": [
      "\u001b[92mINFO \u001b[0m:      aggregate_fit: received 10 results and 0 failures\n"
     ]
    },
    {
     "name": "stdout",
     "output_type": "stream",
     "text": [
      "Server Evaluating... Evaluation Count:6\n",
      "\u001b[1m8602/8602\u001b[0m \u001b[32m━━━━━━━━━━━━━━━━━━━━\u001b[0m\u001b[37m\u001b[0m \u001b[1m13s\u001b[0m 1ms/step - accuracy: 0.9901 - loss: 0.0297\n",
      "\u001b[1m8602/8602\u001b[0m \u001b[32m━━━━━━━━━━━━━━━━━━━━\u001b[0m\u001b[37m\u001b[0m \u001b[1m7s\u001b[0m 811us/step\n"
     ]
    },
    {
     "name": "stderr",
     "output_type": "stream",
     "text": [
      "\u001b[92mINFO \u001b[0m:      fit progress: (6, 0.029197068884968758, {'accuracy': 0.9900965690612793}, 183.43367423800004)\n",
      "\u001b[92mINFO \u001b[0m:      configure_evaluate: strategy sampled 5 clients (out of 10)\n"
     ]
    },
    {
     "name": "stdout",
     "output_type": "stream",
     "text": [
      "Prediction:  [[2.9036073e-08 9.9999994e-01]\n",
      " [3.2270387e-07 9.9999958e-01]\n",
      " [5.7930126e-08 9.9999994e-01]\n",
      " ...\n",
      " [2.5112623e-08 9.9999994e-01]\n",
      " [6.0782895e-08 9.9999988e-01]\n",
      " [3.2295543e-07 9.9999964e-01]] (275258, 2)\n",
      "\u001b[33mServer evaluation complete - Accuracy: 0.9901, Loss: 0.0292\u001b[0m\n",
      "\u001b[1m 30/143\u001b[0m \u001b[32m━━━━\u001b[0m\u001b[37m━━━━━━━━━━━━━━━━\u001b[0m \u001b[1m0s\u001b[0m 3ms/step - accuracy: 0.9981 - loss: 0.0051\u001b[32m [repeated 2x across cluster]\u001b[0m\n",
      "\u001b[1m4/4\u001b[0m \u001b[32m━━━━━━━━━━━━━━━━━━━━\u001b[0m\u001b[37m\u001b[0m \u001b[1m2s\u001b[0m 12ms/step - accuracy: 0.9701 - loss: 0.1026\n",
      "\u001b[1m105/143\u001b[0m \u001b[32m━━━━━━━━━━━━━━\u001b[0m\u001b[37m━━━━━━\u001b[0m \u001b[1m0s\u001b[0m 3ms/step - accuracy: 0.9963 - loss: 0.0098\u001b[32m [repeated 5x across cluster]\u001b[0m\n",
      "\u001b[1m 57/143\u001b[0m \u001b[32m━━━━━━━\u001b[0m\u001b[37m━━━━━━━━━━━━━\u001b[0m \u001b[1m0s\u001b[0m 2ms/step - accuracy: 0.9950 - loss: 0.0112\u001b[32m [repeated 4x across cluster]\u001b[0m\n",
      "\u001b[1m 11/143\u001b[0m \u001b[32m━\u001b[0m\u001b[37m━━━━━━━━━━━━━━━━━━━\u001b[0m \u001b[1m0s\u001b[0m 5ms/step - accuracy: 0.9954 - loss: 0.0201 \n",
      "\u001b[1m 31/143\u001b[0m \u001b[32m━━━━\u001b[0m\u001b[37m━━━━━━━━━━━━━━━━\u001b[0m \u001b[1m0s\u001b[0m 3ms/step - accuracy: 0.9981 - loss: 0.0058   \n",
      "\u001b[1m4/4\u001b[0m \u001b[32m━━━━━━━━━━━━━━━━━━━━\u001b[0m\u001b[37m\u001b[0m \u001b[1m0s\u001b[0m 11ms/step - accuracy: 1.0000 - loss: 0.0055\u001b[32m [repeated 2x across cluster]\u001b[0m\n",
      "\u001b[1m1/4\u001b[0m \u001b[32m━━━━━\u001b[0m\u001b[37m━━━━━━━━━━━━━━━\u001b[0m \u001b[1m0s\u001b[0m 27ms/step - accuracy: 1.0000 - loss: 0.0055\u001b[32m [repeated 8x across cluster]\u001b[0m\n",
      "\u001b[1m 30/143\u001b[0m \u001b[32m━━━━\u001b[0m\u001b[37m━━━━━━━━━━━━━━━━\u001b[0m \u001b[1m0s\u001b[0m 2ms/step - accuracy: 0.9941 - loss: 0.0117 \u001b[32m [repeated 6x across cluster]\u001b[0m\n",
      "\u001b[1m143/143\u001b[0m \u001b[32m━━━━━━━━━━━━━━━━━━━━\u001b[0m\u001b[37m\u001b[0m \u001b[1m0s\u001b[0m 2ms/step - accuracy: 0.9952 - loss: 0.0111\u001b[32m [repeated 35x across cluster]\u001b[0m\n",
      "\u001b[1m143/143\u001b[0m \u001b[32m━━━━━━━━━━━━━━━━━━━━\u001b[0m\u001b[37m\u001b[0m \u001b[1m0s\u001b[0m 2ms/step - accuracy: 0.9962 - loss: 0.0145\u001b[32m [repeated 13x across cluster]\u001b[0m\n",
      "\u001b[36m(ClientAppActor pid=11968)\u001b[0m Client  1 Training complete...\u001b[32m [repeated 6x across cluster]\u001b[0m\n",
      "\u001b[36m(ClientAppActor pid=11968)\u001b[0m Epoch 5/5\u001b[32m [repeated 14x across cluster]\u001b[0m\n",
      "\u001b[36m(ClientAppActor pid=11970)\u001b[0m Client ID: 5\n",
      "\u001b[36m(ClientAppActor pid=11970)\u001b[0m Client  5 Evaluating...\n",
      "\u001b[36m(ClientAppActor pid=11968)\u001b[0m Client ID: 8\n",
      "\u001b[36m(ClientAppActor pid=11968)\u001b[0m Client  8 Evaluating...\n"
     ]
    },
    {
     "name": "stderr",
     "output_type": "stream",
     "text": [
      "\u001b[36m(ClientAppActor pid=11968)\u001b[0m \n",
      "\u001b[36m(ClientAppActor pid=11968)\u001b[0m         \n",
      "\u001b[36m(ClientAppActor pid=11970)\u001b[0m /Users/user/Library/Python/3.9/lib/python/site-packages/tensorflow/python/framework/tensor_util.py:522: DeprecationWarning: NumPy will stop allowing conversion of out-of-bound Python integers to integer arrays.  The conversion of 2147483648 to int32 will fail in the future.\u001b[32m [repeated 14x across cluster]\u001b[0m\n",
      "\u001b[36m(ClientAppActor pid=11970)\u001b[0m For the old behavior, usually:\u001b[32m [repeated 14x across cluster]\u001b[0m\n",
      "\u001b[36m(ClientAppActor pid=11970)\u001b[0m     np.array(value).astype(dtype)\u001b[32m [repeated 14x across cluster]\u001b[0m\n",
      "\u001b[36m(ClientAppActor pid=11970)\u001b[0m will give the desired result (the cast overflows).\u001b[32m [repeated 14x across cluster]\u001b[0m\n",
      "\u001b[36m(ClientAppActor pid=11970)\u001b[0m   nparray = np.array(values, dtype=np_dt)\u001b[32m [repeated 14x across cluster]\u001b[0m\n",
      "\u001b[36m(ClientAppActor pid=11968)\u001b[0m \u001b[93mWARNING \u001b[0m:   DEPRECATED FEATURE: `client_fn` now expects a signature `def client_fn(context: Context)`.The provided `client_fn` has signature: {'cid': <Parameter \"cid: str\">}. You can import the `Context` like this: `from flwr.common import Context`\n",
      "\u001b[36m(ClientAppActor pid=11968)\u001b[0m             This is a deprecated feature. It will be removed\n",
      "\u001b[36m(ClientAppActor pid=11968)\u001b[0m             entirely in future versions of Flower.\n",
      "\u001b[36m(ClientAppActor pid=11968)\u001b[0m /Users/user/Library/Python/3.9/lib/python/site-packages/keras/src/layers/reshaping/flatten.py:37: UserWarning: Do not pass an `input_shape`/`input_dim` argument to a layer. When using Sequential models, prefer using an `Input(shape)` object as the first layer in the model instead.\n",
      "\u001b[36m(ClientAppActor pid=11968)\u001b[0m   super().__init__(**kwargs)\n",
      "\u001b[36m(ClientAppActor pid=11970)\u001b[0m \u001b[93mWARNING \u001b[0m:   DEPRECATED FEATURE: `client_fn` now expects a signature `def client_fn(context: Context)`.The provided `client_fn` has signature: {'cid': <Parameter \"cid: str\">}. You can import the `Context` like this: `from flwr.common import Context`\n",
      "\u001b[36m(ClientAppActor pid=11970)\u001b[0m \n",
      "\u001b[36m(ClientAppActor pid=11970)\u001b[0m             This is a deprecated feature. It will be removed\n",
      "\u001b[36m(ClientAppActor pid=11970)\u001b[0m             entirely in future versions of Flower.\n",
      "\u001b[36m(ClientAppActor pid=11970)\u001b[0m         \n",
      "\u001b[36m(ClientAppActor pid=11970)\u001b[0m /Users/user/Library/Python/3.9/lib/python/site-packages/keras/src/layers/reshaping/flatten.py:37: UserWarning: Do not pass an `input_shape`/`input_dim` argument to a layer. When using Sequential models, prefer using an `Input(shape)` object as the first layer in the model instead.\n",
      "\u001b[36m(ClientAppActor pid=11970)\u001b[0m   super().__init__(**kwargs)\n",
      "\u001b[36m(ClientAppActor pid=11971)\u001b[0m \n",
      "\u001b[36m(ClientAppActor pid=11971)\u001b[0m         \n",
      "\u001b[36m(ClientAppActor pid=11974)\u001b[0m \n",
      "\u001b[36m(ClientAppActor pid=11974)\u001b[0m         \n",
      "\u001b[36m(ClientAppActor pid=11973)\u001b[0m \n",
      "\u001b[36m(ClientAppActor pid=11973)\u001b[0m         \n"
     ]
    },
    {
     "name": "stdout",
     "output_type": "stream",
     "text": [
      "\u001b[36m(ClientAppActor pid=11968)\u001b[0m \u001b[33mClient 8 evaluation complete - Accuracy: 0.879630, Loss: 0.343364\u001b[0m\n",
      "\u001b[1m 46/143\u001b[0m \u001b[32m━━━━━━\u001b[0m\u001b[37m━━━━━━━━━━━━━━\u001b[0m \u001b[1m0s\u001b[0m 2ms/step - accuracy: 0.9966 - loss: 0.0106     \n"
     ]
    },
    {
     "name": "stderr",
     "output_type": "stream",
     "text": [
      "\u001b[92mINFO \u001b[0m:      aggregate_evaluate: received 5 results and 0 failures\n",
      "\u001b[92mINFO \u001b[0m:      \n",
      "\u001b[92mINFO \u001b[0m:      [ROUND 7]\n",
      "\u001b[92mINFO \u001b[0m:      configure_fit: strategy sampled 10 clients (out of 10)\n",
      "\u001b[36m(ClientAppActor pid=11968)\u001b[0m \n",
      "\u001b[36m(ClientAppActor pid=11968)\u001b[0m         \n",
      "\u001b[36m(ClientAppActor pid=11970)\u001b[0m \n",
      "\u001b[36m(ClientAppActor pid=11970)\u001b[0m         \n",
      "\u001b[36m(ClientAppActor pid=11971)\u001b[0m \n",
      "\u001b[36m(ClientAppActor pid=11971)\u001b[0m         \n",
      "\u001b[36m(ClientAppActor pid=11974)\u001b[0m \n",
      "\u001b[36m(ClientAppActor pid=11974)\u001b[0m         \n",
      "\u001b[36m(ClientAppActor pid=11973)\u001b[0m \n",
      "\u001b[36m(ClientAppActor pid=11973)\u001b[0m         \n",
      "\u001b[36m(ClientAppActor pid=11967)\u001b[0m \n",
      "\u001b[36m(ClientAppActor pid=11967)\u001b[0m         \n",
      "\u001b[36m(ClientAppActor pid=11972)\u001b[0m \n",
      "\u001b[36m(ClientAppActor pid=11972)\u001b[0m         \n",
      "\u001b[36m(ClientAppActor pid=11969)\u001b[0m \n",
      "\u001b[36m(ClientAppActor pid=11969)\u001b[0m         \n"
     ]
    },
    {
     "name": "stdout",
     "output_type": "stream",
     "text": [
      "\u001b[36m(ClientAppActor pid=11970)\u001b[0m Client  2 Training...\n",
      "\u001b[1m4/4\u001b[0m \u001b[32m━━━━━━━━━━━━━━━━━━━━\u001b[0m\u001b[37m\u001b[0m \u001b[1m2s\u001b[0m 16ms/step - accuracy: 0.9550 - loss: 0.1499\n"
     ]
    },
    {
     "name": "stderr",
     "output_type": "stream",
     "text": [
      "\u001b[36m(ClientAppActor pid=11969)\u001b[0m \n",
      "\u001b[36m(ClientAppActor pid=11969)\u001b[0m         \n",
      "\u001b[36m(ClientAppActor pid=11973)\u001b[0m \n",
      "\u001b[36m(ClientAppActor pid=11973)\u001b[0m         \n"
     ]
    },
    {
     "name": "stdout",
     "output_type": "stream",
     "text": [
      "\u001b[1m 19/143\u001b[0m \u001b[32m━━\u001b[0m\u001b[37m━━━━━━━━━━━━━━━━━━\u001b[0m \u001b[1m0s\u001b[0m 3ms/step - accuracy: 0.9949 - loss: 0.0138 \n",
      "\u001b[1m 32/143\u001b[0m \u001b[32m━━━━\u001b[0m\u001b[37m━━━━━━━━━━━━━━━━\u001b[0m \u001b[1m0s\u001b[0m 3ms/step - accuracy: 0.9899 - loss: 0.0146  \n",
      "\u001b[1m 85/143\u001b[0m \u001b[32m━━━━━━━━━━━\u001b[0m\u001b[37m━━━━━━━━━\u001b[0m \u001b[1m0s\u001b[0m 4ms/step - accuracy: 0.9954 - loss: 0.0114\u001b[32m [repeated 3x across cluster]\u001b[0m\n",
      "\u001b[1m4/4\u001b[0m \u001b[32m━━━━━━━━━━━━━━━━━━━━\u001b[0m\u001b[37m\u001b[0m \u001b[1m0s\u001b[0m 15ms/step - accuracy: 1.0000 - loss: 0.0030\u001b[32m [repeated 9x across cluster]\u001b[0m\n",
      "\u001b[1m  1/143\u001b[0m \u001b[37m━━━━━━━━━━━━━━━━━━━━\u001b[0m \u001b[1m1:32\u001b[0m 648ms/step - accuracy: 1.0000 - loss: 0.0065\u001b[32m [repeated 17x across cluster]\u001b[0m\n",
      "\u001b[1m 16/143\u001b[0m \u001b[32m━━\u001b[0m\u001b[37m━━━━━━━━━━━━━━━━━━\u001b[0m \u001b[1m0s\u001b[0m 3ms/step - accuracy: 0.9897 - loss: 0.0188 \u001b[32m [repeated 18x across cluster]\u001b[0m\n",
      "\u001b[1m 88/143\u001b[0m \u001b[32m━━━━━━━━━━━━\u001b[0m\u001b[37m━━━━━━━━\u001b[0m \u001b[1m0s\u001b[0m 4ms/step - accuracy: 0.9944 - loss: 0.0124\u001b[32m [repeated 32x across cluster]\u001b[0m\n",
      "\u001b[1m129/143\u001b[0m \u001b[32m━━━━━━━━━━━━━━━━━━\u001b[0m\u001b[37m━━\u001b[0m \u001b[1m0s\u001b[0m 4ms/step - accuracy: 0.9954 - loss: 0.0117\u001b[32m [repeated 14x across cluster]\u001b[0m\n",
      "\u001b[36m(ClientAppActor pid=11972)\u001b[0m Client  0 Training complete...\u001b[32m [repeated 4x across cluster]\u001b[0m\n",
      "\u001b[36m(ClientAppActor pid=11971)\u001b[0m Epoch 3/5\u001b[32m [repeated 32x across cluster]\u001b[0m\n",
      "\u001b[36m(ClientAppActor pid=11973)\u001b[0m Client ID: 8\u001b[32m [repeated 13x across cluster]\u001b[0m\n",
      "\u001b[36m(ClientAppActor pid=11971)\u001b[0m Client  6 Evaluating...\u001b[32m [repeated 3x across cluster]\u001b[0m\n",
      "\u001b[1m 37/143\u001b[0m \u001b[32m━━━━━\u001b[0m\u001b[37m━━━━━━━━━━━━━━━\u001b[0m \u001b[1m0s\u001b[0m 3ms/step - accuracy: 0.9972 - loss: 0.0066   \n"
     ]
    },
    {
     "name": "stderr",
     "output_type": "stream",
     "text": [
      "\u001b[36m(ClientAppActor pid=11973)\u001b[0m /Users/user/Library/Python/3.9/lib/python/site-packages/tensorflow/python/framework/tensor_util.py:522: DeprecationWarning: NumPy will stop allowing conversion of out-of-bound Python integers to integer arrays.  The conversion of 2147483648 to int32 will fail in the future.\u001b[32m [repeated 14x across cluster]\u001b[0m\n",
      "\u001b[36m(ClientAppActor pid=11973)\u001b[0m For the old behavior, usually:\u001b[32m [repeated 14x across cluster]\u001b[0m\n",
      "\u001b[36m(ClientAppActor pid=11973)\u001b[0m     np.array(value).astype(dtype)\u001b[32m [repeated 14x across cluster]\u001b[0m\n",
      "\u001b[36m(ClientAppActor pid=11973)\u001b[0m will give the desired result (the cast overflows).\u001b[32m [repeated 14x across cluster]\u001b[0m\n",
      "\u001b[36m(ClientAppActor pid=11973)\u001b[0m   nparray = np.array(values, dtype=np_dt)\u001b[32m [repeated 14x across cluster]\u001b[0m\n",
      "\u001b[36m(ClientAppActor pid=11973)\u001b[0m \u001b[93mWARNING \u001b[0m:   DEPRECATED FEATURE: `client_fn` now expects a signature `def client_fn(context: Context)`.The provided `client_fn` has signature: {'cid': <Parameter \"cid: str\">}. You can import the `Context` like this: `from flwr.common import Context`\u001b[32m [repeated 13x across cluster]\u001b[0m\n",
      "\u001b[36m(ClientAppActor pid=11973)\u001b[0m             This is a deprecated feature. It will be removed\u001b[32m [repeated 13x across cluster]\u001b[0m\n",
      "\u001b[36m(ClientAppActor pid=11973)\u001b[0m             entirely in future versions of Flower.\u001b[32m [repeated 13x across cluster]\u001b[0m\n",
      "\u001b[36m(ClientAppActor pid=11973)\u001b[0m /Users/user/Library/Python/3.9/lib/python/site-packages/keras/src/layers/reshaping/flatten.py:37: UserWarning: Do not pass an `input_shape`/`input_dim` argument to a layer. When using Sequential models, prefer using an `Input(shape)` object as the first layer in the model instead.\u001b[32m [repeated 13x across cluster]\u001b[0m\n",
      "\u001b[36m(ClientAppActor pid=11973)\u001b[0m   super().__init__(**kwargs)\u001b[32m [repeated 13x across cluster]\u001b[0m\n"
     ]
    },
    {
     "name": "stdout",
     "output_type": "stream",
     "text": [
      "\u001b[1m 31/143\u001b[0m \u001b[32m━━━━\u001b[0m\u001b[37m━━━━━━━━━━━━━━━━\u001b[0m \u001b[1m0s\u001b[0m 3ms/step - accuracy: 0.9988 - loss: 0.0065\n",
      "\u001b[36m(ClientAppActor pid=11973)\u001b[0m \u001b[33mClient 1 evaluation complete - Accuracy: 0.992568, Loss: 0.016880\u001b[0m\u001b[32m [repeated 4x across cluster]\u001b[0m\n",
      "\u001b[1m 57/143\u001b[0m \u001b[32m━━━━━━━\u001b[0m\u001b[37m━━━━━━━━━━━━━\u001b[0m \u001b[1m0s\u001b[0m 2ms/step - accuracy: 0.9910 - loss: 0.0183     \n",
      "\u001b[36m(ClientAppActor pid=11969)\u001b[0m Client  3 Training...\u001b[32m [repeated 9x across cluster]\u001b[0m\n",
      "\u001b[1m 41/143\u001b[0m \u001b[32m━━━━━\u001b[0m\u001b[37m━━━━━━━━━━━━━━━\u001b[0m \u001b[1m0s\u001b[0m 3ms/step - accuracy: 0.9970 - loss: 0.0083\n"
     ]
    },
    {
     "name": "stderr",
     "output_type": "stream",
     "text": [
      "\u001b[92mINFO \u001b[0m:      aggregate_fit: received 10 results and 0 failures\n"
     ]
    },
    {
     "name": "stdout",
     "output_type": "stream",
     "text": [
      "Server Evaluating... Evaluation Count:7\n",
      "\u001b[1m8602/8602\u001b[0m \u001b[32m━━━━━━━━━━━━━━━━━━━━\u001b[0m\u001b[37m\u001b[0m \u001b[1m17s\u001b[0m 2ms/step - accuracy: 0.9899 - loss: 0.0318\n",
      "\u001b[1m8602/8602\u001b[0m \u001b[32m━━━━━━━━━━━━━━━━━━━━\u001b[0m\u001b[37m\u001b[0m \u001b[1m8s\u001b[0m 968us/step\n"
     ]
    },
    {
     "name": "stderr",
     "output_type": "stream",
     "text": [
      "\u001b[92mINFO \u001b[0m:      fit progress: (7, 0.030949953943490982, {'accuracy': 0.9901074767112732}, 219.72684372700002)\n",
      "\u001b[92mINFO \u001b[0m:      configure_evaluate: strategy sampled 5 clients (out of 10)\n"
     ]
    },
    {
     "name": "stdout",
     "output_type": "stream",
     "text": [
      "Prediction:  [[1.4463029e-08 9.9999994e-01]\n",
      " [1.5321064e-07 9.9999982e-01]\n",
      " [2.3896270e-08 9.9999994e-01]\n",
      " ...\n",
      " [1.0923224e-08 9.9999994e-01]\n",
      " [2.5128582e-08 1.0000000e+00]\n",
      " [1.5332202e-07 9.9999988e-01]] (275258, 2)\n",
      "\u001b[33mServer evaluation complete - Accuracy: 0.9901, Loss: 0.0309\u001b[0m\n",
      "\u001b[1m4/4\u001b[0m \u001b[32m━━━━━━━━━━━━━━━━━━━━\u001b[0m\u001b[37m\u001b[0m \u001b[1m2s\u001b[0m 12ms/step - accuracy: 0.9255 - loss: 0.2365\u001b[32m [repeated 3x across cluster]\u001b[0m\n",
      "\u001b[1m 18/143\u001b[0m \u001b[32m━━\u001b[0m\u001b[37m━━━━━━━━━━━━━━━━━━\u001b[0m \u001b[1m0s\u001b[0m 3ms/step - accuracy: 0.9929 - loss: 0.0122 \n",
      "\u001b[1m 32/143\u001b[0m \u001b[32m━━━━\u001b[0m\u001b[37m━━━━━━━━━━━━━━━━\u001b[0m \u001b[1m0s\u001b[0m 3ms/step - accuracy: 0.9930 - loss: 0.0138  \n",
      "\u001b[1m 75/143\u001b[0m \u001b[32m━━━━━━━━━━\u001b[0m\u001b[37m━━━━━━━━━━\u001b[0m \u001b[1m0s\u001b[0m 3ms/step - accuracy: 0.9947 - loss: 0.0178\u001b[32m [repeated 4x across cluster]\u001b[0m\n",
      "\u001b[1m  1/143\u001b[0m \u001b[37m━━━━━━━━━━━━━━━━━━━━\u001b[0m \u001b[1m3s\u001b[0m 27ms/step - accuracy: 1.0000 - loss: 0.0036\u001b[32m [repeated 9x across cluster]\u001b[0m\n",
      "\u001b[1m 30/143\u001b[0m \u001b[32m━━━━\u001b[0m\u001b[37m━━━━━━━━━━━━━━━━\u001b[0m \u001b[1m0s\u001b[0m 2ms/step - accuracy: 0.9957 - loss: 0.0099 \u001b[32m [repeated 11x across cluster]\u001b[0m\n",
      "\u001b[1m143/143\u001b[0m \u001b[32m━━━━━━━━━━━━━━━━━━━━\u001b[0m\u001b[37m\u001b[0m \u001b[1m0s\u001b[0m 2ms/step - accuracy: 0.9959 - loss: 0.0105\u001b[32m [repeated 38x across cluster]\u001b[0m\n",
      "\u001b[1m143/143\u001b[0m \u001b[32m━━━━━━━━━━━━━━━━━━━━\u001b[0m\u001b[37m\u001b[0m \u001b[1m0s\u001b[0m 2ms/step - accuracy: 0.9969 - loss: 0.0100\u001b[32m [repeated 18x across cluster]\u001b[0m\n",
      "\u001b[36m(ClientAppActor pid=11969)\u001b[0m Client  3 Training complete...\u001b[32m [repeated 6x across cluster]\u001b[0m\n",
      "\u001b[36m(ClientAppActor pid=11969)\u001b[0m Epoch 5/5\u001b[32m [repeated 18x across cluster]\u001b[0m\n",
      "\u001b[36m(ClientAppActor pid=11967)\u001b[0m Client ID: 3\n",
      "\u001b[1m 28/143\u001b[0m \u001b[32m━━━\u001b[0m\u001b[37m━━━━━━━━━━━━━━━━━\u001b[0m \u001b[1m0s\u001b[0m 4ms/step - accuracy: 0.9939 - loss: 0.0148   \n",
      "\u001b[1m 54/143\u001b[0m \u001b[32m━━━━━━━\u001b[0m\u001b[37m━━━━━━━━━━━━━\u001b[0m \u001b[1m0s\u001b[0m 2ms/step - accuracy: 0.9971 - loss: 0.0100\u001b[32m [repeated 3x across cluster]\u001b[0m\n",
      "\u001b[36m(ClientAppActor pid=11969)\u001b[0m Client ID: 0\n",
      "\u001b[36m(ClientAppActor pid=11969)\u001b[0m Client  0 Evaluating...\n"
     ]
    },
    {
     "name": "stderr",
     "output_type": "stream",
     "text": [
      "\u001b[36m(ClientAppActor pid=11967)\u001b[0m \n",
      "\u001b[36m(ClientAppActor pid=11967)\u001b[0m         \n",
      "\u001b[36m(ClientAppActor pid=11969)\u001b[0m /Users/user/Library/Python/3.9/lib/python/site-packages/tensorflow/python/framework/tensor_util.py:522: DeprecationWarning: NumPy will stop allowing conversion of out-of-bound Python integers to integer arrays.  The conversion of 2147483648 to int32 will fail in the future.\n",
      "\u001b[36m(ClientAppActor pid=11969)\u001b[0m For the old behavior, usually:\n",
      "\u001b[36m(ClientAppActor pid=11969)\u001b[0m     np.array(value).astype(dtype)\n",
      "\u001b[36m(ClientAppActor pid=11969)\u001b[0m will give the desired result (the cast overflows).\n",
      "\u001b[36m(ClientAppActor pid=11969)\u001b[0m   nparray = np.array(values, dtype=np_dt)\n",
      "\u001b[36m(ClientAppActor pid=11967)\u001b[0m \u001b[93mWARNING \u001b[0m:   DEPRECATED FEATURE: `client_fn` now expects a signature `def client_fn(context: Context)`.The provided `client_fn` has signature: {'cid': <Parameter \"cid: str\">}. You can import the `Context` like this: `from flwr.common import Context`\n",
      "\u001b[36m(ClientAppActor pid=11967)\u001b[0m             This is a deprecated feature. It will be removed\n",
      "\u001b[36m(ClientAppActor pid=11967)\u001b[0m             entirely in future versions of Flower.\n",
      "\u001b[36m(ClientAppActor pid=11967)\u001b[0m /Users/user/Library/Python/3.9/lib/python/site-packages/keras/src/layers/reshaping/flatten.py:37: UserWarning: Do not pass an `input_shape`/`input_dim` argument to a layer. When using Sequential models, prefer using an `Input(shape)` object as the first layer in the model instead.\n",
      "\u001b[36m(ClientAppActor pid=11967)\u001b[0m   super().__init__(**kwargs)\n",
      "\u001b[36m(ClientAppActor pid=11968)\u001b[0m \u001b[93mWARNING \u001b[0m:   DEPRECATED FEATURE: `client_fn` now expects a signature `def client_fn(context: Context)`.The provided `client_fn` has signature: {'cid': <Parameter \"cid: str\">}. You can import the `Context` like this: `from flwr.common import Context`\n",
      "\u001b[36m(ClientAppActor pid=11968)\u001b[0m \n",
      "\u001b[36m(ClientAppActor pid=11968)\u001b[0m             This is a deprecated feature. It will be removed\n",
      "\u001b[36m(ClientAppActor pid=11968)\u001b[0m             entirely in future versions of Flower.\n",
      "\u001b[36m(ClientAppActor pid=11968)\u001b[0m         \n",
      "\u001b[36m(ClientAppActor pid=11968)\u001b[0m /Users/user/Library/Python/3.9/lib/python/site-packages/keras/src/layers/reshaping/flatten.py:37: UserWarning: Do not pass an `input_shape`/`input_dim` argument to a layer. When using Sequential models, prefer using an `Input(shape)` object as the first layer in the model instead.\n",
      "\u001b[36m(ClientAppActor pid=11968)\u001b[0m   super().__init__(**kwargs)\n",
      "\u001b[36m(ClientAppActor pid=11969)\u001b[0m \n",
      "\u001b[36m(ClientAppActor pid=11969)\u001b[0m         \n",
      "\u001b[36m(ClientAppActor pid=11974)\u001b[0m \n",
      "\u001b[36m(ClientAppActor pid=11974)\u001b[0m         \n",
      "\u001b[36m(ClientAppActor pid=11973)\u001b[0m \n",
      "\u001b[36m(ClientAppActor pid=11973)\u001b[0m         \n",
      "\u001b[36m(ClientAppActor pid=11967)\u001b[0m /Users/user/Library/Python/3.9/lib/python/site-packages/tensorflow/python/framework/tensor_util.py:522: DeprecationWarning: NumPy will stop allowing conversion of out-of-bound Python integers to integer arrays.  The conversion of 2147483648 to int32 will fail in the future.\n",
      "\u001b[36m(ClientAppActor pid=11967)\u001b[0m For the old behavior, usually:\n",
      "\u001b[36m(ClientAppActor pid=11967)\u001b[0m     np.array(value).astype(dtype)\n",
      "\u001b[36m(ClientAppActor pid=11967)\u001b[0m will give the desired result (the cast overflows).\n",
      "\u001b[36m(ClientAppActor pid=11967)\u001b[0m   nparray = np.array(values, dtype=np_dt)\n"
     ]
    },
    {
     "name": "stdout",
     "output_type": "stream",
     "text": [
      "\u001b[1m4/4\u001b[0m \u001b[32m━━━━━━━━━━━━━━━━━━━━\u001b[0m\u001b[37m\u001b[0m \u001b[1m0s\u001b[0m 12ms/step - accuracy: 0.9424 - loss: 0.1374 \n",
      "\u001b[36m(ClientAppActor pid=11969)\u001b[0m \u001b[33mClient 0 evaluation complete - Accuracy: 0.944444, Loss: 0.146564\u001b[0m\n",
      "\u001b[1m 42/143\u001b[0m \u001b[32m━━━━━\u001b[0m\u001b[37m━━━━━━━━━━━━━━━\u001b[0m \u001b[1m0s\u001b[0m 2ms/step - accuracy: 0.9969 - loss: 0.0093     \n"
     ]
    },
    {
     "name": "stderr",
     "output_type": "stream",
     "text": [
      "\u001b[92mINFO \u001b[0m:      aggregate_evaluate: received 5 results and 0 failures\n",
      "\u001b[92mINFO \u001b[0m:      \n",
      "\u001b[92mINFO \u001b[0m:      [ROUND 8]\n",
      "\u001b[92mINFO \u001b[0m:      configure_fit: strategy sampled 10 clients (out of 10)\n",
      "\u001b[36m(ClientAppActor pid=11967)\u001b[0m \n",
      "\u001b[36m(ClientAppActor pid=11967)\u001b[0m         \n",
      "\u001b[36m(ClientAppActor pid=11968)\u001b[0m \n",
      "\u001b[36m(ClientAppActor pid=11968)\u001b[0m         \n",
      "\u001b[36m(ClientAppActor pid=11969)\u001b[0m \n",
      "\u001b[36m(ClientAppActor pid=11969)\u001b[0m         \n",
      "\u001b[36m(ClientAppActor pid=11974)\u001b[0m \n",
      "\u001b[36m(ClientAppActor pid=11974)\u001b[0m         \n",
      "\u001b[36m(ClientAppActor pid=11973)\u001b[0m \n",
      "\u001b[36m(ClientAppActor pid=11973)\u001b[0m         \n",
      "\u001b[36m(ClientAppActor pid=11971)\u001b[0m \n",
      "\u001b[36m(ClientAppActor pid=11971)\u001b[0m         \n"
     ]
    },
    {
     "name": "stdout",
     "output_type": "stream",
     "text": [
      "\u001b[36m(ClientAppActor pid=11967)\u001b[0m Client  8 Training...\n"
     ]
    },
    {
     "name": "stderr",
     "output_type": "stream",
     "text": [
      "\u001b[36m(ClientAppActor pid=11972)\u001b[0m \n",
      "\u001b[36m(ClientAppActor pid=11972)\u001b[0m         \n",
      "\u001b[36m(ClientAppActor pid=11970)\u001b[0m \n",
      "\u001b[36m(ClientAppActor pid=11970)\u001b[0m         \n"
     ]
    },
    {
     "name": "stdout",
     "output_type": "stream",
     "text": [
      "\u001b[1m 17/143\u001b[0m \u001b[32m━━\u001b[0m\u001b[37m━━━━━━━━━━━━━━━━━━\u001b[0m \u001b[1m0s\u001b[0m 3ms/step - accuracy: 0.9905 - loss: 0.0921 \n",
      "\u001b[1m4/4\u001b[0m \u001b[32m━━━━━━━━━━━━━━━━━━━━\u001b[0m\u001b[37m\u001b[0m \u001b[1m0s\u001b[0m 26ms/step - accuracy: 0.9519 - loss: 0.1418\n"
     ]
    },
    {
     "name": "stderr",
     "output_type": "stream",
     "text": [
      "\u001b[36m(ClientAppActor pid=11967)\u001b[0m \n",
      "\u001b[36m(ClientAppActor pid=11967)\u001b[0m         \n",
      "\u001b[36m(ClientAppActor pid=11969)\u001b[0m \n",
      "\u001b[36m(ClientAppActor pid=11969)\u001b[0m         \n"
     ]
    },
    {
     "name": "stdout",
     "output_type": "stream",
     "text": [
      "\u001b[1m 36/143\u001b[0m \u001b[32m━━━━━\u001b[0m\u001b[37m━━━━━━━━━━━━━━━\u001b[0m \u001b[1m0s\u001b[0m 3ms/step - accuracy: 0.9969 - loss: 0.0155\n",
      "\u001b[1m 15/143\u001b[0m \u001b[32m━━\u001b[0m\u001b[37m━━━━━━━━━━━━━━━━━━\u001b[0m \u001b[1m0s\u001b[0m 4ms/step - accuracy: 0.9974 - loss: 0.0043     \n",
      "\u001b[1m 41/143\u001b[0m \u001b[32m━━━━━\u001b[0m\u001b[37m━━━━━━━━━━━━━━━\u001b[0m \u001b[1m0s\u001b[0m 4ms/step - accuracy: 0.9959 - loss: 0.0119\n",
      "\u001b[1m 26/143\u001b[0m \u001b[32m━━━\u001b[0m\u001b[37m━━━━━━━━━━━━━━━━━\u001b[0m \u001b[1m0s\u001b[0m 4ms/step - accuracy: 0.9980 - loss: 0.0055   \n",
      "\u001b[1m4/4\u001b[0m \u001b[32m━━━━━━━━━━━━━━━━━━━━\u001b[0m\u001b[37m\u001b[0m \u001b[1m3s\u001b[0m 20ms/step - accuracy: 0.9398 - loss: 0.1596\u001b[32m [repeated 2x across cluster]\u001b[0m\n",
      "\u001b[1m143/143\u001b[0m \u001b[32m━━━━━━━━━━━━━━━━━━━━\u001b[0m\u001b[37m\u001b[0m \u001b[1m1s\u001b[0m 4ms/step - accuracy: 0.9968 - loss: 0.0085\u001b[32m [repeated 8x across cluster]\u001b[0m\n",
      "\u001b[1m  1/143\u001b[0m \u001b[37m━━━━━━━━━━━━━━━━━━━━\u001b[0m \u001b[1m5s\u001b[0m 39ms/step - accuracy: 1.0000 - loss: 9.6858e-08\u001b[32m [repeated 18x across cluster]\u001b[0m\n",
      "\u001b[1m 16/143\u001b[0m \u001b[32m━━\u001b[0m\u001b[37m━━━━━━━━━━━━━━━━━━\u001b[0m \u001b[1m0s\u001b[0m 3ms/step - accuracy: 0.9993 - loss: 0.0092 \u001b[32m [repeated 18x across cluster]\u001b[0m\n",
      "\u001b[1m 47/143\u001b[0m \u001b[32m━━━━━━\u001b[0m\u001b[37m━━━━━━━━━━━━━━\u001b[0m \u001b[1m0s\u001b[0m 3ms/step - accuracy: 0.9985 - loss: 0.0065\u001b[32m [repeated 47x across cluster]\u001b[0m\n",
      "\u001b[1m143/143\u001b[0m \u001b[32m━━━━━━━━━━━━━━━━━━━━\u001b[0m\u001b[37m\u001b[0m \u001b[1m1s\u001b[0m 4ms/step - accuracy: 0.9971 - loss: 0.0099\u001b[32m [repeated 18x across cluster]\u001b[0m\n",
      "\u001b[36m(ClientAppActor pid=11971)\u001b[0m Client  0 Training complete...\u001b[32m [repeated 3x across cluster]\u001b[0m\n",
      "\u001b[36m(ClientAppActor pid=11972)\u001b[0m Epoch 4/5\u001b[32m [repeated 35x across cluster]\u001b[0m\n",
      "\u001b[1m 33/143\u001b[0m \u001b[32m━━━━\u001b[0m\u001b[37m━━━━━━━━━━━━━━━━\u001b[0m \u001b[1m0s\u001b[0m 3ms/step - accuracy: 0.9970 - loss: 0.0125\u001b[32m [repeated 3x across cluster]\u001b[0m\n",
      "\u001b[36m(ClientAppActor pid=11969)\u001b[0m Client ID: 6\u001b[32m [repeated 13x across cluster]\u001b[0m\n",
      "\u001b[36m(ClientAppActor pid=11968)\u001b[0m Client  9 Evaluating...\u001b[32m [repeated 4x across cluster]\u001b[0m\n",
      "\u001b[1m4/4\u001b[0m \u001b[32m━━━━━━━━━━━━━━━━━━━━\u001b[0m\u001b[37m\u001b[0m \u001b[1m0s\u001b[0m 13ms/step - accuracy: 0.8801 - loss: 0.4239 \n",
      "\u001b[36m(ClientAppActor pid=11973)\u001b[0m \u001b[33mClient 5 evaluation complete - Accuracy: 0.993880, Loss: 0.015624\u001b[0m\u001b[32m [repeated 4x across cluster]\u001b[0m\n",
      "\u001b[1m 16/143\u001b[0m \u001b[32m━━\u001b[0m\u001b[37m━━━━━━━━━━━━━━━━━━\u001b[0m \u001b[1m0s\u001b[0m 4ms/step - accuracy: 0.9978 - loss: 0.0097   \n",
      "\u001b[1m 39/143\u001b[0m \u001b[32m━━━━━\u001b[0m\u001b[37m━━━━━━━━━━━━━━━\u001b[0m \u001b[1m0s\u001b[0m 4ms/step - accuracy: 0.9994 - loss: 0.0039  \n",
      "\u001b[36m(ClientAppActor pid=11969)\u001b[0m Client  6 Training...\u001b[32m [repeated 9x across cluster]\u001b[0m\n"
     ]
    },
    {
     "name": "stderr",
     "output_type": "stream",
     "text": [
      "\u001b[92mINFO \u001b[0m:      aggregate_fit: received 10 results and 0 failures\n"
     ]
    },
    {
     "name": "stdout",
     "output_type": "stream",
     "text": [
      "Server Evaluating... Evaluation Count:8\n",
      "\u001b[1m8602/8602\u001b[0m \u001b[32m━━━━━━━━━━━━━━━━━━━━\u001b[0m\u001b[37m\u001b[0m \u001b[1m12s\u001b[0m 1ms/step - accuracy: 0.9902 - loss: 0.0315\n",
      "\u001b[1m8602/8602\u001b[0m \u001b[32m━━━━━━━━━━━━━━━━━━━━\u001b[0m\u001b[37m\u001b[0m \u001b[1m7s\u001b[0m 805us/step\n"
     ]
    },
    {
     "name": "stderr",
     "output_type": "stream",
     "text": [
      "\u001b[92mINFO \u001b[0m:      fit progress: (8, 0.030511051416397095, {'accuracy': 0.9903835654258728}, 248.57067385200003)\n",
      "\u001b[92mINFO \u001b[0m:      configure_evaluate: strategy sampled 5 clients (out of 10)\n"
     ]
    },
    {
     "name": "stdout",
     "output_type": "stream",
     "text": [
      "Prediction:  [[5.8100840e-09 9.9999994e-01]\n",
      " [7.5342143e-08 9.9999982e-01]\n",
      " [8.4284579e-09 9.9999994e-01]\n",
      " ...\n",
      " [4.6246287e-09 9.9999994e-01]\n",
      " [8.8903995e-09 1.0000000e+00]\n",
      " [7.5405119e-08 9.9999988e-01]] (275258, 2)\n",
      "\u001b[33mServer evaluation complete - Accuracy: 0.9904, Loss: 0.0305\u001b[0m\n",
      "\u001b[1m 19/143\u001b[0m \u001b[32m━━\u001b[0m\u001b[37m━━━━━━━━━━━━━━━━━━\u001b[0m \u001b[1m0s\u001b[0m 3ms/step - accuracy: 0.9905 - loss: 0.0166 \n",
      "\u001b[1m4/4\u001b[0m \u001b[32m━━━━━━━━━━━━━━━━━━━━\u001b[0m\u001b[37m\u001b[0m \u001b[1m0s\u001b[0m 9ms/step - accuracy: 1.0000 - loss: 0.0038 \u001b[32m [repeated 8x across cluster]\u001b[0m\n",
      "\u001b[1m 30/143\u001b[0m \u001b[32m━━━━\u001b[0m\u001b[37m━━━━━━━━━━━━━━━━\u001b[0m \u001b[1m0s\u001b[0m 4ms/step - accuracy: 0.9941 - loss: 0.0095   \n",
      "\u001b[1m 59/143\u001b[0m \u001b[32m━━━━━━━━\u001b[0m\u001b[37m━━━━━━━━━━━━\u001b[0m \u001b[1m0s\u001b[0m 3ms/step - accuracy: 0.9986 - loss: 0.0083\n",
      "\u001b[1m4/4\u001b[0m \u001b[32m━━━━━━━━━━━━━━━━━━━━\u001b[0m\u001b[37m\u001b[0m \u001b[1m2s\u001b[0m 12ms/step - accuracy: 0.9156 - loss: 0.2512\n",
      "\u001b[1m143/143\u001b[0m \u001b[32m━━━━━━━━━━━━━━━━━━━━\u001b[0m\u001b[37m\u001b[0m \u001b[1m1s\u001b[0m 4ms/step - accuracy: 0.9978 - loss: 0.0069\u001b[32m [repeated 5x across cluster]\u001b[0m\n",
      "\u001b[1m1/4\u001b[0m \u001b[32m━━━━━\u001b[0m\u001b[37m━━━━━━━━━━━━━━━\u001b[0m \u001b[1m0s\u001b[0m 25ms/step - accuracy: 1.0000 - loss: 0.0158\u001b[32m [repeated 7x across cluster]\u001b[0m\n",
      "\u001b[1m4/4\u001b[0m \u001b[32m━━━━━━━━━━━━━━━━━━━━\u001b[0m\u001b[37m\u001b[0m \u001b[1m0s\u001b[0m 9ms/step - accuracy: 1.0000 - loss: 0.0053 \u001b[32m [repeated 10x across cluster]\u001b[0m\n",
      "\u001b[1m137/143\u001b[0m \u001b[32m━━━━━━━━━━━━━━━━━━━\u001b[0m\u001b[37m━\u001b[0m \u001b[1m0s\u001b[0m 2ms/step - accuracy: 0.9979 - loss: 0.0076\u001b[32m [repeated 33x across cluster]\u001b[0m\n",
      "\u001b[1m143/143\u001b[0m \u001b[32m━━━━━━━━━━━━━━━━━━━━\u001b[0m\u001b[37m\u001b[0m \u001b[1m0s\u001b[0m 2ms/step - accuracy: 0.9978 - loss: 0.0076\u001b[32m [repeated 11x across cluster]\u001b[0m\n",
      "\u001b[36m(ClientAppActor pid=11968)\u001b[0m Client  7 Training complete...\u001b[32m [repeated 7x across cluster]\u001b[0m\n",
      "\u001b[36m(ClientAppActor pid=11969)\u001b[0m Epoch 5/5\u001b[32m [repeated 15x across cluster]\u001b[0m\n",
      "\u001b[36m(ClientAppActor pid=11967)\u001b[0m Client ID: 2\n",
      "\u001b[36m(ClientAppActor pid=11967)\u001b[0m Client  2 Evaluating...\n",
      "\u001b[36m(ClientAppActor pid=11969)\u001b[0m Client ID: 3\n",
      "\u001b[36m(ClientAppActor pid=11969)\u001b[0m Client  3 Evaluating...\n"
     ]
    },
    {
     "name": "stderr",
     "output_type": "stream",
     "text": [
      "\u001b[36m(ClientAppActor pid=11967)\u001b[0m \n",
      "\u001b[36m(ClientAppActor pid=11967)\u001b[0m         \n",
      "\u001b[36m(ClientAppActor pid=11967)\u001b[0m \u001b[93mWARNING \u001b[0m:   DEPRECATED FEATURE: `client_fn` now expects a signature `def client_fn(context: Context)`.The provided `client_fn` has signature: {'cid': <Parameter \"cid: str\">}. You can import the `Context` like this: `from flwr.common import Context`\u001b[32m [repeated 14x across cluster]\u001b[0m\n",
      "\u001b[36m(ClientAppActor pid=11967)\u001b[0m             This is a deprecated feature. It will be removed\u001b[32m [repeated 14x across cluster]\u001b[0m\n",
      "\u001b[36m(ClientAppActor pid=11967)\u001b[0m             entirely in future versions of Flower.\u001b[32m [repeated 14x across cluster]\u001b[0m\n",
      "\u001b[36m(ClientAppActor pid=11967)\u001b[0m /Users/user/Library/Python/3.9/lib/python/site-packages/keras/src/layers/reshaping/flatten.py:37: UserWarning: Do not pass an `input_shape`/`input_dim` argument to a layer. When using Sequential models, prefer using an `Input(shape)` object as the first layer in the model instead.\u001b[32m [repeated 14x across cluster]\u001b[0m\n",
      "\u001b[36m(ClientAppActor pid=11967)\u001b[0m   super().__init__(**kwargs)\u001b[32m [repeated 14x across cluster]\u001b[0m\n",
      "\u001b[36m(ClientAppActor pid=11969)\u001b[0m /Users/user/Library/Python/3.9/lib/python/site-packages/tensorflow/python/framework/tensor_util.py:522: DeprecationWarning: NumPy will stop allowing conversion of out-of-bound Python integers to integer arrays.  The conversion of 2147483648 to int32 will fail in the future.\u001b[32m [repeated 14x across cluster]\u001b[0m\n",
      "\u001b[36m(ClientAppActor pid=11969)\u001b[0m For the old behavior, usually:\u001b[32m [repeated 14x across cluster]\u001b[0m\n",
      "\u001b[36m(ClientAppActor pid=11969)\u001b[0m     np.array(value).astype(dtype)\u001b[32m [repeated 14x across cluster]\u001b[0m\n",
      "\u001b[36m(ClientAppActor pid=11969)\u001b[0m will give the desired result (the cast overflows).\u001b[32m [repeated 14x across cluster]\u001b[0m\n",
      "\u001b[36m(ClientAppActor pid=11969)\u001b[0m   nparray = np.array(values, dtype=np_dt)\u001b[32m [repeated 14x across cluster]\u001b[0m\n",
      "\u001b[36m(ClientAppActor pid=11968)\u001b[0m \n",
      "\u001b[36m(ClientAppActor pid=11968)\u001b[0m         \n",
      "\u001b[36m(ClientAppActor pid=11969)\u001b[0m \n",
      "\u001b[36m(ClientAppActor pid=11969)\u001b[0m         \n",
      "\u001b[36m(ClientAppActor pid=11974)\u001b[0m \n",
      "\u001b[36m(ClientAppActor pid=11974)\u001b[0m         \n",
      "\u001b[36m(ClientAppActor pid=11973)\u001b[0m \n",
      "\u001b[36m(ClientAppActor pid=11973)\u001b[0m         \n"
     ]
    },
    {
     "name": "stdout",
     "output_type": "stream",
     "text": [
      "\u001b[36m(ClientAppActor pid=11967)\u001b[0m \u001b[33mClient 2 evaluation complete - Accuracy: 0.935185, Loss: 0.259556\u001b[0m\n",
      "\u001b[1m4/4\u001b[0m \u001b[32m━━━━━━━━━━━━━━━━━━━━\u001b[0m\u001b[37m\u001b[0m \u001b[1m0s\u001b[0m 11ms/step - accuracy: 0.8586 - loss: 0.3902 \n"
     ]
    },
    {
     "name": "stderr",
     "output_type": "stream",
     "text": [
      "\u001b[92mINFO \u001b[0m:      aggregate_evaluate: received 5 results and 0 failures\n",
      "\u001b[92mINFO \u001b[0m:      \n",
      "\u001b[92mINFO \u001b[0m:      [ROUND 9]\n",
      "\u001b[92mINFO \u001b[0m:      configure_fit: strategy sampled 10 clients (out of 10)\n",
      "\u001b[36m(ClientAppActor pid=11967)\u001b[0m \n",
      "\u001b[36m(ClientAppActor pid=11967)\u001b[0m         \n",
      "\u001b[36m(ClientAppActor pid=11972)\u001b[0m \n",
      "\u001b[36m(ClientAppActor pid=11972)\u001b[0m         \n",
      "\u001b[36m(ClientAppActor pid=11969)\u001b[0m \n",
      "\u001b[36m(ClientAppActor pid=11969)\u001b[0m         \n",
      "\u001b[36m(ClientAppActor pid=11974)\u001b[0m \n",
      "\u001b[36m(ClientAppActor pid=11974)\u001b[0m         \n",
      "\u001b[36m(ClientAppActor pid=11973)\u001b[0m \n",
      "\u001b[36m(ClientAppActor pid=11973)\u001b[0m         \n",
      "\u001b[36m(ClientAppActor pid=11970)\u001b[0m \n",
      "\u001b[36m(ClientAppActor pid=11970)\u001b[0m         \n",
      "\u001b[36m(ClientAppActor pid=11971)\u001b[0m \n",
      "\u001b[36m(ClientAppActor pid=11971)\u001b[0m         \n"
     ]
    },
    {
     "name": "stdout",
     "output_type": "stream",
     "text": [
      "\u001b[36m(ClientAppActor pid=11969)\u001b[0m Client  1 Training...\n",
      "\u001b[36m(ClientAppActor pid=11972)\u001b[0m Client \n",
      "\u001b[36m(ClientAppActor pid=11972)\u001b[0m  7\n",
      "\u001b[36m(ClientAppActor pid=11972)\u001b[0m  Training...\n"
     ]
    },
    {
     "name": "stderr",
     "output_type": "stream",
     "text": [
      "\u001b[36m(ClientAppActor pid=11968)\u001b[0m \n",
      "\u001b[36m(ClientAppActor pid=11968)\u001b[0m         \n"
     ]
    },
    {
     "name": "stdout",
     "output_type": "stream",
     "text": [
      "\u001b[1m 36/143\u001b[0m \u001b[32m━━━━━\u001b[0m\u001b[37m━━━━━━━━━━━━━━━\u001b[0m \u001b[1m0s\u001b[0m 3ms/step - accuracy: 0.9911 - loss: 0.0120\n",
      "\u001b[1m 25/143\u001b[0m \u001b[32m━━━\u001b[0m\u001b[37m━━━━━━━━━━━━━━━━━\u001b[0m \u001b[1m0s\u001b[0m 4ms/step - accuracy: 0.9960 - loss: 0.0073   \n",
      "\u001b[1m 14/143\u001b[0m \u001b[32m━\u001b[0m\u001b[37m━━━━━━━━━━━━━━━━━━━\u001b[0m \u001b[1m0s\u001b[0m 4ms/step - accuracy: 0.9962 - loss: 0.0111 \n",
      "\u001b[1m4/4\u001b[0m \u001b[32m━━━━━━━━━━━━━━━━━━━━\u001b[0m\u001b[37m\u001b[0m \u001b[1m2s\u001b[0m 52ms/step - accuracy: 0.9402 - loss: 0.2421\n"
     ]
    },
    {
     "name": "stderr",
     "output_type": "stream",
     "text": [
      "\u001b[36m(ClientAppActor pid=11971)\u001b[0m \n",
      "\u001b[36m(ClientAppActor pid=11971)\u001b[0m         \n"
     ]
    },
    {
     "name": "stdout",
     "output_type": "stream",
     "text": [
      "\u001b[1m 16/143\u001b[0m \u001b[32m━━\u001b[0m\u001b[37m━━━━━━━━━━━━━━━━━━\u001b[0m \u001b[1m0s\u001b[0m 4ms/step - accuracy: 0.9974 - loss: 0.0042        \n"
     ]
    },
    {
     "name": "stderr",
     "output_type": "stream",
     "text": [
      "\u001b[36m(ClientAppActor pid=11968)\u001b[0m \n",
      "\u001b[36m(ClientAppActor pid=11968)\u001b[0m         \n"
     ]
    },
    {
     "name": "stdout",
     "output_type": "stream",
     "text": [
      "\u001b[1m4/4\u001b[0m \u001b[32m━━━━━━━━━━━━━━━━━━━━\u001b[0m\u001b[37m\u001b[0m \u001b[1m0s\u001b[0m 28ms/step - accuracy: 1.0000 - loss: 0.0102\u001b[32m [repeated 5x across cluster]\u001b[0m\n",
      "\u001b[1m117/143\u001b[0m \u001b[32m━━━━━━━━━━━━━━━━\u001b[0m\u001b[37m━━━━\u001b[0m \u001b[1m0s\u001b[0m 4ms/step - accuracy: 0.9933 - loss: 0.0169\u001b[32m [repeated 4x across cluster]\u001b[0m\n",
      "\u001b[1m1/4\u001b[0m \u001b[32m━━━━━\u001b[0m\u001b[37m━━━━━━━━━━━━━━━\u001b[0m \u001b[1m1s\u001b[0m 337ms/step - accuracy: 1.0000 - loss: 0.0028\u001b[32m [repeated 16x across cluster]\u001b[0m\n",
      "\u001b[1m4/4\u001b[0m \u001b[32m━━━━━━━━━━━━━━━━━━━━\u001b[0m\u001b[37m\u001b[0m \u001b[1m0s\u001b[0m 23ms/step - accuracy: 0.9911 - loss: 0.0266\u001b[32m [repeated 14x across cluster]\u001b[0m\n",
      "\u001b[1m 88/143\u001b[0m \u001b[32m━━━━━━━━━━━━\u001b[0m\u001b[37m━━━━━━━━\u001b[0m \u001b[1m0s\u001b[0m 6ms/step - accuracy: 0.9946 - loss: 0.0109\u001b[32m [repeated 40x across cluster]\u001b[0m\n",
      "\u001b[1m143/143\u001b[0m \u001b[32m━━━━━━━━━━━━━━━━━━━━\u001b[0m\u001b[37m\u001b[0m \u001b[1m1s\u001b[0m 6ms/step - accuracy: 0.9975 - loss: 0.0072\u001b[32m [repeated 22x across cluster]\u001b[0m\n",
      "\u001b[36m(ClientAppActor pid=11968)\u001b[0m Client  4 Training complete...\u001b[32m [repeated 3x across cluster]\u001b[0m\n",
      "\u001b[36m(ClientAppActor pid=11973)\u001b[0m Epoch 3/5\u001b[32m [repeated 28x across cluster]\u001b[0m\n",
      "\u001b[36m(ClientAppActor pid=11968)\u001b[0m Client ID: 2\u001b[32m [repeated 13x across cluster]\u001b[0m\n",
      "\u001b[36m(ClientAppActor pid=11973)\u001b[0m Client  7 Evaluating...\u001b[32m [repeated 3x across cluster]\u001b[0m\n",
      "\u001b[1m 27/143\u001b[0m \u001b[32m━━━\u001b[0m\u001b[37m━━━━━━━━━━━━━━━━━\u001b[0m \u001b[1m0s\u001b[0m 6ms/step - accuracy: 0.9951 - loss: 0.0097 \n",
      "\u001b[36m(ClientAppActor pid=11969)\u001b[0m \u001b[33mClient 3 evaluation complete - Accuracy: 0.992350, Loss: 0.018761\u001b[0m\u001b[32m [repeated 4x across cluster]\u001b[0m\n",
      "\u001b[1m4/4\u001b[0m \u001b[32m━━━━━━━━━━━━━━━━━━━━\u001b[0m\u001b[37m\u001b[0m \u001b[1m0s\u001b[0m 38ms/step - accuracy: 1.0000 - loss: 0.0024 \u001b[32m [repeated 3x across cluster]\u001b[0m\n",
      "\u001b[36m(ClientAppActor pid=11968)\u001b[0m Client  2 Training...\u001b[32m [repeated 8x across cluster]\u001b[0m\n",
      "\u001b[1m  7/143\u001b[0m \u001b[37m━━━━━━━━━━━━━━━━━━━━\u001b[0m \u001b[1m1s\u001b[0m 9ms/step - accuracy: 1.0000 - loss: 0.0023       \n",
      "\u001b[1m 23/143\u001b[0m \u001b[32m━━━\u001b[0m\u001b[37m━━━━━━━━━━━━━━━━━\u001b[0m \u001b[1m0s\u001b[0m 5ms/step - accuracy: 1.0000 - loss: 0.0035  \n"
     ]
    },
    {
     "name": "stderr",
     "output_type": "stream",
     "text": [
      "\u001b[36m(ClientAppActor pid=11968)\u001b[0m \u001b[93mWARNING \u001b[0m:   DEPRECATED FEATURE: `client_fn` now expects a signature `def client_fn(context: Context)`.The provided `client_fn` has signature: {'cid': <Parameter \"cid: str\">}. You can import the `Context` like this: `from flwr.common import Context`\u001b[32m [repeated 14x across cluster]\u001b[0m\n",
      "\u001b[36m(ClientAppActor pid=11968)\u001b[0m             This is a deprecated feature. It will be removed\u001b[32m [repeated 14x across cluster]\u001b[0m\n",
      "\u001b[36m(ClientAppActor pid=11968)\u001b[0m             entirely in future versions of Flower.\u001b[32m [repeated 14x across cluster]\u001b[0m\n",
      "\u001b[36m(ClientAppActor pid=11968)\u001b[0m /Users/user/Library/Python/3.9/lib/python/site-packages/keras/src/layers/reshaping/flatten.py:37: UserWarning: Do not pass an `input_shape`/`input_dim` argument to a layer. When using Sequential models, prefer using an `Input(shape)` object as the first layer in the model instead.\u001b[32m [repeated 14x across cluster]\u001b[0m\n",
      "\u001b[36m(ClientAppActor pid=11968)\u001b[0m   super().__init__(**kwargs)\u001b[32m [repeated 14x across cluster]\u001b[0m\n",
      "\u001b[36m(ClientAppActor pid=11971)\u001b[0m /Users/user/Library/Python/3.9/lib/python/site-packages/tensorflow/python/framework/tensor_util.py:522: DeprecationWarning: NumPy will stop allowing conversion of out-of-bound Python integers to integer arrays.  The conversion of 2147483648 to int32 will fail in the future.\u001b[32m [repeated 14x across cluster]\u001b[0m\n",
      "\u001b[36m(ClientAppActor pid=11971)\u001b[0m For the old behavior, usually:\u001b[32m [repeated 14x across cluster]\u001b[0m\n",
      "\u001b[36m(ClientAppActor pid=11971)\u001b[0m     np.array(value).astype(dtype)\u001b[32m [repeated 14x across cluster]\u001b[0m\n",
      "\u001b[36m(ClientAppActor pid=11971)\u001b[0m will give the desired result (the cast overflows).\u001b[32m [repeated 14x across cluster]\u001b[0m\n",
      "\u001b[36m(ClientAppActor pid=11971)\u001b[0m   nparray = np.array(values, dtype=np_dt)\u001b[32m [repeated 14x across cluster]\u001b[0m\n"
     ]
    },
    {
     "name": "stdout",
     "output_type": "stream",
     "text": [
      "\u001b[1m 28/143\u001b[0m \u001b[32m━━━\u001b[0m\u001b[37m━━━━━━━━━━━━━━━━━\u001b[0m \u001b[1m0s\u001b[0m 4ms/step - accuracy: 0.9992 - loss: 0.0046    \n",
      "\u001b[1m 14/143\u001b[0m \u001b[32m━\u001b[0m\u001b[37m━━━━━━━━━━━━━━━━━━━\u001b[0m \u001b[1m0s\u001b[0m 4ms/step - accuracy: 0.9997 - loss: 0.0050       \n",
      "\u001b[1m 27/143\u001b[0m \u001b[32m━━━\u001b[0m\u001b[37m━━━━━━━━━━━━━━━━━\u001b[0m \u001b[1m0s\u001b[0m 4ms/step - accuracy: 0.9991 - loss: 0.0025 \n",
      "\u001b[1m 19/143\u001b[0m \u001b[32m━━\u001b[0m\u001b[37m━━━━━━━━━━━━━━━━━━\u001b[0m \u001b[1m0s\u001b[0m 6ms/step - accuracy: 0.9966 - loss: 0.0120\n",
      "\u001b[1m4/4\u001b[0m \u001b[32m━━━━━━━━━━━━━━━━━━━━\u001b[0m\u001b[37m\u001b[0m \u001b[1m3s\u001b[0m 18ms/step - accuracy: 0.8707 - loss: 0.4084\u001b[32m [repeated 2x across cluster]\u001b[0m\n"
     ]
    },
    {
     "name": "stderr",
     "output_type": "stream",
     "text": [
      "\u001b[92mINFO \u001b[0m:      aggregate_fit: received 10 results and 0 failures\n"
     ]
    },
    {
     "name": "stdout",
     "output_type": "stream",
     "text": [
      "Server Evaluating... Evaluation Count:9\n",
      "\u001b[1m8602/8602\u001b[0m \u001b[32m━━━━━━━━━━━━━━━━━━━━\u001b[0m\u001b[37m\u001b[0m \u001b[1m13s\u001b[0m 1ms/step - accuracy: 0.9900 - loss: 0.0331\n",
      "\u001b[1m8602/8602\u001b[0m \u001b[32m━━━━━━━━━━━━━━━━━━━━\u001b[0m\u001b[37m\u001b[0m \u001b[1m7s\u001b[0m 791us/step\n"
     ]
    },
    {
     "name": "stderr",
     "output_type": "stream",
     "text": [
      "\u001b[92mINFO \u001b[0m:      fit progress: (9, 0.032088350504636765, {'accuracy': 0.9902164340019226}, 280.59715033500004)\n",
      "\u001b[92mINFO \u001b[0m:      configure_evaluate: strategy sampled 5 clients (out of 10)\n"
     ]
    },
    {
     "name": "stdout",
     "output_type": "stream",
     "text": [
      "Prediction:  [[2.0734321e-09 9.9999994e-01]\n",
      " [4.2547168e-08 9.9999994e-01]\n",
      " [3.1877101e-09 9.9999994e-01]\n",
      " ...\n",
      " [2.1845157e-09 9.9999994e-01]\n",
      " [3.3521552e-09 1.0000000e+00]\n",
      " [4.2585818e-08 1.0000000e+00]] (275258, 2)\n",
      "\u001b[33mServer evaluation complete - Accuracy: 0.9902, Loss: 0.0321\u001b[0m\n",
      "\u001b[1m4/4\u001b[0m \u001b[32m━━━━━━━━━━━━━━━━━━━━\u001b[0m\u001b[37m\u001b[0m \u001b[1m0s\u001b[0m 14ms/step - accuracy: 1.0000 - loss: 0.0028\u001b[32m [repeated 3x across cluster]\u001b[0m\n",
      "\u001b[1m 94/143\u001b[0m \u001b[32m━━━━━━━━━━━━━\u001b[0m\u001b[37m━━━━━━━\u001b[0m \u001b[1m0s\u001b[0m 6ms/step - accuracy: 0.9974 - loss: 0.0071\u001b[32m [repeated 5x across cluster]\u001b[0m\n",
      "\u001b[1m1/4\u001b[0m \u001b[32m━━━━━\u001b[0m\u001b[37m━━━━━━━━━━━━━━━\u001b[0m \u001b[1m0s\u001b[0m 29ms/step - accuracy: 1.0000 - loss: 0.0031\u001b[32m [repeated 9x across cluster]\u001b[0m\n",
      "\u001b[1m4/4\u001b[0m \u001b[32m━━━━━━━━━━━━━━━━━━━━\u001b[0m\u001b[37m\u001b[0m \u001b[1m0s\u001b[0m 10ms/step - accuracy: 1.0000 - loss: 0.0036\u001b[32m [repeated 16x across cluster]\u001b[0m\n",
      "\u001b[1m143/143\u001b[0m \u001b[32m━━━━━━━━━━━━━━━━━━━━\u001b[0m\u001b[37m\u001b[0m \u001b[1m1s\u001b[0m 6ms/step - accuracy: 0.9969 - loss: 0.0075\u001b[32m [repeated 80x across cluster]\u001b[0m\n",
      "\u001b[1m143/143\u001b[0m \u001b[32m━━━━━━━━━━━━━━━━━━━━\u001b[0m\u001b[37m\u001b[0m \u001b[1m1s\u001b[0m 6ms/step - accuracy: 0.9973 - loss: 0.0053\u001b[32m [repeated 30x across cluster]\u001b[0m\n",
      "\u001b[36m(ClientAppActor pid=11968)\u001b[0m Client  2 Training complete...\u001b[32m [repeated 7x across cluster]\u001b[0m\n",
      "\u001b[36m(ClientAppActor pid=11968)\u001b[0m Epoch 5/5\u001b[32m [repeated 22x across cluster]\u001b[0m\n",
      "\u001b[36m(ClientAppActor pid=11969)\u001b[0m Client ID: 7\n",
      "\u001b[36m(ClientAppActor pid=11969)\u001b[0m Client  7 Evaluating...\n",
      "\u001b[36m(ClientAppActor pid=11970)\u001b[0m Client ID: 0\n",
      "\u001b[36m(ClientAppActor pid=11970)\u001b[0m Client  0 Evaluating...\n"
     ]
    },
    {
     "name": "stderr",
     "output_type": "stream",
     "text": [
      "\u001b[36m(ClientAppActor pid=11968)\u001b[0m \n",
      "\u001b[36m(ClientAppActor pid=11968)\u001b[0m         \n",
      "\u001b[36m(ClientAppActor pid=11968)\u001b[0m \u001b[93mWARNING \u001b[0m:   DEPRECATED FEATURE: `client_fn` now expects a signature `def client_fn(context: Context)`.The provided `client_fn` has signature: {'cid': <Parameter \"cid: str\">}. You can import the `Context` like this: `from flwr.common import Context`\n",
      "\u001b[36m(ClientAppActor pid=11968)\u001b[0m             This is a deprecated feature. It will be removed\n",
      "\u001b[36m(ClientAppActor pid=11968)\u001b[0m             entirely in future versions of Flower.\n",
      "\u001b[36m(ClientAppActor pid=11968)\u001b[0m /Users/user/Library/Python/3.9/lib/python/site-packages/keras/src/layers/reshaping/flatten.py:37: UserWarning: Do not pass an `input_shape`/`input_dim` argument to a layer. When using Sequential models, prefer using an `Input(shape)` object as the first layer in the model instead.\n",
      "\u001b[36m(ClientAppActor pid=11968)\u001b[0m   super().__init__(**kwargs)\n",
      "\u001b[36m(ClientAppActor pid=11968)\u001b[0m /Users/user/Library/Python/3.9/lib/python/site-packages/tensorflow/python/framework/tensor_util.py:522: DeprecationWarning: NumPy will stop allowing conversion of out-of-bound Python integers to integer arrays.  The conversion of 2147483648 to int32 will fail in the future.\n",
      "\u001b[36m(ClientAppActor pid=11968)\u001b[0m For the old behavior, usually:\n",
      "\u001b[36m(ClientAppActor pid=11968)\u001b[0m     np.array(value).astype(dtype)\n",
      "\u001b[36m(ClientAppActor pid=11968)\u001b[0m will give the desired result (the cast overflows).\n",
      "\u001b[36m(ClientAppActor pid=11968)\u001b[0m   nparray = np.array(values, dtype=np_dt)\n",
      "\u001b[36m(ClientAppActor pid=11972)\u001b[0m \u001b[93mWARNING \u001b[0m:   DEPRECATED FEATURE: `client_fn` now expects a signature `def client_fn(context: Context)`.The provided `client_fn` has signature: {'cid': <Parameter \"cid: str\">}. You can import the `Context` like this: `from flwr.common import Context`\n",
      "\u001b[36m(ClientAppActor pid=11972)\u001b[0m \n",
      "\u001b[36m(ClientAppActor pid=11972)\u001b[0m             This is a deprecated feature. It will be removed\n",
      "\u001b[36m(ClientAppActor pid=11972)\u001b[0m             entirely in future versions of Flower.\n",
      "\u001b[36m(ClientAppActor pid=11972)\u001b[0m         \n",
      "\u001b[36m(ClientAppActor pid=11972)\u001b[0m /Users/user/Library/Python/3.9/lib/python/site-packages/keras/src/layers/reshaping/flatten.py:37: UserWarning: Do not pass an `input_shape`/`input_dim` argument to a layer. When using Sequential models, prefer using an `Input(shape)` object as the first layer in the model instead.\n",
      "\u001b[36m(ClientAppActor pid=11972)\u001b[0m   super().__init__(**kwargs)\n",
      "\u001b[36m(ClientAppActor pid=11970)\u001b[0m \n",
      "\u001b[36m(ClientAppActor pid=11970)\u001b[0m         \n",
      "\u001b[36m(ClientAppActor pid=11969)\u001b[0m \n",
      "\u001b[36m(ClientAppActor pid=11969)\u001b[0m         \n",
      "\u001b[36m(ClientAppActor pid=11971)\u001b[0m \n",
      "\u001b[36m(ClientAppActor pid=11971)\u001b[0m         \n",
      "\u001b[36m(ClientAppActor pid=11968)\u001b[0m /Users/user/Library/Python/3.9/lib/python/site-packages/tensorflow/python/framework/tensor_util.py:522: DeprecationWarning: NumPy will stop allowing conversion of out-of-bound Python integers to integer arrays.  The conversion of 2147483648 to int32 will fail in the future.\n",
      "\u001b[36m(ClientAppActor pid=11968)\u001b[0m For the old behavior, usually:\n",
      "\u001b[36m(ClientAppActor pid=11968)\u001b[0m     np.array(value).astype(dtype)\n",
      "\u001b[36m(ClientAppActor pid=11968)\u001b[0m will give the desired result (the cast overflows).\n",
      "\u001b[36m(ClientAppActor pid=11968)\u001b[0m   nparray = np.array(values, dtype=np_dt)\n"
     ]
    },
    {
     "name": "stdout",
     "output_type": "stream",
     "text": [
      "\u001b[1m 42/143\u001b[0m \u001b[32m━━━━━\u001b[0m\u001b[37m━━━━━━━━━━━━━━━\u001b[0m \u001b[1m0s\u001b[0m 2ms/step - accuracy: 0.9935 - loss: 0.0151 \n",
      "\u001b[36m(ClientAppActor pid=11970)\u001b[0m \u001b[33mClient 0 evaluation complete - Accuracy: 0.953704, Loss: 0.126213\u001b[0m\n",
      "\u001b[1m 43/143\u001b[0m \u001b[32m━━━━━━\u001b[0m\u001b[37m━━━━━━━━━━━━━━\u001b[0m \u001b[1m0s\u001b[0m 2ms/step - accuracy: 0.9968 - loss: 0.0099     \n"
     ]
    },
    {
     "name": "stderr",
     "output_type": "stream",
     "text": [
      "\u001b[92mINFO \u001b[0m:      aggregate_evaluate: received 5 results and 0 failures\n",
      "\u001b[92mINFO \u001b[0m:      \n",
      "\u001b[92mINFO \u001b[0m:      [ROUND 10]\n",
      "\u001b[92mINFO \u001b[0m:      configure_fit: strategy sampled 10 clients (out of 10)\n",
      "\u001b[36m(ClientAppActor pid=11972)\u001b[0m \n",
      "\u001b[36m(ClientAppActor pid=11972)\u001b[0m         \n",
      "\u001b[36m(ClientAppActor pid=11969)\u001b[0m \n",
      "\u001b[36m(ClientAppActor pid=11969)\u001b[0m         \n",
      "\u001b[36m(ClientAppActor pid=11971)\u001b[0m \n",
      "\u001b[36m(ClientAppActor pid=11971)\u001b[0m         \n",
      "\u001b[36m(ClientAppActor pid=11968)\u001b[0m \n",
      "\u001b[36m(ClientAppActor pid=11968)\u001b[0m         \n",
      "\u001b[36m(ClientAppActor pid=11970)\u001b[0m \n",
      "\u001b[36m(ClientAppActor pid=11970)\u001b[0m         \n",
      "\u001b[36m(ClientAppActor pid=11974)\u001b[0m \n",
      "\u001b[36m(ClientAppActor pid=11974)\u001b[0m         \n",
      "\u001b[36m(ClientAppActor pid=11973)\u001b[0m \n",
      "\u001b[36m(ClientAppActor pid=11973)\u001b[0m         \n",
      "\u001b[36m(ClientAppActor pid=11967)\u001b[0m \n",
      "\u001b[36m(ClientAppActor pid=11967)\u001b[0m         \n"
     ]
    },
    {
     "name": "stdout",
     "output_type": "stream",
     "text": [
      "\u001b[36m(ClientAppActor pid=11972)\u001b[0m Client  6 Training...\n",
      "\u001b[1m4/4\u001b[0m \u001b[32m━━━━━━━━━━━━━━━━━━━━\u001b[0m\u001b[37m\u001b[0m \u001b[1m2s\u001b[0m 17ms/step - accuracy: 0.8863 - loss: 0.2665\n",
      "\u001b[1m 39/143\u001b[0m \u001b[32m━━━━━\u001b[0m\u001b[37m━━━━━━━━━━━━━━━\u001b[0m \u001b[1m0s\u001b[0m 3ms/step - accuracy: 0.9935 - loss: 0.0272\n",
      "\u001b[1m4/4\u001b[0m \u001b[32m━━━━━━━━━━━━━━━━━━━━\u001b[0m\u001b[37m\u001b[0m \u001b[1m0s\u001b[0m 16ms/step - accuracy: 1.0000 - loss: 0.0070 \n",
      "\u001b[1m 32/143\u001b[0m \u001b[32m━━━━\u001b[0m\u001b[37m━━━━━━━━━━━━━━━━\u001b[0m \u001b[1m0s\u001b[0m 3ms/step - accuracy: 0.9900 - loss: 0.0347\n",
      "\u001b[36m(ClientAppActor pid=11970)\u001b[0m \n"
     ]
    },
    {
     "name": "stderr",
     "output_type": "stream",
     "text": [
      "\u001b[36m(ClientAppActor pid=11968)\u001b[0m \n",
      "\u001b[36m(ClientAppActor pid=11968)\u001b[0m         \n",
      "\u001b[36m(ClientAppActor pid=11969)\u001b[0m \n",
      "\u001b[36m(ClientAppActor pid=11969)\u001b[0m         \n"
     ]
    },
    {
     "name": "stdout",
     "output_type": "stream",
     "text": [
      "\u001b[1m 25/143\u001b[0m \u001b[32m━━━\u001b[0m\u001b[37m━━━━━━━━━━━━━━━━━\u001b[0m \u001b[1m0s\u001b[0m 4ms/step - accuracy: 0.9966 - loss: 0.0073   \n",
      "\u001b[1m 58/143\u001b[0m \u001b[32m━━━━━━━━\u001b[0m\u001b[37m━━━━━━━━━━━━\u001b[0m \u001b[1m0s\u001b[0m 3ms/step - accuracy: 0.9969 - loss: 0.0106\n",
      "\u001b[1m4/4\u001b[0m \u001b[32m━━━━━━━━━━━━━━━━━━━━\u001b[0m\u001b[37m\u001b[0m \u001b[1m0s\u001b[0m 21ms/step - accuracy: 1.0000 - loss: 0.0028\u001b[32m [repeated 10x across cluster]\u001b[0m\n",
      "\u001b[1m143/143\u001b[0m \u001b[32m━━━━━━━━━━━━━━━━━━━━\u001b[0m\u001b[37m\u001b[0m \u001b[1m3s\u001b[0m 4ms/step - accuracy: 0.9910 - loss: 0.0363\n",
      "\u001b[1m  1/143\u001b[0m \u001b[37m━━━━━━━━━━━━━━━━━━━━\u001b[0m \u001b[1m23s\u001b[0m 167ms/step - accuracy: 1.0000 - loss: 1.8867e-04\u001b[32m [repeated 23x across cluster]\u001b[0m\n",
      "\u001b[1m 20/143\u001b[0m \u001b[32m━━\u001b[0m\u001b[37m━━━━━━━━━━━━━━━━━━\u001b[0m \u001b[1m0s\u001b[0m 3ms/step - accuracy: 0.9995 - loss: 0.0048     \u001b[32m [repeated 13x across cluster]\u001b[0m\n",
      "\u001b[1m 57/143\u001b[0m \u001b[32m━━━━━━━\u001b[0m\u001b[37m━━━━━━━━━━━━━\u001b[0m \u001b[1m0s\u001b[0m 3ms/step - accuracy: 0.9988 - loss: 0.0063\u001b[32m [repeated 32x across cluster]\u001b[0m\n",
      "\u001b[1m143/143\u001b[0m \u001b[32m━━━━━━━━━━━━━━━━━━━━\u001b[0m\u001b[37m\u001b[0m \u001b[1m1s\u001b[0m 3ms/step - accuracy: 0.9970 - loss: 0.0089\u001b[32m [repeated 23x across cluster]\u001b[0m\n",
      "\u001b[36m(ClientAppActor pid=11970)\u001b[0m Client  0 Training complete...\u001b[32m [repeated 4x across cluster]\u001b[0m\n",
      "\u001b[36m(ClientAppActor pid=11973)\u001b[0m Epoch 3/5\u001b[32m [repeated 34x across cluster]\u001b[0m\n",
      "\u001b[36m(ClientAppActor pid=11968)\u001b[0m Client ID: 2\u001b[32m [repeated 13x across cluster]\u001b[0m\n",
      "\u001b[36m(ClientAppActor pid=11972)\u001b[0m Client  1 Evaluating...\u001b[32m [repeated 3x across cluster]\u001b[0m\n",
      "\u001b[1m 81/143\u001b[0m \u001b[32m━━━━━━━━━━━\u001b[0m\u001b[37m━━━━━━━━━\u001b[0m \u001b[1m0s\u001b[0m 3ms/step - accuracy: 0.9967 - loss: 0.0071\n"
     ]
    },
    {
     "name": "stderr",
     "output_type": "stream",
     "text": [
      "\u001b[36m(ClientAppActor pid=11969)\u001b[0m \u001b[93mWARNING \u001b[0m:   DEPRECATED FEATURE: `client_fn` now expects a signature `def client_fn(context: Context)`.The provided `client_fn` has signature: {'cid': <Parameter \"cid: str\">}. You can import the `Context` like this: `from flwr.common import Context`\u001b[32m [repeated 13x across cluster]\u001b[0m\n",
      "\u001b[36m(ClientAppActor pid=11969)\u001b[0m             This is a deprecated feature. It will be removed\u001b[32m [repeated 13x across cluster]\u001b[0m\n",
      "\u001b[36m(ClientAppActor pid=11969)\u001b[0m             entirely in future versions of Flower.\u001b[32m [repeated 13x across cluster]\u001b[0m\n",
      "\u001b[36m(ClientAppActor pid=11969)\u001b[0m /Users/user/Library/Python/3.9/lib/python/site-packages/keras/src/layers/reshaping/flatten.py:37: UserWarning: Do not pass an `input_shape`/`input_dim` argument to a layer. When using Sequential models, prefer using an `Input(shape)` object as the first layer in the model instead.\u001b[32m [repeated 13x across cluster]\u001b[0m\n",
      "\u001b[36m(ClientAppActor pid=11969)\u001b[0m   super().__init__(**kwargs)\u001b[32m [repeated 13x across cluster]\u001b[0m\n",
      "\u001b[36m(ClientAppActor pid=11968)\u001b[0m /Users/user/Library/Python/3.9/lib/python/site-packages/tensorflow/python/framework/tensor_util.py:522: DeprecationWarning: NumPy will stop allowing conversion of out-of-bound Python integers to integer arrays.  The conversion of 2147483648 to int32 will fail in the future.\u001b[32m [repeated 13x across cluster]\u001b[0m\n",
      "\u001b[36m(ClientAppActor pid=11968)\u001b[0m For the old behavior, usually:\u001b[32m [repeated 13x across cluster]\u001b[0m\n",
      "\u001b[36m(ClientAppActor pid=11968)\u001b[0m     np.array(value).astype(dtype)\u001b[32m [repeated 13x across cluster]\u001b[0m\n",
      "\u001b[36m(ClientAppActor pid=11968)\u001b[0m will give the desired result (the cast overflows).\u001b[32m [repeated 13x across cluster]\u001b[0m\n",
      "\u001b[36m(ClientAppActor pid=11968)\u001b[0m   nparray = np.array(values, dtype=np_dt)\u001b[32m [repeated 13x across cluster]\u001b[0m\n"
     ]
    },
    {
     "name": "stdout",
     "output_type": "stream",
     "text": [
      "\u001b[36m(ClientAppActor pid=11972)\u001b[0m \u001b[33mClient 1 evaluation complete - Accuracy: 0.993224, Loss: 0.016375\u001b[0m\u001b[32m [repeated 4x across cluster]\u001b[0m\n",
      "\u001b[1m 33/143\u001b[0m \u001b[32m━━━━\u001b[0m\u001b[37m━━━━━━━━━━━━━━━━\u001b[0m \u001b[1m0s\u001b[0m 3ms/step - accuracy: 0.9976 - loss: 0.0061\u001b[32m [repeated 3x across cluster]\u001b[0m\n",
      "\u001b[1m 18/143\u001b[0m \u001b[32m━━\u001b[0m\u001b[37m━━━━━━━━━━━━━━━━━━\u001b[0m \u001b[1m0s\u001b[0m 3ms/step - accuracy: 0.9989 - loss: 0.0052     \n",
      "\u001b[36m(ClientAppActor pid=11968)\u001b[0m Client  2 Training...\u001b[32m [repeated 9x across cluster]\u001b[0m\n"
     ]
    },
    {
     "name": "stderr",
     "output_type": "stream",
     "text": [
      "\u001b[92mINFO \u001b[0m:      aggregate_fit: received 10 results and 0 failures\n"
     ]
    },
    {
     "name": "stdout",
     "output_type": "stream",
     "text": [
      "Server Evaluating... Evaluation Count:10\n",
      "\u001b[1m8602/8602\u001b[0m \u001b[32m━━━━━━━━━━━━━━━━━━━━\u001b[0m\u001b[37m\u001b[0m \u001b[1m12s\u001b[0m 1ms/step - accuracy: 0.9902 - loss: 0.0336\n",
      "\u001b[1m8602/8602\u001b[0m \u001b[32m━━━━━━━━━━━━━━━━━━━━\u001b[0m\u001b[37m\u001b[0m \u001b[1m7s\u001b[0m 778us/step\n"
     ]
    },
    {
     "name": "stderr",
     "output_type": "stream",
     "text": [
      "\u001b[92mINFO \u001b[0m:      fit progress: (10, 0.032372571527957916, {'accuracy': 0.9904634952545166}, 310.079307936)\n",
      "\u001b[92mINFO \u001b[0m:      configure_evaluate: strategy sampled 5 clients (out of 10)\n"
     ]
    },
    {
     "name": "stdout",
     "output_type": "stream",
     "text": [
      "Prediction:  [[7.6157952e-10 9.9999994e-01]\n",
      " [2.2308679e-08 9.9999994e-01]\n",
      " [9.2948133e-10 9.9999994e-01]\n",
      " ...\n",
      " [8.5122537e-10 9.9999994e-01]\n",
      " [9.5859309e-10 1.0000000e+00]\n",
      " [2.2330306e-08 1.0000000e+00]] (275258, 2)\n",
      "\u001b[33mServer evaluation complete - Accuracy: 0.9905, Loss: 0.0324\u001b[0m\n",
      "\u001b[1m4/4\u001b[0m \u001b[32m━━━━━━━━━━━━━━━━━━━━\u001b[0m\u001b[37m\u001b[0m \u001b[1m2s\u001b[0m 21ms/step - accuracy: 0.9826 - loss: 0.1266\n",
      "\u001b[1m 62/143\u001b[0m \u001b[32m━━━━━━━━\u001b[0m\u001b[37m━━━━━━━━━━━━\u001b[0m \u001b[1m0s\u001b[0m 2ms/step - accuracy: 0.9960 - loss: 0.0096\u001b[32m [repeated 4x across cluster]\u001b[0m\n",
      "\u001b[1m 52/143\u001b[0m \u001b[32m━━━━━━━\u001b[0m\u001b[37m━━━━━━━━━━━━━\u001b[0m \u001b[1m0s\u001b[0m 2ms/step - accuracy: 0.9945 - loss: 0.0081   \n",
      "\u001b[1m4/4\u001b[0m \u001b[32m━━━━━━━━━━━━━━━━━━━━\u001b[0m\u001b[37m\u001b[0m \u001b[1m0s\u001b[0m 10ms/step - accuracy: 1.0000 - loss: 0.0024\u001b[32m [repeated 2x across cluster]\u001b[0m\n",
      "\u001b[1m  1/143\u001b[0m \u001b[37m━━━━━━━━━━━━━━━━━━━━\u001b[0m \u001b[1m3s\u001b[0m 25ms/step - accuracy: 1.0000 - loss: 9.2943e-04\u001b[32m [repeated 6x across cluster]\u001b[0m\n",
      "\u001b[1m 30/143\u001b[0m \u001b[32m━━━━\u001b[0m\u001b[37m━━━━━━━━━━━━━━━━\u001b[0m \u001b[1m0s\u001b[0m 2ms/step - accuracy: 0.9987 - loss: 0.0045 \u001b[32m [repeated 12x across cluster]\u001b[0m\n",
      "\u001b[1m143/143\u001b[0m \u001b[32m━━━━━━━━━━━━━━━━━━━━\u001b[0m\u001b[37m\u001b[0m \u001b[1m0s\u001b[0m 2ms/step - accuracy: 0.9975 - loss: 0.0059\u001b[32m [repeated 43x across cluster]\u001b[0m\n",
      "\u001b[1m143/143\u001b[0m \u001b[32m━━━━━━━━━━━━━━━━━━━━\u001b[0m\u001b[37m\u001b[0m \u001b[1m0s\u001b[0m 2ms/step - accuracy: 0.9957 - loss: 0.0102\u001b[32m [repeated 15x across cluster]\u001b[0m\n",
      "\u001b[36m(ClientAppActor pid=11969)\u001b[0m Client  1 Training complete...\u001b[32m [repeated 6x across cluster]\u001b[0m\n",
      "\u001b[36m(ClientAppActor pid=11969)\u001b[0m Epoch 5/5\u001b[32m [repeated 16x across cluster]\u001b[0m\n",
      "\u001b[36m(ClientAppActor pid=11967)\u001b[0m Client ID: 1\n",
      "\u001b[36m(ClientAppActor pid=11967)\u001b[0m Client  1 Evaluating...\n",
      "\u001b[1m115/143\u001b[0m \u001b[32m━━━━━━━━━━━━━━━━\u001b[0m\u001b[37m━━━━\u001b[0m \u001b[1m0s\u001b[0m 2ms/step - accuracy: 0.9978 - loss: 0.0054\u001b[32m [repeated 4x across cluster]\u001b[0m\n",
      "\u001b[36m(ClientAppActor pid=11969)\u001b[0m Client ID: 8\n",
      "\u001b[36m(ClientAppActor pid=11969)\u001b[0m Client  8 Evaluating...\n"
     ]
    },
    {
     "name": "stderr",
     "output_type": "stream",
     "text": [
      "\u001b[36m(ClientAppActor pid=11967)\u001b[0m \n",
      "\u001b[36m(ClientAppActor pid=11967)\u001b[0m         \n",
      "\u001b[36m(ClientAppActor pid=11967)\u001b[0m \u001b[93mWARNING \u001b[0m:   DEPRECATED FEATURE: `client_fn` now expects a signature `def client_fn(context: Context)`.The provided `client_fn` has signature: {'cid': <Parameter \"cid: str\">}. You can import the `Context` like this: `from flwr.common import Context`\n",
      "\u001b[36m(ClientAppActor pid=11967)\u001b[0m             This is a deprecated feature. It will be removed\n",
      "\u001b[36m(ClientAppActor pid=11967)\u001b[0m             entirely in future versions of Flower.\n",
      "\u001b[36m(ClientAppActor pid=11967)\u001b[0m /Users/user/Library/Python/3.9/lib/python/site-packages/keras/src/layers/reshaping/flatten.py:37: UserWarning: Do not pass an `input_shape`/`input_dim` argument to a layer. When using Sequential models, prefer using an `Input(shape)` object as the first layer in the model instead.\n",
      "\u001b[36m(ClientAppActor pid=11967)\u001b[0m   super().__init__(**kwargs)\n",
      "\u001b[36m(ClientAppActor pid=11969)\u001b[0m /Users/user/Library/Python/3.9/lib/python/site-packages/tensorflow/python/framework/tensor_util.py:522: DeprecationWarning: NumPy will stop allowing conversion of out-of-bound Python integers to integer arrays.  The conversion of 2147483648 to int32 will fail in the future.\n",
      "\u001b[36m(ClientAppActor pid=11969)\u001b[0m For the old behavior, usually:\n",
      "\u001b[36m(ClientAppActor pid=11969)\u001b[0m     np.array(value).astype(dtype)\n",
      "\u001b[36m(ClientAppActor pid=11969)\u001b[0m will give the desired result (the cast overflows).\n",
      "\u001b[36m(ClientAppActor pid=11969)\u001b[0m   nparray = np.array(values, dtype=np_dt)\n",
      "\u001b[36m(ClientAppActor pid=11968)\u001b[0m \u001b[93mWARNING \u001b[0m:   DEPRECATED FEATURE: `client_fn` now expects a signature `def client_fn(context: Context)`.The provided `client_fn` has signature: {'cid': <Parameter \"cid: str\">}. You can import the `Context` like this: `from flwr.common import Context`\n",
      "\u001b[36m(ClientAppActor pid=11968)\u001b[0m \n",
      "\u001b[36m(ClientAppActor pid=11968)\u001b[0m             This is a deprecated feature. It will be removed\n",
      "\u001b[36m(ClientAppActor pid=11968)\u001b[0m             entirely in future versions of Flower.\n",
      "\u001b[36m(ClientAppActor pid=11968)\u001b[0m         \n",
      "\u001b[36m(ClientAppActor pid=11968)\u001b[0m /Users/user/Library/Python/3.9/lib/python/site-packages/keras/src/layers/reshaping/flatten.py:37: UserWarning: Do not pass an `input_shape`/`input_dim` argument to a layer. When using Sequential models, prefer using an `Input(shape)` object as the first layer in the model instead.\n",
      "\u001b[36m(ClientAppActor pid=11968)\u001b[0m   super().__init__(**kwargs)\n",
      "\u001b[36m(ClientAppActor pid=11969)\u001b[0m \n",
      "\u001b[36m(ClientAppActor pid=11969)\u001b[0m         \n",
      "\u001b[36m(ClientAppActor pid=11971)\u001b[0m \n",
      "\u001b[36m(ClientAppActor pid=11971)\u001b[0m         \n",
      "\u001b[36m(ClientAppActor pid=11974)\u001b[0m \n",
      "\u001b[36m(ClientAppActor pid=11974)\u001b[0m         \n",
      "\u001b[36m(ClientAppActor pid=11967)\u001b[0m /Users/user/Library/Python/3.9/lib/python/site-packages/tensorflow/python/framework/tensor_util.py:522: DeprecationWarning: NumPy will stop allowing conversion of out-of-bound Python integers to integer arrays.  The conversion of 2147483648 to int32 will fail in the future.\n",
      "\u001b[36m(ClientAppActor pid=11967)\u001b[0m For the old behavior, usually:\n",
      "\u001b[36m(ClientAppActor pid=11967)\u001b[0m     np.array(value).astype(dtype)\n",
      "\u001b[36m(ClientAppActor pid=11967)\u001b[0m will give the desired result (the cast overflows).\n",
      "\u001b[36m(ClientAppActor pid=11967)\u001b[0m   nparray = np.array(values, dtype=np_dt)\n"
     ]
    },
    {
     "name": "stdout",
     "output_type": "stream",
     "text": [
      "\u001b[1m4/4\u001b[0m \u001b[32m━━━━━━━━━━━━━━━━━━━━\u001b[0m\u001b[37m\u001b[0m \u001b[1m0s\u001b[0m 11ms/step - accuracy: 0.8528 - loss: 0.4291 \n",
      "\u001b[36m(ClientAppActor pid=11969)\u001b[0m \u001b[33mClient 8 evaluation complete - Accuracy: 0.861111, Loss: 0.437581\u001b[0m\n"
     ]
    },
    {
     "name": "stderr",
     "output_type": "stream",
     "text": [
      "\u001b[92mINFO \u001b[0m:      aggregate_evaluate: received 5 results and 0 failures\n",
      "\u001b[92mINFO \u001b[0m:      \n",
      "\u001b[92mINFO \u001b[0m:      [SUMMARY]\n",
      "\u001b[92mINFO \u001b[0m:      Run finished 10 round(s) in 310.97s\n",
      "\u001b[92mINFO \u001b[0m:      \tHistory (loss, distributed):\n",
      "\u001b[92mINFO \u001b[0m:      \t\tround 1: 0.029984190733902894\n",
      "\u001b[92mINFO \u001b[0m:      \t\tround 2: 0.024200499123510192\n",
      "\u001b[92mINFO \u001b[0m:      \t\tround 3: 0.0367810641950551\n",
      "\u001b[92mINFO \u001b[0m:      \t\tround 4: 0.021766862863142958\n",
      "\u001b[92mINFO \u001b[0m:      \t\tround 5: 0.02871871732253206\n",
      "\u001b[92mINFO \u001b[0m:      \t\tround 6: 0.026786555536091328\n",
      "\u001b[92mINFO \u001b[0m:      \t\tround 7: 0.02019612396127909\n",
      "\u001b[92mINFO \u001b[0m:      \t\tround 8: 0.030828221768914633\n",
      "\u001b[92mINFO \u001b[0m:      \t\tround 9: 0.017687762904192352\n",
      "\u001b[92mINFO \u001b[0m:      \t\tround 10: 0.01865598860222157\n",
      "\u001b[92mINFO \u001b[0m:      \tHistory (loss, centralized):\n",
      "\u001b[92mINFO \u001b[0m:      \t\tround 0: 1.2993907928466797\n",
      "\u001b[92mINFO \u001b[0m:      \t\tround 1: 0.029791992157697678\n",
      "\u001b[92mINFO \u001b[0m:      \t\tround 2: 0.02541358768939972\n",
      "\u001b[92mINFO \u001b[0m:      \t\tround 3: 0.027668915688991547\n",
      "\u001b[92mINFO \u001b[0m:      \t\tround 4: 0.026309898123145103\n",
      "\u001b[92mINFO \u001b[0m:      \t\tround 5: 0.02862519584596157\n",
      "\u001b[92mINFO \u001b[0m:      \t\tround 6: 0.029197068884968758\n",
      "\u001b[92mINFO \u001b[0m:      \t\tround 7: 0.030949953943490982\n",
      "\u001b[92mINFO \u001b[0m:      \t\tround 8: 0.030511051416397095\n",
      "\u001b[92mINFO \u001b[0m:      \t\tround 9: 0.032088350504636765\n",
      "\u001b[92mINFO \u001b[0m:      \t\tround 10: 0.032372571527957916\n",
      "\u001b[92mINFO \u001b[0m:      \tHistory (metrics, centralized):\n",
      "\u001b[92mINFO \u001b[0m:      \t{'accuracy': [(0, 0.04725748300552368),\n",
      "\u001b[92mINFO \u001b[0m:      \t              (1, 0.9881965517997742),\n",
      "\u001b[92mINFO \u001b[0m:      \t              (2, 0.9895516037940979),\n",
      "\u001b[92mINFO \u001b[0m:      \t              (3, 0.9896097183227539),\n",
      "\u001b[92mINFO \u001b[0m:      \t              (4, 0.9900057315826416),\n",
      "\u001b[92mINFO \u001b[0m:      \t              (5, 0.9897478222846985),\n",
      "\u001b[92mINFO \u001b[0m:      \t              (6, 0.9900965690612793),\n",
      "\u001b[92mINFO \u001b[0m:      \t              (7, 0.9901074767112732),\n",
      "\u001b[92mINFO \u001b[0m:      \t              (8, 0.9903835654258728),\n",
      "\u001b[92mINFO \u001b[0m:      \t              (9, 0.9902164340019226),\n",
      "\u001b[92mINFO \u001b[0m:      \t              (10, 0.9904634952545166)]}\n",
      "\u001b[92mINFO \u001b[0m:      \n"
     ]
    },
    {
     "name": "stdout",
     "output_type": "stream",
     "text": [
      "Total time taken:  0:05:57.278023\n",
      "\u001b[33m SIMULATION COMPLETE. Method = ONE_CLASS - Binary (2) Classifier\n",
      "Number of Clients = 10\u001b[0m\n",
      "\n",
      "CPU times: user 4min 39s, sys: 33.5 s, total: 5min 12s\n",
      "Wall time: 5min 57s\n"
     ]
    }
   ],
   "source": [
    "%%time\n",
    "print (f\"{Colours.YELLOW.value}\\nDeploy simulation... Method = {METHOD} - {class_size_map[num_unique_classes]} ({class_size}) Classifier\")\n",
    "print (f\"Number of Clients = {NUM_OF_CLIENTS}\\n\")\n",
    "print (f\"Writing output to: {sub_dir_name}/{test_directory_name}\\n{Colours.NORMAL.value}\")\n",
    "\n",
    "with open(f\"Output/{sub_dir_name}/{test_directory_name}/Run_details.txt\", \"a\") as f:\n",
    "    f.write(f\"{datetime.datetime.now()} - Deploy simulation... Method = {METHOD} - {class_size_map[num_unique_classes]} ({class_size}) Classifier\\n\")\n",
    "    f.write(f\"{datetime.datetime.now()} - Number of Clients = {NUM_OF_CLIENTS}\\n\")\n",
    "\n",
    "    # Write Original train_df size\n",
    "    f.write(f\"{datetime.datetime.now()} - Original train_df size: {train_df_shape}\\n\")\n",
    "\n",
    "    # Write the training data split groups\n",
    "    for i in range(len(fl_X_train)):\n",
    "        f.write(f\"{datetime.datetime.now()} - {i}: X Shape {fl_X_train[i].shape}, Y Shape {fl_y_train[i].shape}\\n\")\n",
    "\n",
    "    # Write the testing data\n",
    "    f.write(f\"{datetime.datetime.now()} - X_test size: {X_test.shape}\\n\")\n",
    "    f.write(f\"{datetime.datetime.now()} - y_test size: {y_test.shape}\\n\")\n",
    "    \n",
    "# close the file\n",
    "f.close()\n",
    "\n",
    "start_time = datetime.datetime.now()\n",
    "\n",
    "# Start simulation\n",
    "fl.simulation.start_simulation(\n",
    "    client_fn=client_fn,\n",
    "    num_clients=NUM_OF_CLIENTS,\n",
    "    config=fl.server.ServerConfig(num_rounds=NUM_OF_ROUNDS),\n",
    "    strategy=strategy,\n",
    ")\n",
    "\n",
    "end_time = datetime.datetime.now()\n",
    "print(\"Total time taken: \", end_time - start_time)\n",
    "\n",
    "print (f\"{Colours.YELLOW.value} SIMULATION COMPLETE. Method = {METHOD} - {class_size_map[num_unique_classes]} ({class_size}) Classifier\")\n",
    "print (f\"Number of Clients = {NUM_OF_CLIENTS}{Colours.NORMAL.value}\\n\")\n",
    "\n",
    "# Output the same information to the Output/Run_details.txt file\n",
    "with open(f\"Output/{sub_dir_name}/{test_directory_name}/Run_details.txt\", \"a\") as f:\n",
    "    f.write(f\"{datetime.datetime.now()} - SIMULATION COMPLETE. Method = {METHOD} - {class_size_map[num_unique_classes]} ({class_size}) Classifier\\n\")\n",
    "    f.write(f\"{datetime.datetime.now()} - Total time taken: {end_time - start_time}\\n\")"
   ]
  },
  {
   "cell_type": "code",
   "execution_count": null,
   "metadata": {},
   "outputs": [],
   "source": [
    "def save_federated_model_to_pkl(server_model, scaler, output_dir=\"PKL\"):\n",
    "    \"\"\"\n",
    "    Lưu model federated learning đã train thành file pkl\n",
    "    Thêm function này vào cuối notebook Federated Learning\n",
    "    \"\"\"\n",
    "    import os\n",
    "    import pickle\n",
    "    import tensorflow as tf\n",
    "    \n",
    "    print(\"Saving federated learning model to PKL files...\")\n",
    "    \n",
    "    # Create output directory if it doesn't exist\n",
    "    if not os.path.exists(output_dir):\n",
    "        os.makedirs(output_dir)\n",
    "    \n",
    "    # Save the TensorFlow model\n",
    "    model_path = os.path.join(output_dir, \"federated_model.h5\")\n",
    "    server_model.save(model_path)\n",
    "    print(f\"TensorFlow model saved to: {model_path}\")\n",
    "    \n",
    "    # Save the scaler\n",
    "    scaler_path = os.path.join(output_dir, \"scaler.pkl\")\n",
    "    with open(scaler_path, 'wb') as f:\n",
    "        pickle.dump(scaler, f)\n",
    "    print(f\"Scaler saved to: {scaler_path}\")\n",
    "    \n",
    "    # Save model metadata\n",
    "    metadata = {\n",
    "        'model_type': 'TensorFlow_Federated',\n",
    "        'input_shape': server_model.input_shape,\n",
    "        'output_shape': server_model.output_shape,\n",
    "        'num_classes': server_model.output_shape[-1],\n",
    "        'feature_columns': X_columns,\n",
    "        'label_column': y_column,\n",
    "        'class_mappings': {\n",
    "            'dict_2_classes': dict_2_classes,\n",
    "            'dict_8_classes': dict_8_classes,\n",
    "            'dict_34_classes': dict_34_classes\n",
    "        },\n",
    "        'training_config': {\n",
    "            'method': METHOD,\n",
    "            'num_clients': NUM_OF_CLIENTS,\n",
    "            'num_rounds': NUM_OF_ROUNDS,\n",
    "            'class_size': class_size\n",
    "        }\n",
    "    }\n",
    "    \n",
    "    metadata_path = os.path.join(output_dir, \"federated_model_metadata.pkl\")\n",
    "    with open(metadata_path, 'wb') as f:\n",
    "        pickle.dump(metadata, f)\n",
    "    print(f\"Model metadata saved to: {metadata_path}\")\n",
    "    \n",
    "    print(f\"\\n=== Federated Learning Model Saved Successfully ===\")\n",
    "    print(f\"Model files saved in: {os.path.abspath(output_dir)}\")\n",
    "    print(\"You can now use the model for attack detection!\")\n",
    "    \n",
    "    return model_path, scaler_path, metadata_path"
   ]
  }
 ],
 "metadata": {
  "kernelspec": {
   "display_name": "Python 3",
   "language": "python",
   "name": "python3"
  },
  "language_info": {
   "codemirror_mode": {
    "name": "ipython",
    "version": 3
   },
   "file_extension": ".py",
   "mimetype": "text/x-python",
   "name": "python",
   "nbconvert_exporter": "python",
   "pygments_lexer": "ipython3",
   "version": "3.9.6"
  },
  "orig_nbformat": 4
 },
 "nbformat": 4,
 "nbformat_minor": 2
}
